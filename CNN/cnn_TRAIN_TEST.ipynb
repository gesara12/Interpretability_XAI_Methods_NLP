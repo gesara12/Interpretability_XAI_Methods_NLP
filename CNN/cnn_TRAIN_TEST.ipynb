{
  "nbformat": 4,
  "nbformat_minor": 5,
  "metadata": {
    "kernelspec": {
      "display_name": "Python 3",
      "language": "python",
      "name": "python3"
    },
    "language_info": {
      "codemirror_mode": {
        "name": "ipython",
        "version": 3
      },
      "file_extension": ".py",
      "mimetype": "text/x-python",
      "name": "python",
      "nbconvert_exporter": "python",
      "pygments_lexer": "ipython3",
      "version": "3.8.8"
    },
    "colab": {
      "name": "cnn_TRAIN_TEST.ipynb",
      "provenance": [],
      "collapsed_sections": []
    }
  },
  "cells": [
    {
      "cell_type": "markdown",
      "source": [
        "**CNN - Training and Testing**\n",
        "\n",
        "For CNN parameters we took into considerations results from: [Deep Convolutional Neural Network for Sentiment Analysis](https://machinelearningmastery.com/develop-word-embedding-model-predicting-movie-review-sentiment/),  [Best Practices for Text Classification with Deep Learning](https://machinelearningmastery.com/best-practices-document-classification-deep-learning/) and [Choose Optimal Number of Epochs to train neural network in Keras](https://www.geeksforgeeks.org/choose-optimal-number-of-epochs-to-train-a-neural-network-in-keras/#:~:text=Therefore%2C%20the%20optimal%20number%20of,values%20against%20number%20of%20epochs.)\n"
      ],
      "metadata": {
        "id": "5R44291GX6Wp"
      },
      "id": "5R44291GX6Wp"
    },
    {
      "cell_type": "code",
      "metadata": {
        "colab": {
          "base_uri": "https://localhost:8080/"
        },
        "id": "cPIA66e6OGKq",
        "outputId": "ba4c4190-11eb-4d82-c4a0-85ea540c09e2"
      },
      "source": [
        "from google.colab import drive\n",
        "drive.mount('/content/drive')"
      ],
      "id": "cPIA66e6OGKq",
      "execution_count": null,
      "outputs": [
        {
          "output_type": "stream",
          "name": "stdout",
          "text": [
            "Drive already mounted at /content/drive; to attempt to forcibly remount, call drive.mount(\"/content/drive\", force_remount=True).\n"
          ]
        }
      ]
    },
    {
      "cell_type": "code",
      "metadata": {
        "id": "hR-Xrf3HUbD1"
      },
      "source": [
        "import pickle\n",
        "import numpy as np\n",
        "import pandas as pd\n",
        "import seaborn as sn\n",
        "import tensorflow as tf\n",
        "from keras import callbacks\n",
        "import sklearn.metrics as metrics\n",
        "from sklearn.metrics import confusion_matrix\n",
        "from tensorflow.keras.models import Model\n",
        "from tensorflow.keras.layers import Input, Dense, Embedding, Conv1D, GlobalMaxPooling1D, Dropout"
      ],
      "id": "hR-Xrf3HUbD1",
      "execution_count": null,
      "outputs": []
    },
    {
      "cell_type": "markdown",
      "metadata": {
        "id": "8dfafbab"
      },
      "source": [
        "#### Read Dataset"
      ],
      "id": "8dfafbab"
    },
    {
      "cell_type": "code",
      "metadata": {
        "id": "43407b87-ff77-4ada-a4eb-26f174a54cd5"
      },
      "source": [
        "with open('/content/drive/MyDrive/MasterThesis/Dataset/train_padded', 'rb') as f:\n",
        "    train_padded = pickle.load(f)\n",
        "    \n",
        "with open('/content/drive/MyDrive/MasterThesis/Dataset/test_padded', 'rb') as f:\n",
        "    test_padded = pickle.load(f)    "
      ],
      "id": "43407b87-ff77-4ada-a4eb-26f174a54cd5",
      "execution_count": null,
      "outputs": []
    },
    {
      "cell_type": "code",
      "metadata": {
        "id": "f7ce2fc5"
      },
      "source": [
        "train_labels = pd.read_csv('/content/drive/MyDrive/MasterThesis/Dataset/y_train_all.csv')\n",
        "test_labels =  pd.read_csv('/content/drive/MyDrive/MasterThesis/Dataset/y_test_all.csv')\n",
        "y_train = train_labels.rate\n",
        "y_test = test_labels.rate"
      ],
      "id": "f7ce2fc5",
      "execution_count": null,
      "outputs": []
    },
    {
      "cell_type": "markdown",
      "metadata": {
        "id": "8b205ced"
      },
      "source": [
        "#### CNN "
      ],
      "id": "8b205ced"
    },
    {
      "cell_type": "code",
      "metadata": {
        "id": "f4d4c733-5a20-49c9-b23e-587359fbf5f7"
      },
      "source": [
        "max_features = 20646 \n",
        "max_length = 50 #also decided in data preparation notebook\n",
        "\n",
        "#decided based on the reference blogs\n",
        "embedding_dims = 100\n",
        "filters = 128\n",
        "kernel_size = 5\n",
        "hidden_dims = 10"
      ],
      "id": "f4d4c733-5a20-49c9-b23e-587359fbf5f7",
      "execution_count": null,
      "outputs": []
    },
    {
      "cell_type": "code",
      "metadata": {
        "id": "1a0625a8-c8a4-4456-8990-6825422bc459"
      },
      "source": [
        "#building the model\n",
        "inputs = Input(shape=(max_length,), dtype=tf.int32)\n",
        "embedded_sequences = Embedding(max_features,\n",
        "                                   embedding_dims)(inputs)\n",
        "out = Conv1D(filters,\n",
        "                 kernel_size,\n",
        "                 padding='valid',\n",
        "                 activation='relu',\n",
        "                 strides=1)(embedded_sequences)\n",
        "\n",
        "out = Dropout(0.4)(out)\n",
        "out = GlobalMaxPooling1D()(out)\n",
        "out = Dense(hidden_dims,\n",
        "                activation='relu')(out)\n",
        "out = Dropout(0.4)(out)\n",
        "outputs = Dense(1, activation='sigmoid')(out)\n",
        "\n",
        "model = Model(inputs=inputs, outputs=outputs)\n",
        "model.compile(loss='binary_crossentropy',\n",
        "                  optimizer='adam',\n",
        "                  metrics=['accuracy'])"
      ],
      "id": "1a0625a8-c8a4-4456-8990-6825422bc459",
      "execution_count": null,
      "outputs": []
    },
    {
      "cell_type": "code",
      "metadata": {
        "id": "3903eed8-21ed-4b98-a17c-61250109aac3",
        "colab": {
          "base_uri": "https://localhost:8080/"
        },
        "outputId": "7265ab8a-f01e-458d-dd18-096ef6077f7b"
      },
      "source": [
        "model.summary()"
      ],
      "id": "3903eed8-21ed-4b98-a17c-61250109aac3",
      "execution_count": null,
      "outputs": [
        {
          "output_type": "stream",
          "name": "stdout",
          "text": [
            "Model: \"model_1\"\n",
            "_________________________________________________________________\n",
            " Layer (type)                Output Shape              Param #   \n",
            "=================================================================\n",
            " input_2 (InputLayer)        [(None, 50)]              0         \n",
            "                                                                 \n",
            " embedding_1 (Embedding)     (None, 50, 100)           2064600   \n",
            "                                                                 \n",
            " conv1d_1 (Conv1D)           (None, 46, 128)           64128     \n",
            "                                                                 \n",
            " dropout_2 (Dropout)         (None, 46, 128)           0         \n",
            "                                                                 \n",
            " global_max_pooling1d_1 (Glo  (None, 128)              0         \n",
            " balMaxPooling1D)                                                \n",
            "                                                                 \n",
            " dense_2 (Dense)             (None, 10)                1290      \n",
            "                                                                 \n",
            " dropout_3 (Dropout)         (None, 10)                0         \n",
            "                                                                 \n",
            " dense_3 (Dense)             (None, 1)                 11        \n",
            "                                                                 \n",
            "=================================================================\n",
            "Total params: 2,130,029\n",
            "Trainable params: 2,130,029\n",
            "Non-trainable params: 0\n",
            "_________________________________________________________________\n"
          ]
        }
      ]
    },
    {
      "cell_type": "markdown",
      "source": [
        "**Choosing batch_size and epoch numbers**\n",
        "\n",
        "In this part we will try to choose the best batch size and number of epochs for which we have the best accuracy, without overfitting. We will be using a batch size of 32, as smaller sires generalize better. And to find the best combination with number of epoch, we will assign eppoch to 25 and use EarlyStoping() function to stop the training in the moment when the model starts overfitting.\n"
      ],
      "metadata": {
        "id": "-eesO-5SFMqi"
      },
      "id": "-eesO-5SFMqi"
    },
    {
      "cell_type": "code",
      "source": [
        "#patience = 5 --> wait until five epochs to see if the results are improving\n",
        "#restore_best_weights ---> despite number of epochs including in the training, reset the weights from the best one for the model.\n",
        "earlystopping = callbacks.EarlyStopping(monitor =\"val_loss\", mode =\"min\", patience = 5, restore_best_weights = True)"
      ],
      "metadata": {
        "id": "_IRy_vVsFL5F"
      },
      "id": "_IRy_vVsFL5F",
      "execution_count": null,
      "outputs": []
    },
    {
      "cell_type": "code",
      "source": [
        "#batch_size = 32\n",
        "history = model.fit(train_padded, y_train, batch_size=32, epochs=25, validation_split=0.1, callbacks =[earlystopping])\n",
        "\n",
        "#save results\n",
        "with open('/content/drive/MyDrive/MasterThesis/Dataset/CNN_epoch_batch/batch_32', 'wb') as file_pi:\n",
        "        pickle.dump(history.history, file_pi)"
      ],
      "metadata": {
        "colab": {
          "base_uri": "https://localhost:8080/"
        },
        "id": "ALX5lgCEFRz0",
        "outputId": "c02b32fa-3a3b-489c-afd9-a3244f54f5a6"
      },
      "id": "ALX5lgCEFRz0",
      "execution_count": null,
      "outputs": [
        {
          "output_type": "stream",
          "name": "stdout",
          "text": [
            "Epoch 1/25\n",
            "460/460 [==============================] - 41s 86ms/step - loss: 0.4242 - accuracy: 0.8060 - val_loss: 0.3100 - val_accuracy: 0.8837\n",
            "Epoch 2/25\n",
            "460/460 [==============================] - 26s 56ms/step - loss: 0.2264 - accuracy: 0.9282 - val_loss: 0.2876 - val_accuracy: 0.8788\n",
            "Epoch 3/25\n",
            "460/460 [==============================] - 24s 53ms/step - loss: 0.1295 - accuracy: 0.9677 - val_loss: 0.3086 - val_accuracy: 0.8800\n",
            "Epoch 4/25\n",
            "460/460 [==============================] - 23s 51ms/step - loss: 0.0788 - accuracy: 0.9848 - val_loss: 0.3317 - val_accuracy: 0.8758\n",
            "Epoch 5/25\n",
            "460/460 [==============================] - 24s 53ms/step - loss: 0.0487 - accuracy: 0.9923 - val_loss: 0.3837 - val_accuracy: 0.8635\n",
            "Epoch 6/25\n",
            "460/460 [==============================] - 24s 51ms/step - loss: 0.0372 - accuracy: 0.9949 - val_loss: 0.4155 - val_accuracy: 0.8733\n",
            "Epoch 7/25\n",
            "460/460 [==============================] - 25s 55ms/step - loss: 0.0311 - accuracy: 0.9947 - val_loss: 0.4843 - val_accuracy: 0.8739\n"
          ]
        }
      ]
    },
    {
      "cell_type": "markdown",
      "metadata": {
        "id": "1fade9ed-4ea8-436d-8357-520e651321b4"
      },
      "source": [
        "**Testing**"
      ],
      "id": "1fade9ed-4ea8-436d-8357-520e651321b4"
    },
    {
      "cell_type": "code",
      "metadata": {
        "id": "465df97f-b068-4886-b737-18197fbdf04c"
      },
      "source": [
        "predictions = model.predict(test_padded)"
      ],
      "id": "465df97f-b068-4886-b737-18197fbdf04c",
      "execution_count": null,
      "outputs": []
    },
    {
      "cell_type": "code",
      "source": [
        "#with open('/content/drive/MyDrive/MasterThesis/Dataset/cnn_pred_propab1', 'wb') as f:\n",
        " #   pickle.dump(predictions, f)   "
      ],
      "metadata": {
        "id": "VhnuuhB2rHFz"
      },
      "id": "VhnuuhB2rHFz",
      "execution_count": null,
      "outputs": []
    },
    {
      "cell_type": "code",
      "metadata": {
        "id": "f04edd32-c031-437a-af93-0610b462fa55"
      },
      "source": [
        "flat_pred = np.concatenate(predictions, axis=0)\n",
        "\n",
        "y_pred = []\n",
        "for pred in flat_pred:\n",
        "    y_pred.append(round(pred))"
      ],
      "id": "f04edd32-c031-437a-af93-0610b462fa55",
      "execution_count": null,
      "outputs": []
    },
    {
      "cell_type": "code",
      "metadata": {
        "id": "YE9frrbIY5M8"
      },
      "source": [
        "with open('/content/drive/MyDrive/MasterThesis/Dataset/cnn_pred_flat1', 'wb') as f:\n",
        "    pickle.dump(y_pred, f)   "
      ],
      "id": "YE9frrbIY5M8",
      "execution_count": null,
      "outputs": []
    },
    {
      "cell_type": "code",
      "metadata": {
        "id": "8a6edd6f-1b5e-4aeb-b653-f68bfbc0e2c7",
        "colab": {
          "base_uri": "https://localhost:8080/",
          "height": 283
        },
        "outputId": "5febc4ce-fda2-4386-9a0a-48dd1d3e8d00"
      },
      "source": [
        "cf_matrix = confusion_matrix(y_test, y_pred)\n",
        "sn.heatmap(cf_matrix/np.sum(cf_matrix), annot=True, \n",
        "            fmt='.2%', cmap='Blues')"
      ],
      "id": "8a6edd6f-1b5e-4aeb-b653-f68bfbc0e2c7",
      "execution_count": null,
      "outputs": [
        {
          "output_type": "execute_result",
          "data": {
            "text/plain": [
              "<matplotlib.axes._subplots.AxesSubplot at 0x7f82e4bd8490>"
            ]
          },
          "metadata": {},
          "execution_count": 14
        },
        {
          "output_type": "display_data",
          "data": {
            "image/png": "[encoded data removed]",
            "text/plain": [
              "<Figure size 432x288 with 2 Axes>"
            ]
          },
          "metadata": {
            "needs_background": "light"
          }
        }
      ]
    },
    {
      "cell_type": "code",
      "metadata": {
        "id": "ba63709d-993d-4378-a168-81706a44e02a",
        "colab": {
          "base_uri": "https://localhost:8080/"
        },
        "outputId": "0bc44457-db2a-4c11-af77-3a8028500c81"
      },
      "source": [
        "print (metrics.classification_report(y_test, y_pred))"
      ],
      "id": "ba63709d-993d-4378-a168-81706a44e02a",
      "execution_count": null,
      "outputs": [
        {
          "output_type": "stream",
          "name": "stdout",
          "text": [
            "              precision    recall  f1-score   support\n",
            "\n",
            "           0       0.84      0.94      0.89      2038\n",
            "           1       0.93      0.82      0.87      2045\n",
            "\n",
            "    accuracy                           0.88      4083\n",
            "   macro avg       0.88      0.88      0.88      4083\n",
            "weighted avg       0.88      0.88      0.88      4083\n",
            "\n"
          ]
        }
      ]
    },
    {
      "cell_type": "code",
      "metadata": {
        "id": "b29eb02e-a8f9-45af-b7df-dc7385a1ab64"
      },
      "source": [
        "from keras.models import load_model\n",
        "model.save('/content/drive/MyDrive/MasterThesis/CNN/cnn.h5')"
      ],
      "id": "b29eb02e-a8f9-45af-b7df-dc7385a1ab64",
      "execution_count": null,
      "outputs": []
    },
    {
      "cell_type": "code",
      "metadata": {
        "id": "fe193faf"
      },
      "source": [
        "with open('/content/drive/MyDrive/MasterThesis/Dataset/cnn_pred', 'wb') as f:\n",
        "    pickle.dump(y_pred, f)    "
      ],
      "id": "fe193faf",
      "execution_count": null,
      "outputs": []
    }
  ]
}