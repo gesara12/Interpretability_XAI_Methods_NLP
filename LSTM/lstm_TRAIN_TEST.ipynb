{
  "nbformat": 4,
  "nbformat_minor": 5,
  "metadata": {
    "colab": {
      "name": "lstm_TRAIN_TEST.ipynb",
      "provenance": [],
      "collapsed_sections": []
    },
    "kernelspec": {
      "display_name": "Python 3",
      "language": "python",
      "name": "python3"
    },
    "language_info": {
      "codemirror_mode": {
        "name": "ipython",
        "version": 3
      },
      "file_extension": ".py",
      "mimetype": "text/x-python",
      "name": "python",
      "nbconvert_exporter": "python",
      "pygments_lexer": "ipython3",
      "version": "3.8.8"
    }
  },
  "cells": [
    {
      "cell_type": "markdown",
      "source": [
        "**LSTM - Trainign and Testing**\n",
        "\n",
        "For LSTM parameters we took into considerations results and recommendations from [LSTM for Text Classification in Python](https://www.analyticsvidhya.com/blog/2021/06/lstm-for-text-classification/), [Binary LSTM model for text classification](https://pythonawesome.com/binary-lstm-model-for-text-classification/) and [Choose optimal number of epochs to train a neural network in Keras](https://www.geeksforgeeks.org/choose-optimal-number-of-epochs-to-train-a-neural-network-in-keras/#:~:text=Therefore%2C%20the%20optimal%20number%20of,values%20against%20number%20of%20epochs.)"
      ],
      "metadata": {
        "id": "4UnQjCcBo_It"
      },
      "id": "4UnQjCcBo_It"
    },
    {
      "cell_type": "code",
      "metadata": {
        "colab": {
          "base_uri": "https://localhost:8080/"
        },
        "id": "lvMYGI9RsbN0",
        "outputId": "ad5b50b8-83f7-484b-ffa2-d3da0d212897"
      },
      "source": [
        "from google.colab import drive\n",
        "drive.mount('/content/drive')"
      ],
      "id": "lvMYGI9RsbN0",
      "execution_count": null,
      "outputs": [
        {
          "output_type": "stream",
          "name": "stdout",
          "text": [
            "Drive already mounted at /content/drive; to attempt to forcibly remount, call drive.mount(\"/content/drive\", force_remount=True).\n"
          ]
        }
      ]
    },
    {
      "cell_type": "code",
      "metadata": {
        "id": "xrVEi_7Rsl7t"
      },
      "source": [
        "import pickle\n",
        "import pandas as pd\n",
        "import numpy as np\n",
        "import seaborn as sn\n",
        "import tensorflow as tf\n",
        "from keras import callbacks\n",
        "import sklearn.metrics as metrics\n",
        "from sklearn.metrics import confusion_matrix\n",
        "from tensorflow.keras.models import Model\n",
        "from tensorflow.keras.layers import Input, Embedding, LSTM, Dense, Dropout, LSTM, Activation"
      ],
      "id": "xrVEi_7Rsl7t",
      "execution_count": null,
      "outputs": []
    },
    {
      "cell_type": "markdown",
      "metadata": {
        "id": "1b80e23a-071f-4b8e-9c11-e6613b3b450a"
      },
      "source": [
        "**Read datasets**"
      ],
      "id": "1b80e23a-071f-4b8e-9c11-e6613b3b450a"
    },
    {
      "cell_type": "code",
      "metadata": {
        "id": "5becc821"
      },
      "source": [
        "#the dataset is already padded and saved in g-drive from data preparation notebook\n",
        "\n",
        "with open('/content/drive/MyDrive/MasterThesis/Dataset/train_padded', 'rb') as f:\n",
        "    train_padded = pickle.load(f)\n",
        "    \n",
        "with open('/content/drive/MyDrive/MasterThesis/Dataset/test_padded', 'rb') as f:\n",
        "    test_padded = pickle.load(f)    "
      ],
      "id": "5becc821",
      "execution_count": null,
      "outputs": []
    },
    {
      "cell_type": "code",
      "metadata": {
        "id": "f0eaef5d"
      },
      "source": [
        "train_labels = pd.read_csv('/content/drive/MyDrive/MasterThesis/Dataset/y_train_all.csv')\n",
        "test_labels =  pd.read_csv('/content/drive/MyDrive/MasterThesis/Dataset/y_test_all.csv')\n",
        "y_train = train_labels.rate\n",
        "y_test = test_labels.rate"
      ],
      "id": "f0eaef5d",
      "execution_count": null,
      "outputs": []
    },
    {
      "cell_type": "markdown",
      "metadata": {
        "id": "ed616b6f-fd01-4824-a4d7-aab38be5e371"
      },
      "source": [
        "**LSTM**"
      ],
      "id": "ed616b6f-fd01-4824-a4d7-aab38be5e371"
    },
    {
      "cell_type": "code",
      "metadata": {
        "id": "6ee21d5d"
      },
      "source": [
        "max_length = 50\n",
        "max_features = 20646"
      ],
      "id": "6ee21d5d",
      "execution_count": null,
      "outputs": []
    },
    {
      "cell_type": "code",
      "metadata": {
        "id": "55845499-b6a8-431e-b267-8e5974fd61a9"
      },
      "source": [
        "#Building LSTM\n",
        "inputs = Input(shape=(max_length,), dtype=tf.int32)\n",
        "embeddings = Embedding(max_features, 100)(inputs)\n",
        "out = LSTM(128, dropout=0.1)(embeddings)\n",
        "outputs = Dense(1, activation=\"sigmoid\")(out)\n",
        "model = Model(inputs=inputs, outputs=outputs)\n",
        "model.compile(loss=\"binary_crossentropy\", optimizer='adam', metrics=[\"accuracy\"])"
      ],
      "id": "55845499-b6a8-431e-b267-8e5974fd61a9",
      "execution_count": null,
      "outputs": []
    },
    {
      "cell_type": "code",
      "metadata": {
        "colab": {
          "base_uri": "https://localhost:8080/"
        },
        "id": "d8ffbb0c-a20c-4f4a-94ec-6a81bc20bae0",
        "outputId": "ea8e1c94-220c-4d4e-92d0-1a48be0af493"
      },
      "source": [
        "model.summary()"
      ],
      "id": "d8ffbb0c-a20c-4f4a-94ec-6a81bc20bae0",
      "execution_count": null,
      "outputs": [
        {
          "output_type": "stream",
          "name": "stdout",
          "text": [
            "Model: \"model_1\"\n",
            "_________________________________________________________________\n",
            " Layer (type)                Output Shape              Param #   \n",
            "=================================================================\n",
            " input_2 (InputLayer)        [(None, 50)]              0         \n",
            "                                                                 \n",
            " embedding_1 (Embedding)     (None, 50, 100)           2064600   \n",
            "                                                                 \n",
            " lstm_1 (LSTM)               (None, 128)               117248    \n",
            "                                                                 \n",
            " dense_1 (Dense)             (None, 1)                 129       \n",
            "                                                                 \n",
            "=================================================================\n",
            "Total params: 2,181,977\n",
            "Trainable params: 2,181,977\n",
            "Non-trainable params: 0\n",
            "_________________________________________________________________\n"
          ]
        }
      ]
    },
    {
      "cell_type": "markdown",
      "metadata": {
        "id": "582b2b46-880f-4aed-a583-4b67c78d1712"
      },
      "source": [
        "**Choosing batch_size and epoch numbers**\n",
        "\n",
        "In this part we will try to choose the best batch size and number of epochs for which we have the best accuracy, without overfitting. We will be using a batch size of 32, as smaller sires generalize better. And to find the best combination with number of epoch, we will assign eppoch to 25 and use EarlyStoping() function to stop the training in the moment when the model starts overfitting."
      ],
      "id": "582b2b46-880f-4aed-a583-4b67c78d1712"
    },
    {
      "cell_type": "code",
      "metadata": {
        "id": "d7ee4c41-24ce-44b0-acda-600f46001d9c"
      },
      "source": [
        "#patience = 5 --> wait until five epochs to see if the results are improving\n",
        "#restore_best_weights ---> despite number of epochs including in the training, reset the weights from the best one for the model.\n",
        "earlystopping = callbacks.EarlyStopping(monitor =\"val_loss\", mode =\"min\", patience = 5, restore_best_weights = True)"
      ],
      "id": "d7ee4c41-24ce-44b0-acda-600f46001d9c",
      "execution_count": null,
      "outputs": []
    },
    {
      "cell_type": "code",
      "source": [
        "#batch_size = 32\n",
        "history = model.fit(train_padded, y_train, batch_size=32, epochs=25, validation_split=0.1, callbacks =[earlystopping])\n",
        "\n",
        "#save results\n",
        "with open('/content/drive/MyDrive/MasterThesis/Dataset/LSTM_epoch_batch/batch_32', 'wb') as file_pi:\n",
        "        pickle.dump(history.history, file_pi)"
      ],
      "metadata": {
        "colab": {
          "base_uri": "https://localhost:8080/"
        },
        "id": "qDibkW3ztPTS",
        "outputId": "76dc42da-2639-4131-deb6-9a9fc7e7396b"
      },
      "id": "qDibkW3ztPTS",
      "execution_count": null,
      "outputs": [
        {
          "output_type": "stream",
          "name": "stdout",
          "text": [
            "Epoch 1/25\n",
            "460/460 [==============================] - 68s 136ms/step - loss: 0.3390 - accuracy: 0.8463 - val_loss: 0.2327 - val_accuracy: 0.9064\n",
            "Epoch 2/25\n",
            "460/460 [==============================] - 46s 101ms/step - loss: 0.1439 - accuracy: 0.9518 - val_loss: 0.2704 - val_accuracy: 0.8960\n",
            "Epoch 3/25\n",
            "460/460 [==============================] - 49s 107ms/step - loss: 0.0872 - accuracy: 0.9747 - val_loss: 0.2798 - val_accuracy: 0.8874\n",
            "Epoch 4/25\n",
            "460/460 [==============================] - 46s 100ms/step - loss: 0.0621 - accuracy: 0.9824 - val_loss: 0.4334 - val_accuracy: 0.8758\n",
            "Epoch 5/25\n",
            "460/460 [==============================] - 46s 101ms/step - loss: 0.0456 - accuracy: 0.9875 - val_loss: 0.4568 - val_accuracy: 0.8825\n",
            "Epoch 6/25\n",
            "460/460 [==============================] - 46s 100ms/step - loss: 0.0402 - accuracy: 0.9893 - val_loss: 0.4111 - val_accuracy: 0.8905\n"
          ]
        }
      ]
    },
    {
      "cell_type": "markdown",
      "metadata": {
        "id": "84b3a313-f6a7-4980-bcec-b49292a6fb68"
      },
      "source": [
        "**Testing**"
      ],
      "id": "84b3a313-f6a7-4980-bcec-b49292a6fb68"
    },
    {
      "cell_type": "code",
      "metadata": {
        "id": "ba431c89-0ffe-499e-90f7-6a45a0835749"
      },
      "source": [
        "predictions = model.predict(test_padded) "
      ],
      "id": "ba431c89-0ffe-499e-90f7-6a45a0835749",
      "execution_count": null,
      "outputs": []
    },
    {
      "cell_type": "code",
      "source": [
        "with open('/content/drive/MyDrive/MasterThesis/Dataset/lstm_pred_propab', 'wb') as f:\n",
        "    pickle.dump(predictions, f)   "
      ],
      "metadata": {
        "id": "vMrL9aNmq4ss"
      },
      "id": "vMrL9aNmq4ss",
      "execution_count": null,
      "outputs": []
    },
    {
      "cell_type": "code",
      "metadata": {
        "id": "aa0d0bc3-45fc-4b08-a914-c4d16c33293d"
      },
      "source": [
        "flat_pred = np.concatenate( predictions, axis=0 )\n",
        "y_pred = []\n",
        "for pred in flat_pred:\n",
        "    y_pred.append(round(pred))"
      ],
      "id": "aa0d0bc3-45fc-4b08-a914-c4d16c33293d",
      "execution_count": null,
      "outputs": []
    },
    {
      "cell_type": "code",
      "source": [
        "with open('/content/drive/MyDrive/MasterThesis/Dataset/lstm_pred_flat', 'wb') as f:\n",
        "    pickle.dump(y_pred, f)   "
      ],
      "metadata": {
        "id": "fnD7zBOyWKzN"
      },
      "id": "fnD7zBOyWKzN",
      "execution_count": null,
      "outputs": []
    },
    {
      "cell_type": "code",
      "metadata": {
        "colab": {
          "base_uri": "https://localhost:8080/",
          "height": 283
        },
        "id": "4550e043-8969-45f3-8693-b33e83319187",
        "outputId": "934b8a63-8fa1-48d0-ca61-54e89c8efe67"
      },
      "source": [
        "cf_matrix = confusion_matrix(y_test, y_pred)\n",
        "sn.heatmap(cf_matrix/np.sum(cf_matrix), annot=True, \n",
        "            fmt='.2%', cmap='Blues')"
      ],
      "id": "4550e043-8969-45f3-8693-b33e83319187",
      "execution_count": null,
      "outputs": [
        {
          "output_type": "execute_result",
          "data": {
            "text/plain": [
              "<matplotlib.axes._subplots.AxesSubplot at 0x7f9bfb59f210>"
            ]
          },
          "metadata": {},
          "execution_count": 14
        },
        {
          "output_type": "display_data",
          "data": {
            "image/png": "[encoded data removed]",
            "text/plain": [
              "<Figure size 432x288 with 2 Axes>"
            ]
          },
          "metadata": {
            "needs_background": "light"
          }
        }
      ]
    },
    {
      "cell_type": "code",
      "metadata": {
        "colab": {
          "base_uri": "https://localhost:8080/"
        },
        "id": "b411b329-5ca0-4767-a215-a3c43e001326",
        "outputId": "9edf7323-54b1-44cc-bcfc-63a4aa447a3b"
      },
      "source": [
        "print (metrics.classification_report(y_test, y_pred))"
      ],
      "id": "b411b329-5ca0-4767-a215-a3c43e001326",
      "execution_count": null,
      "outputs": [
        {
          "output_type": "stream",
          "name": "stdout",
          "text": [
            "              precision    recall  f1-score   support\n",
            "\n",
            "           0       0.90      0.92      0.91      2038\n",
            "           1       0.92      0.90      0.91      2045\n",
            "\n",
            "    accuracy                           0.91      4083\n",
            "   macro avg       0.91      0.91      0.91      4083\n",
            "weighted avg       0.91      0.91      0.91      4083\n",
            "\n"
          ]
        }
      ]
    },
    {
      "cell_type": "code",
      "metadata": {
        "id": "0359780b-0b8a-49eb-a210-12668db45257"
      },
      "source": [
        "from keras.models import load_model\n",
        "model.save('/content/drive/MyDrive/MasterThesis/LSTM/lstm.h5')"
      ],
      "id": "0359780b-0b8a-49eb-a210-12668db45257",
      "execution_count": null,
      "outputs": []
    },
    {
      "cell_type": "code",
      "metadata": {
        "id": "22c7d9c9"
      },
      "source": [
        "with open('/content/drive/MyDrive/MasterThesis/Dataset/lstm_pred', 'wb') as f:\n",
        "    pickle.dump(y_pred, f)    "
      ],
      "id": "22c7d9c9",
      "execution_count": null,
      "outputs": []
    }
  ]
}