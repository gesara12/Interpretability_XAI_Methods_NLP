{
  "cells": [
    {
      "cell_type": "markdown",
      "source": [
        "As a reference for this notebook will be used [Integrated gradients for transformers models](https://docs.seldon.io/projects/alibi/en/stable/examples/integrated_gradients_transformers.html)"
      ],
      "metadata": {
        "id": "BAVeXNeVoGXK"
      }
    },
    {
      "cell_type": "code",
      "execution_count": 6,
      "metadata": {
        "colab": {
          "base_uri": "https://localhost:8080/"
        },
        "id": "7XUV81MDrQD6",
        "outputId": "ade2fd05-4f49-4c77-907f-8970f1713a0f"
      },
      "outputs": [
        {
          "output_type": "stream",
          "name": "stdout",
          "text": [
            "Drive already mounted at /content/drive; to attempt to forcibly remount, call drive.mount(\"/content/drive\", force_remount=True).\n"
          ]
        }
      ],
      "source": [
        "from google.colab import drive\n",
        "drive.mount('/content/drive')"
      ]
    },
    {
      "cell_type": "code",
      "execution_count": 7,
      "metadata": {
        "id": "vqfbBfg4rXkF",
        "colab": {
          "base_uri": "https://localhost:8080/"
        },
        "outputId": "7c988707-b34c-4bcb-e912-48c13d040aac"
      },
      "outputs": [
        {
          "output_type": "stream",
          "name": "stdout",
          "text": [
            "\u001b[K     |████████████████████████████████| 3.5 MB 5.3 MB/s \n",
            "\u001b[K     |████████████████████████████████| 596 kB 45.2 MB/s \n",
            "\u001b[K     |████████████████████████████████| 67 kB 4.7 MB/s \n",
            "\u001b[K     |████████████████████████████████| 895 kB 44.0 MB/s \n",
            "\u001b[K     |████████████████████████████████| 6.8 MB 32.0 MB/s \n",
            "\u001b[?25h"
          ]
        }
      ],
      "source": [
        "pip install -q transformers"
      ]
    },
    {
      "cell_type": "code",
      "execution_count": 8,
      "metadata": {
        "id": "PZ34hJQ4qB8F",
        "colab": {
          "base_uri": "https://localhost:8080/"
        },
        "outputId": "3982a185-6871-45e4-ac7c-f5a65dbecc92"
      },
      "outputs": [
        {
          "output_type": "stream",
          "name": "stdout",
          "text": [
            "\u001b[K     |████████████████████████████████| 397 kB 5.6 MB/s \n",
            "\u001b[K     |████████████████████████████████| 495.0 MB 30 kB/s \n",
            "\u001b[K     |████████████████████████████████| 28.0 MB 54.8 MB/s \n",
            "\u001b[K     |████████████████████████████████| 463 kB 31.9 MB/s \n",
            "\u001b[K     |████████████████████████████████| 1.3 MB 42.6 MB/s \n",
            "\u001b[?25h  Building wheel for spacy-lookups-data (setup.py) ... \u001b[?25l\u001b[?25hdone\n"
          ]
        }
      ],
      "source": [
        "pip install -q alibi"
      ]
    },
    {
      "cell_type": "code",
      "execution_count": 9,
      "metadata": {
        "id": "W35F7cSIqF7-"
      },
      "outputs": [],
      "source": [
        "from alibi.explainers import IntegratedGradients"
      ]
    },
    {
      "cell_type": "code",
      "execution_count": 10,
      "metadata": {
        "id": "T0VLcW9Kt3Hj"
      },
      "outputs": [],
      "source": [
        "import re\n",
        "import os\n",
        "import pickle\n",
        "import pandas as pd\n",
        "import numpy as np\n",
        "import matplotlib as mpl\n",
        "import matplotlib.cm\n",
        "import tensorflow as tf\n",
        "import tensorflow.keras as keras\n",
        "from tqdm import tqdm\n",
        "from typing import Optional, Union, List, Dict\n",
        "from IPython.display import HTML\n",
        "from tensorflow.keras.datasets import imdb\n",
        "from tensorflow.keras.utils import to_categorical\n",
        "from tensorflow.keras.preprocessing import sequence\n",
        "from tensorflow.keras.optimizers import Adam\n",
        "from tensorflow.keras.losses import SparseCategoricalCrossentropy\n",
        "from transformers import PreTrainedTokenizer"
      ]
    },
    {
      "cell_type": "code",
      "execution_count": 11,
      "metadata": {
        "id": "--qpLqXCrjp6"
      },
      "outputs": [],
      "source": [
        "def process_sentences(sentence: List[str],\n",
        "                      tokenizer: PreTrainedTokenizer,\n",
        "                      max_len: int) -> Dict[str, np.ndarray]:\n",
        "    \"\"\"\n",
        "    Tokenize the text sentences.\n",
        "\n",
        "    Parameters\n",
        "    ----------\n",
        "    sentence:\n",
        "        Sentence to be processed.\n",
        "    tokenizer:\n",
        "        Tokenizer to be used.\n",
        "\n",
        "    Returns\n",
        "    -------\n",
        "        Tokenized representation containing:\n",
        "         - input_ids\n",
        "         - attention_mask\n",
        "    \"\"\"\n",
        "    z = tokenizer(sentence,\n",
        "                  add_special_tokens=True,\n",
        "                  padding='max_length',\n",
        "                  max_length=max_len,\n",
        "                  truncation=True,\n",
        "                  return_attention_mask = True,\n",
        "                  return_tensors='np')\n",
        "    return z"
      ]
    },
    {
      "cell_type": "code",
      "execution_count": 12,
      "metadata": {
        "id": "4raqP8KYvQ_W",
        "colab": {
          "base_uri": "https://localhost:8080/",
          "height": 145,
          "referenced_widgets": [
            "ccdfbfac990b42aca9ef6922f936389a",
            "b17c524a630041e8b87d28036141e059",
            "1f621834ce3b44f7a6840b38bcd3688f",
            "0c8dd5b65a464a48b7e77f3c3c05db90",
            "0823abfaba304fed90a5b6ca2cccdc21",
            "9b3f6b604b324fc3bc03ebf021f73198",
            "46d518e95a5d4db7aacd6334a15df277",
            "0ca43121c87e42c6b45e8f0d40cd8385",
            "d3e06e1b5aed4dc5a7b0675778971aea",
            "f93a22c4177648d4837000e41ecfd327",
            "1caea975d8c4446db2daa7f7b37da77c",
            "ca6e255f288b4826959d7c2d8e480fca",
            "d14c326a47124fb891237546c1a0544f",
            "a46c00306ce84d7bbba9bc5d85f05b08",
            "3fca69ab823d486cba292b151343352f",
            "185d1116269a492ca51a02b9d9d2c7f3",
            "3b0b1b5c1d304dc3aa96539605a92d55",
            "03e7d1abd76d4c0f9cce968b504482b8",
            "d6f59eaca9ea46ba9af23543f775188a",
            "2fbc7a9059ad4d02b2e075d3e576fbc1",
            "07152f8a1f3a4287b3dc1366cd310bbe",
            "6be5a15f9d7f466eaa2a596e68d6067c",
            "94fd2b10fb9a4837ad207d7a532f64d8",
            "bb6c596eb37442b186f8300df9ea7ce4",
            "79caab5369bc47809476a8814ea4215e",
            "9f27874ac7e946f3b398ed1a8f7688ae",
            "0dd5c7b24fb84c26839fa88283ee3c0d",
            "b53f81579443417ca0b07ed47639c3dc",
            "7f1296cf8184427b8d1ce7889a251bab",
            "d55965c9e1c14496950c02c52184a44f",
            "00a8a62b60cd4c629c7bd57619e15f6b",
            "20b5359274ab42939416ce5f02d278d5",
            "ced319fbaac647bcb2b5d7ca08679916",
            "30f9367ba94848b5a326bf1751c14378",
            "bf9d4f1e0c3b47d6984c4a1418ca55ab",
            "ba5d0b37f2fe4777ad202c065acca12f",
            "4bf71e2b85d8468085d288a8e0ecd46a",
            "e8e5406b92b34302836262b743ee2294",
            "836b4b9a3a5041278cd6e210629cd609",
            "3618a371145941bab5a204adbec349c0",
            "623e052abd1644dfa71a5ffb5a02342e",
            "f76ed3982c75457d81173c46aacbd060",
            "613b8e7f82d44bcd9b06b7f8c71638a7",
            "ae73772e624548a491dd78e8826ea017"
          ]
        },
        "outputId": "85bfa363-3a10-4384-f05a-5f4329ba3b7c"
      },
      "outputs": [
        {
          "output_type": "display_data",
          "data": {
            "application/vnd.jupyter.widget-view+json": {
              "model_id": "ccdfbfac990b42aca9ef6922f936389a",
              "version_minor": 0,
              "version_major": 2
            },
            "text/plain": [
              "Downloading:   0%|          | 0.00/28.0 [00:00<?, ?B/s]"
            ]
          },
          "metadata": {}
        },
        {
          "output_type": "display_data",
          "data": {
            "application/vnd.jupyter.widget-view+json": {
              "model_id": "ca6e255f288b4826959d7c2d8e480fca",
              "version_minor": 0,
              "version_major": 2
            },
            "text/plain": [
              "Downloading:   0%|          | 0.00/226k [00:00<?, ?B/s]"
            ]
          },
          "metadata": {}
        },
        {
          "output_type": "display_data",
          "data": {
            "application/vnd.jupyter.widget-view+json": {
              "model_id": "94fd2b10fb9a4837ad207d7a532f64d8",
              "version_minor": 0,
              "version_major": 2
            },
            "text/plain": [
              "Downloading:   0%|          | 0.00/455k [00:00<?, ?B/s]"
            ]
          },
          "metadata": {}
        },
        {
          "output_type": "display_data",
          "data": {
            "application/vnd.jupyter.widget-view+json": {
              "model_id": "30f9367ba94848b5a326bf1751c14378",
              "version_minor": 0,
              "version_major": 2
            },
            "text/plain": [
              "Downloading:   0%|          | 0.00/570 [00:00<?, ?B/s]"
            ]
          },
          "metadata": {}
        }
      ],
      "source": [
        "from transformers import BertTokenizer\n",
        "tokenizer = BertTokenizer.from_pretrained('bert-base-uncased')"
      ]
    },
    {
      "cell_type": "markdown",
      "metadata": {
        "id": "Vjv7pq1GxOX0"
      },
      "source": [
        "**Prepare the Inputs**"
      ]
    },
    {
      "cell_type": "code",
      "execution_count": 13,
      "metadata": {
        "id": "dPS-3JOlrkOe"
      },
      "outputs": [],
      "source": [
        "max_len = 100  #same as BERTForSequenceClassification"
      ]
    },
    {
      "cell_type": "code",
      "execution_count": 14,
      "metadata": {
        "id": "H5wKvUPOr2FA"
      },
      "outputs": [],
      "source": [
        "train = pd.read_csv(\"/content/drive/MyDrive/MasterThesis/Dataset/X_train_all.csv\")\n",
        "test = pd.read_csv(\"/content/drive/MyDrive/MasterThesis/Dataset/X_test_all.csv\")"
      ]
    },
    {
      "cell_type": "code",
      "execution_count": 15,
      "metadata": {
        "id": "yn2R7zuwRKvF"
      },
      "outputs": [],
      "source": [
        "#same reason as BERTForSequenceClassification\n",
        "train['pad_50_sen'] = train['clean_review'].astype(str).apply(lambda x : ' '.join(x.strip().split(\" \")[:50]))\n",
        "test['pad_50_sen'] = test['clean_review'].apply(lambda x : ' '.join(x.strip().split(\" \")[:50]))"
      ]
    },
    {
      "cell_type": "code",
      "execution_count": 16,
      "metadata": {
        "id": "7LGxlCpDsNu0"
      },
      "outputs": [],
      "source": [
        "X_train = train.pad_50_sen.values.astype(str).tolist()\n",
        "X_test=test.pad_50_sen.values.astype(str).tolist()"
      ]
    },
    {
      "cell_type": "code",
      "execution_count": 17,
      "metadata": {
        "id": "cpYJuGvVumy0"
      },
      "outputs": [],
      "source": [
        "# tokenize datasets\n",
        "X_train = process_sentences(X_train, tokenizer, max_len)\n",
        "X_test = process_sentences(X_test, tokenizer, max_len)"
      ]
    },
    {
      "cell_type": "code",
      "execution_count": 18,
      "metadata": {
        "id": "pF80L_fpsAj5"
      },
      "outputs": [],
      "source": [
        "with open('/content/drive/MyDrive/MasterThesis/Dataset/bert_train_inputs', 'wb') as f:\n",
        "    pickle.dump(X_train, f)\n",
        "    \n",
        "with open('/content/drive/MyDrive/MasterThesis/Dataset/bert_test_inputs', 'wb') as f:\n",
        "    pickle.dump(X_test, f)    "
      ]
    },
    {
      "cell_type": "markdown",
      "metadata": {
        "id": "_wSmCrSbxWTs"
      },
      "source": [
        "**Import the Inputs**"
      ]
    },
    {
      "cell_type": "code",
      "execution_count": 19,
      "metadata": {
        "id": "QLzldIGXxV2E"
      },
      "outputs": [],
      "source": [
        "with open('/content/drive/MyDrive/MasterThesis/Dataset/bert_train_inputs', 'rb') as f:\n",
        "    X_train = pickle.load(f)\n",
        "    \n",
        "with open('/content/drive/MyDrive/MasterThesis/Dataset/bert_test_inputs', 'rb') as f:\n",
        "    X_test = pickle.load(f)    "
      ]
    },
    {
      "cell_type": "code",
      "execution_count": 20,
      "metadata": {
        "id": "DTsH0mYBy3H8"
      },
      "outputs": [],
      "source": [
        "train_label = pd.read_csv(\"/content/drive/MyDrive/MasterThesis/Dataset/y_train_all.csv\")\n",
        "test_label = pd.read_csv(\"/content/drive/MyDrive/MasterThesis/Dataset/y_test_all.csv\")\n",
        "y_train = train_label.rate\n",
        "y_test = test_label.rate"
      ]
    },
    {
      "cell_type": "code",
      "execution_count": 21,
      "metadata": {
        "colab": {
          "base_uri": "https://localhost:8080/",
          "height": 156,
          "referenced_widgets": [
            "6ccc728efbe74c868cad758471b297e1",
            "a634ca375d9d43fd8e4739c93f873108",
            "46cc5862811c4139bdbabfa097d67a7a",
            "daddccdfecfb427eba0973ba63d397b0",
            "3e6ac693e29b4786a16a39159c67051f",
            "fe0a32030b3a4f83b6300c6f2687c7c3",
            "2732863adce14bfd8e28d4cca58ed83a",
            "8e6347a0f62c4293b8ae21e835d58cd3",
            "8090028fa9e04e8f9eb013ae7abf0de1",
            "16852680c2b343868b74de69d3c4cf43",
            "31ce67b1a8d94fbab60b934ed923ef2e"
          ]
        },
        "id": "C9VK_13vsE1q",
        "outputId": "a41066ca-4b04-46b1-d749-e1d60983af08"
      },
      "outputs": [
        {
          "output_type": "display_data",
          "data": {
            "application/vnd.jupyter.widget-view+json": {
              "model_id": "6ccc728efbe74c868cad758471b297e1",
              "version_minor": 0,
              "version_major": 2
            },
            "text/plain": [
              "Downloading:   0%|          | 0.00/511M [00:00<?, ?B/s]"
            ]
          },
          "metadata": {}
        },
        {
          "output_type": "stream",
          "name": "stderr",
          "text": [
            "Some layers from the model checkpoint at bert-base-uncased were not used when initializing TFBertModel: ['mlm___cls', 'nsp___cls']\n",
            "- This IS expected if you are initializing TFBertModel from the checkpoint of a model trained on another task or with another architecture (e.g. initializing a BertForSequenceClassification model from a BertForPreTraining model).\n",
            "- This IS NOT expected if you are initializing TFBertModel from the checkpoint of a model that you expect to be exactly identical (initializing a BertForSequenceClassification model from a BertForSequenceClassification model).\n",
            "All the layers of TFBertModel were initialized from the model checkpoint at bert-base-uncased.\n",
            "If your task is similar to the task the model of the checkpoint was trained on, you can already use TFBertModel for predictions without further training.\n"
          ]
        }
      ],
      "source": [
        "from transformers import TFBertModel, BertConfig\n",
        "config = BertConfig(output_hidden_states=True)\n",
        "transformer = TFBertModel.from_pretrained('bert-base-uncased', config=config)"
      ]
    },
    {
      "cell_type": "code",
      "execution_count": 22,
      "metadata": {
        "id": "iUwJxYUGsn6E"
      },
      "outputs": [],
      "source": [
        "class BERT_Classifier(tf.keras.Model):\n",
        "    def __init__(self,\n",
        "                 transformer,\n",
        "                 hidden_dims: int = 128,\n",
        "                 output_dims: int = 2,\n",
        "                 dropout_rate: float = 0.2):\n",
        "\n",
        "        super().__init__()\n",
        "        self.hidden_dims = hidden_dims\n",
        "        self.output_dims = output_dims\n",
        "        self.dropout_rate = dropout_rate\n",
        "\n",
        "        self.transformer = transformer\n",
        "        self.dense_1 = tf.keras.layers.Dense(self.hidden_dims, activation='relu')\n",
        "        self.dropout_1 = tf.keras.layers.Dropout(self.dropout_rate)\n",
        "        self.dense_2 = tf.keras.layers.Dense(self.output_dims, activation='sigmoid')\n",
        "\n",
        "    def call(self,\n",
        "             input_ids: Union[np.ndarray, tf.Tensor],\n",
        "             attention_mask: Optional[Union[np.ndarray, tf.Tensor]]=None,\n",
        "             training=False):\n",
        "\n",
        "        out = self.transformer(input_ids=input_ids, attention_mask=attention_mask, training=training)\n",
        "        out = out.last_hidden_state[:, 0, :]  # extract the embedding corresponding to [CLS] token\n",
        "        out = self.dense_1(out)\n",
        "        out = self.dropout_1(out, training=training)\n",
        "        out = self.dense_2(out)\n",
        "        return out"
      ]
    },
    {
      "cell_type": "code",
      "execution_count": 23,
      "metadata": {
        "id": "c4aLw8TGtQde"
      },
      "outputs": [],
      "source": [
        "# define the classification model\n",
        "model = BERT_Classifier(transformer)"
      ]
    },
    {
      "cell_type": "code",
      "execution_count": 24,
      "metadata": {
        "id": "i8aKucyRtqxK"
      },
      "outputs": [],
      "source": [
        "learning_rate = 2e-5\n",
        "batch_size = 32  #16 or 32\n",
        "epochs = 3"
      ]
    },
    {
      "cell_type": "code",
      "execution_count": 25,
      "metadata": {
        "id": "tX_e-zW9tw-R"
      },
      "outputs": [],
      "source": [
        "# compile the model\n",
        "model.compile(optimizer=Adam(learning_rate=learning_rate),\n",
        "              loss=SparseCategoricalCrossentropy(from_logits=False),\n",
        "              metrics=['accuracy'])"
      ]
    },
    {
      "cell_type": "code",
      "execution_count": 26,
      "metadata": {
        "id": "Zl-MAiEAtymS"
      },
      "outputs": [],
      "source": [
        "filepath = './model_transformers/'\n",
        "checkpoint_path = os.path.join(filepath, \"training/cp-{epoch:04d}.ckpt\")\n",
        "checkpoint_dir = os.path.dirname(checkpoint_path)"
      ]
    },
    {
      "cell_type": "code",
      "execution_count": 27,
      "metadata": {
        "id": "S0BeKS9XuD4A"
      },
      "outputs": [],
      "source": [
        "cp_callback = tf.keras.callbacks.ModelCheckpoint(filepath=checkpoint_path,\n",
        "                                                     verbose=1,\n",
        "                                                     save_weights_only=True,\n",
        "                                                     save_freq='epoch')"
      ]
    },
    {
      "cell_type": "code",
      "execution_count": 28,
      "metadata": {
        "colab": {
          "base_uri": "https://localhost:8080/"
        },
        "id": "tgcIfhWKuWF0",
        "outputId": "83a1f37c-4677-44bd-be3a-88835932f8b5"
      },
      "outputs": [
        {
          "output_type": "stream",
          "name": "stdout",
          "text": [
            "Epoch 1/3\n",
            "WARNING:tensorflow:Gradients do not exist for variables ['tf_bert_model/bert/pooler/dense/kernel:0', 'tf_bert_model/bert/pooler/dense/bias:0'] when minimizing the loss. If you're using `model.compile()`, did you forget to provide a `loss`argument?\n",
            "WARNING:tensorflow:Gradients do not exist for variables ['tf_bert_model/bert/pooler/dense/kernel:0', 'tf_bert_model/bert/pooler/dense/bias:0'] when minimizing the loss. If you're using `model.compile()`, did you forget to provide a `loss`argument?\n",
            "460/460 [==============================] - ETA: 0s - loss: 0.2784 - accuracy: 0.8809\n",
            "Epoch 00001: saving model to ./model_transformers/training/cp-0001.ckpt\n",
            "460/460 [==============================] - 610s 1s/step - loss: 0.2784 - accuracy: 0.8809 - val_loss: 0.2088 - val_accuracy: 0.9119\n",
            "Epoch 2/3\n",
            "460/460 [==============================] - ETA: 0s - loss: 0.1635 - accuracy: 0.9382\n",
            "Epoch 00002: saving model to ./model_transformers/training/cp-0002.ckpt\n",
            "460/460 [==============================] - 580s 1s/step - loss: 0.1635 - accuracy: 0.9382 - val_loss: 0.2032 - val_accuracy: 0.9235\n",
            "Epoch 3/3\n",
            "460/460 [==============================] - ETA: 0s - loss: 0.0902 - accuracy: 0.9686\n",
            "Epoch 00003: saving model to ./model_transformers/training/cp-0003.ckpt\n",
            "460/460 [==============================] - 580s 1s/step - loss: 0.0902 - accuracy: 0.9686 - val_loss: 0.2485 - val_accuracy: 0.9180\n"
          ]
        },
        {
          "output_type": "execute_result",
          "data": {
            "text/plain": [
              "<keras.callbacks.History at 0x7f3369306450>"
            ]
          },
          "metadata": {},
          "execution_count": 28
        }
      ],
      "source": [
        "model.fit(x=[X_train['input_ids'], X_train['attention_mask']],\n",
        "              y=y_train,\n",
        "              validation_split=0.1,\n",
        "              epochs=epochs,\n",
        "              batch_size=batch_size,\n",
        "              callbacks=[cp_callback])"
      ]
    },
    {
      "cell_type": "markdown",
      "metadata": {
        "id": "Bo3YGJONdkeV"
      },
      "source": [
        "**Testing**"
      ]
    },
    {
      "cell_type": "code",
      "execution_count": 29,
      "metadata": {
        "id": "dh5s-Vj6vjC0"
      },
      "outputs": [],
      "source": [
        "# tokenize text\n",
        "tokenized_samples = X_test\n",
        "X_test = tokenized_samples['input_ids']\n",
        "\n",
        "# the values of the kwargs have to be `tf.Tensor`.\n",
        "kwargs = {k:tf.constant(v) for k, v in tokenized_samples.items() if k == 'attention_mask'}"
      ]
    },
    {
      "cell_type": "code",
      "execution_count": 30,
      "metadata": {
        "id": "fFNY8OjnfncW"
      },
      "outputs": [],
      "source": [
        "test_x =test.pad_50_sen.values.astype(str).tolist()"
      ]
    },
    {
      "cell_type": "code",
      "execution_count": 31,
      "metadata": {
        "id": "voKD09Zxgq2n"
      },
      "outputs": [],
      "source": [
        "all_pred = []\n",
        "\n",
        "def pred(i, X_test, max_len):\n",
        "  X = process_sentences(X_test[i], tokenizer, max_len)\n",
        "  X_test_s = X\n",
        "# tokenize text\n",
        "  tokenized_samples = X_test_s\n",
        "  X_test_s = tokenized_samples['input_ids']\n",
        "\n",
        "  kwargs = {k:tf.constant(v) for k, v in tokenized_samples.items() if k == 'attention_mask'}\n",
        "  predictions = model(X_test_s, **kwargs).numpy().argmax(axis=1)\n",
        "  all_pred.append(predictions)\n"
      ]
    },
    {
      "cell_type": "code",
      "execution_count": 32,
      "metadata": {
        "id": "LwtPJeMNZLzb"
      },
      "outputs": [],
      "source": [
        "for i in range(len(test_x)):  #because there is not enough memroy we calculate the prediction line by line\n",
        "  pred(i, test_x, 100)"
      ]
    },
    {
      "cell_type": "code",
      "execution_count": 33,
      "metadata": {
        "id": "CCsgeWFagC6N"
      },
      "outputs": [],
      "source": [
        "import itertools\n",
        "y_pred =list(itertools.chain.from_iterable(all_pred))"
      ]
    },
    {
      "cell_type": "code",
      "execution_count": 34,
      "metadata": {
        "id": "NFfPOz_ua3Qd"
      },
      "outputs": [],
      "source": [
        "#with open('/content/drive/MyDrive/MasterThesis/Dataset/bert_keras_pred_propab', 'wb') as f:\n",
        " # pickle.dump(y_pred, f)\n",
        "    \n",
        "#with open('/content/drive/MyDrive/MasterThesis/Dataset/bert_keras_pred', 'wb') as f:\n",
        " # pickle.dump(y_pred, f)    "
      ]
    },
    {
      "cell_type": "code",
      "execution_count": 35,
      "metadata": {
        "id": "Srxzel1Taj41"
      },
      "outputs": [],
      "source": [
        "#with open('/content/drive/MyDrive/MasterThesis/Dataset/bert_keras_pred', 'rb') as f:\n",
        " #   y_pred = pickle.load(f)  "
      ]
    },
    {
      "cell_type": "code",
      "execution_count": 36,
      "metadata": {
        "id": "OU1T5jizdwMU",
        "colab": {
          "base_uri": "https://localhost:8080/",
          "height": 283
        },
        "outputId": "465619a9-c9ed-4578-c71d-61de97fd649c"
      },
      "outputs": [
        {
          "output_type": "execute_result",
          "data": {
            "text/plain": [
              "<matplotlib.axes._subplots.AxesSubplot at 0x7f33626fdfd0>"
            ]
          },
          "metadata": {},
          "execution_count": 36
        },
        {
          "output_type": "display_data",
          "data": {
            "image/png": "[encoded data removed]",
            "text/plain": [
              "<Figure size 432x288 with 2 Axes>"
            ]
          },
          "metadata": {
            "needs_background": "light"
          }
        }
      ],
      "source": [
        "from sklearn.metrics import confusion_matrix\n",
        "import seaborn as sn\n",
        "cf_matrix = confusion_matrix(y_test, y_pred)\n",
        "sn.heatmap(cf_matrix/np.sum(cf_matrix), annot=True, \n",
        "            fmt='.2%', cmap='Blues')"
      ]
    },
    {
      "cell_type": "code",
      "execution_count": 37,
      "metadata": {
        "id": "jKmPcmj5dy9l",
        "colab": {
          "base_uri": "https://localhost:8080/"
        },
        "outputId": "5427771b-0d59-4801-b80b-b54a497d0136"
      },
      "outputs": [
        {
          "output_type": "stream",
          "name": "stdout",
          "text": [
            "              precision    recall  f1-score   support\n",
            "\n",
            "           0       0.94      0.91      0.92      2038\n",
            "           1       0.92      0.94      0.93      2045\n",
            "\n",
            "    accuracy                           0.93      4083\n",
            "   macro avg       0.93      0.93      0.93      4083\n",
            "weighted avg       0.93      0.93      0.93      4083\n",
            "\n"
          ]
        }
      ],
      "source": [
        "import sklearn.metrics as metrics\n",
        "print(metrics.classification_report(y_test, y_pred))"
      ]
    },
    {
      "cell_type": "markdown",
      "metadata": {
        "id": "iN-wIGgCpaX7"
      },
      "source": [
        "**Integrated Gradients**"
      ]
    },
    {
      "cell_type": "code",
      "execution_count": 38,
      "metadata": {
        "id": "EsqNQybKnTuj"
      },
      "outputs": [],
      "source": [
        "with open('/content/drive/MyDrive/MasterThesis/Dataset/bert_keras_pred', 'rb') as f:\n",
        "    y_pred = pickle.load(f)  "
      ]
    },
    {
      "cell_type": "code",
      "execution_count": 39,
      "metadata": {
        "id": "Ovd1NOoYpL41"
      },
      "outputs": [],
      "source": [
        "#showing the results\n",
        "\n",
        "def  hlstr(string: str , color: str = 'white') -> str:\n",
        "    \"\"\"\n",
        "    Return HTML markup highlighting text with the desired color.\n",
        "    \"\"\"\n",
        "    return f\"<mark style=background-color:{color}>{string} </mark>\"\n",
        "\n",
        "\n",
        "def colorize(attrs: np.ndarray, cmap: str = 'PiYG') -> List:\n",
        "    \"\"\"\n",
        "    Compute hex colors based on the attributions for a single instance.\n",
        "    Uses a diverging colorscale by default and normalizes and scales\n",
        "    the colormap so that colors are consistent with the attributions.\n",
        "\n",
        "    Parameters\n",
        "    ----------\n",
        "    attrs:\n",
        "        Attributions to be visualized.\n",
        "    cmap:\n",
        "        Matplotlib cmap type.\n",
        "    \"\"\"\n",
        "    cmap_bound = np.abs(attrs).max()\n",
        "    norm = mpl.colors.Normalize(vmin=-cmap_bound, vmax=cmap_bound)\n",
        "    cmap = mpl.cm.get_cmap(cmap)\n",
        "    return list(map(lambda x: mpl.colors.rgb2hex(cmap(norm(x))), attrs))\n",
        "\n",
        "\n",
        "def display(X: np.ndarray,\n",
        "            attrs: np.ndarray,\n",
        "            tokenizer: PreTrainedTokenizer,\n",
        "            pred: np.ndarray) -> None:\n",
        "    \"\"\"\n",
        "    Display the attribution of a given instance.\n",
        "\n",
        "    Parameters\n",
        "    ----------\n",
        "    X:\n",
        "        Instance to display the attributions for.\n",
        "    attrs:\n",
        "        Attributions values for the given instance.\n",
        "    tokenizer:\n",
        "        Tokenizer to be used for decoding.\n",
        "    pred:\n",
        "        Classification label (prediction) for the given instance.\n",
        "    \"\"\"\n",
        "    pred_dict = {1: 'Positive review', 0: 'Negative review'}\n",
        "\n",
        "    # remove padding\n",
        "    fst_pad_indices = np.where(X ==tokenizer.pad_token_id)[0]\n",
        "    if len(fst_pad_indices) > 0:\n",
        "        X, attrs = X[:fst_pad_indices[0]], attrs[:fst_pad_indices[0]]\n",
        "\n",
        "    # decode tokens and get colors\n",
        "    tokens = [tokenizer.decode([X[i]]) for i in range(len(X))]\n",
        "    colors = colorize(attrs)\n",
        "\n",
        "    print('Predicted label =  {}: {}'.format(pred, pred_dict[pred]))\n",
        "    return HTML(\"\".join(list(map(hlstr, tokens, colors))))"
      ]
    },
    {
      "cell_type": "code",
      "execution_count": 40,
      "metadata": {
        "id": "JPJAWjzsi9e5"
      },
      "outputs": [],
      "source": [
        "all_attrs = []"
      ]
    },
    {
      "cell_type": "code",
      "execution_count": 41,
      "metadata": {
        "id": "RdV-KRNDjiGs"
      },
      "outputs": [],
      "source": [
        "max_len = 100 #just because we lose words from here which we do not lose in other explainers"
      ]
    },
    {
      "cell_type": "code",
      "execution_count": 42,
      "metadata": {
        "id": "tmXWZFRTpq3z"
      },
      "outputs": [],
      "source": [
        "layer = model.layers[0].bert.embeddings"
      ]
    },
    {
      "cell_type": "code",
      "execution_count": 43,
      "metadata": {
        "id": "YuBaLiCjp25H"
      },
      "outputs": [],
      "source": [
        "# define IG\n",
        "n_steps = 50\n",
        "method = \"gausslegendre\"\n",
        "internal_batch_size = 5\n",
        "\n",
        "ig  = IntegratedGradients(model,\n",
        "                          layer=layer,\n",
        "                          n_steps=n_steps,\n",
        "                          method=method,\n",
        "                          internal_batch_size=internal_batch_size)"
      ]
    },
    {
      "cell_type": "code",
      "execution_count": 44,
      "metadata": {
        "id": "Bn4sFKmApF77"
      },
      "outputs": [],
      "source": [
        "#sample_size = 1500 #{845, 1556, 1750, 2150, 2514, 2631, 2652, 2845, 3354, 3447, 3929}\n",
        "j = 3356\n",
        "\n",
        "#becase memory is not enough, we get a sample from test to calculate ingradients\n",
        "X_test_sample = test.pad_50_sen[j:j+2].tolist()\n",
        "X_test_sample = process_sentences(X_test_sample, tokenizer, max_len)\n",
        "\n",
        "# tokenize text\n",
        "tokenized_samples = X_test_sample\n",
        "X_test_sample = tokenized_samples['input_ids']\n",
        "\n",
        "# the values of the kwargs have to be `tf.Tensor`.\n",
        "# see transformers issue #14404: https://github.com/huggingface/transformers/issues/14404\n",
        "kwargs = {k:tf.constant(v) for k, v in tokenized_samples.items() if k == 'attention_mask'}"
      ]
    },
    {
      "cell_type": "code",
      "execution_count": 45,
      "metadata": {
        "id": "X2OlcRjWFMFg"
      },
      "outputs": [],
      "source": [
        "sample_prediction = y_pred[j:j+2]\n",
        "sample_prediction = np.array(sample_prediction)"
      ]
    },
    {
      "cell_type": "code",
      "execution_count": 46,
      "metadata": {
        "id": "gNjr3hVTp7ZB"
      },
      "outputs": [],
      "source": [
        "# construct the baseline as before\n",
        "mask = np.isin(X_test_sample, tokenizer.all_special_ids)\n",
        "baselines = X_test_sample * mask + tokenizer.pad_token_id * (1 - mask)"
      ]
    },
    {
      "cell_type": "code",
      "execution_count": 47,
      "metadata": {
        "id": "CgPFYcDyqL2y"
      },
      "outputs": [],
      "source": [
        "# get explanation\n",
        "explanation = ig.explain(X_test_sample,\n",
        "                         forward_kwargs=kwargs,\n",
        "                         baselines=baselines,\n",
        "                         target=sample_prediction)"
      ]
    },
    {
      "cell_type": "code",
      "execution_count": 48,
      "metadata": {
        "id": "ESWYKp06qRe7"
      },
      "outputs": [],
      "source": [
        "attrs = explanation.attributions[0]\n",
        "attrs = attrs.sum(axis=2)\n",
        "#attrs"
      ]
    },
    {
      "cell_type": "code",
      "source": [
        "i = 0\n",
        "x_i = X_test_sample[i]\n",
        "attrs_i = attrs[i]\n",
        "#pred = y_pred[109]\n",
        "pred_dict = {1: 'Positive review', 0: 'Negative review'}"
      ],
      "metadata": {
        "id": "mOrndEjKZAP8"
      },
      "execution_count": 49,
      "outputs": []
    },
    {
      "cell_type": "code",
      "execution_count": 50,
      "metadata": {
        "id": "lJcAKDt8WrQe"
      },
      "outputs": [],
      "source": [
        "#with open('/content/drive/MyDrive/MasterThesis/Dataset/bert_ig_all_values', 'wb') as f:\n",
        " #   pickle.dump(all_attrs, f)  "
      ]
    },
    {
      "cell_type": "code",
      "execution_count": 51,
      "metadata": {
        "id": "ApwaIRktqsl2"
      },
      "outputs": [],
      "source": [
        "i = 0\n",
        "x_i = X_test_sample[i]\n",
        "attrs_i = attrs[i]\n",
        "#pred = y_pred[109]\n",
        "pred_dict = {1: 'Positive review', 0: 'Negative review'}\n",
        "\n",
        "#pink - negative attribution  -  decrease in probability of the predicted class\n",
        "#green - positive attribution - increase in probability of the predicted class "
      ]
    },
    {
      "cell_type": "code",
      "execution_count": 52,
      "metadata": {
        "id": "ddQE2BusqjZs",
        "colab": {
          "base_uri": "https://localhost:8080/",
          "height": 69
        },
        "outputId": "442e4b2f-3cc4-4939-9381-87ad5d4973db"
      },
      "outputs": [
        {
          "output_type": "stream",
          "name": "stdout",
          "text": [
            "Predicted label =  1: Positive review\n"
          ]
        },
        {
          "output_type": "execute_result",
          "data": {
            "text/html": [
              "<mark style=background-color:#f7f7f6>[CLS] </mark><mark style=background-color:#faebf3>took </mark><mark style=background-color:#f2badc>break </mark><mark style=background-color:#faeaf2>place </mark><mark style=background-color:#f4f7f0>started </mark><mark style=background-color:#eef6e2>going </mark><mark style=background-color:#fde0ef>seen </mark><mark style=background-color:#a5d56f>great </mark><mark style=background-color:#eef6e2>improvements </mark><mark style=background-color:#bee490>new </mark><mark style=background-color:#f1b5d9>smaller </mark><mark style=background-color:#f5f7f2>focused </mark><mark style=background-color:#faedf3>menu </mark><mark style=background-color:#d6eeb6>delicious </mark><mark style=background-color:#f1f6ea>hum </mark><mark style=background-color:#f1f6e8>##mus </mark><mark style=background-color:#f8f4f6>plate </mark><mark style=background-color:#ebf6dc>app </mark><mark style=background-color:#f1f6ea>##eti </mark><mark style=background-color:#f5f7f3>##zer </mark><mark style=background-color:#276419>great </mark><mark style=background-color:#eff6e4>bo </mark><mark style=background-color:#ebf6db>##log </mark><mark style=background-color:#f4f7f0>##nese </mark><mark style=background-color:#e2f3ca>pizza </mark><mark style=background-color:#ebf6dc>##s </mark><mark style=background-color:#fbe8f2>course </mark><mark style=background-color:#eef6e2>burger </mark><mark style=background-color:#93c959>excellent </mark><mark style=background-color:#eff6e5>jimmy </mark><mark style=background-color:#a1d26a>manager </mark><mark style=background-color:#ddf1c1>donna </mark><mark style=background-color:#fad6ea>bartender </mark><mark style=background-color:#b2dd7f>friendly </mark><mark style=background-color:#f0f6e7>acc </mark><mark style=background-color:#fbe7f2>##om </mark><mark style=background-color:#f1f6ea>##mo </mark><mark style=background-color:#f9eef4>##dating </mark><mark style=background-color:#dff2c4>clear </mark><mark style=background-color:#e1f3c7>place </mark><mark style=background-color:#d4edb3>making </mark><mark style=background-color:#edf6e1>effort </mark><mark style=background-color:#e7f5d3>customers </mark><mark style=background-color:#f9eef4>food </mark><mark style=background-color:#ebf6dc>service </mark><mark style=background-color:#f7f7f6>[SEP] </mark>"
            ],
            "text/plain": [
              "<IPython.core.display.HTML object>"
            ]
          },
          "metadata": {},
          "execution_count": 52
        }
      ],
      "source": [
        "display(X=X_test_sample[i], attrs=attrs[i], pred=y_pred[j], tokenizer=tokenizer)  ###run the code for X_test[i]"
      ]
    }
  ],
  "metadata": {
    "accelerator": "GPU",
    "colab": {
      "collapsed_sections": [],
      "machine_shape": "hm",
      "name": "TFBertModel - IG.ipynb",
      "provenance": []
    },
    "kernelspec": {
      "display_name": "Python 3",
      "name": "python3"
    },
    "language_info": {
      "name": "python"
    },
    "widgets": {
      "application/vnd.jupyter.widget-state+json": {
        "ccdfbfac990b42aca9ef6922f936389a": {
          "model_module": "@jupyter-widgets/controls",
          "model_name": "HBoxModel",
          "model_module_version": "1.5.0",
          "state": {
            "_view_name": "HBoxView",
            "_dom_classes": [],
            "_model_name": "HBoxModel",
            "_view_module": "@jupyter-widgets/controls",
            "_model_module_version": "1.5.0",
            "_view_count": null,
            "_view_module_version": "1.5.0",
            "box_style": "",
            "layout": "IPY_MODEL_b17c524a630041e8b87d28036141e059",
            "_model_module": "@jupyter-widgets/controls",
            "children": [
              "IPY_MODEL_1f621834ce3b44f7a6840b38bcd3688f",
              "IPY_MODEL_0c8dd5b65a464a48b7e77f3c3c05db90",
              "IPY_MODEL_0823abfaba304fed90a5b6ca2cccdc21"
            ]
          }
        },
        "b17c524a630041e8b87d28036141e059": {
          "model_module": "@jupyter-widgets/base",
          "model_name": "LayoutModel",
          "model_module_version": "1.2.0",
          "state": {
            "_view_name": "LayoutView",
            "grid_template_rows": null,
            "right": null,
            "justify_content": null,
            "_view_module": "@jupyter-widgets/base",
            "overflow": null,
            "_model_module_version": "1.2.0",
            "_view_count": null,
            "flex_flow": null,
            "width": null,
            "min_width": null,
            "border": null,
            "align_items": null,
            "bottom": null,
            "_model_module": "@jupyter-widgets/base",
            "top": null,
            "grid_column": null,
            "overflow_y": null,
            "overflow_x": null,
            "grid_auto_flow": null,
            "grid_area": null,
            "grid_template_columns": null,
            "flex": null,
            "_model_name": "LayoutModel",
            "justify_items": null,
            "grid_row": null,
            "max_height": null,
            "align_content": null,
            "visibility": null,
            "align_self": null,
            "height": null,
            "min_height": null,
            "padding": null,
            "grid_auto_rows": null,
            "grid_gap": null,
            "max_width": null,
            "order": null,
            "_view_module_version": "1.2.0",
            "grid_template_areas": null,
            "object_position": null,
            "object_fit": null,
            "grid_auto_columns": null,
            "margin": null,
            "display": null,
            "left": null
          }
        },
        "1f621834ce3b44f7a6840b38bcd3688f": {
          "model_module": "@jupyter-widgets/controls",
          "model_name": "HTMLModel",
          "model_module_version": "1.5.0",
          "state": {
            "_view_name": "HTMLView",
            "style": "IPY_MODEL_9b3f6b604b324fc3bc03ebf021f73198",
            "_dom_classes": [],
            "description": "",
            "_model_name": "HTMLModel",
            "placeholder": "​",
            "_view_module": "@jupyter-widgets/controls",
            "_model_module_version": "1.5.0",
            "value": "Downloading: 100%",
            "_view_count": null,
            "_view_module_version": "1.5.0",
            "description_tooltip": null,
            "_model_module": "@jupyter-widgets/controls",
            "layout": "IPY_MODEL_46d518e95a5d4db7aacd6334a15df277"
          }
        },
        "0c8dd5b65a464a48b7e77f3c3c05db90": {
          "model_module": "@jupyter-widgets/controls",
          "model_name": "FloatProgressModel",
          "model_module_version": "1.5.0",
          "state": {
            "_view_name": "ProgressView",
            "style": "IPY_MODEL_0ca43121c87e42c6b45e8f0d40cd8385",
            "_dom_classes": [],
            "description": "",
            "_model_name": "FloatProgressModel",
            "bar_style": "success",
            "max": 28,
            "_view_module": "@jupyter-widgets/controls",
            "_model_module_version": "1.5.0",
            "value": 28,
            "_view_count": null,
            "_view_module_version": "1.5.0",
            "orientation": "horizontal",
            "min": 0,
            "description_tooltip": null,
            "_model_module": "@jupyter-widgets/controls",
            "layout": "IPY_MODEL_d3e06e1b5aed4dc5a7b0675778971aea"
          }
        },
        "0823abfaba304fed90a5b6ca2cccdc21": {
          "model_module": "@jupyter-widgets/controls",
          "model_name": "HTMLModel",
          "model_module_version": "1.5.0",
          "state": {
            "_view_name": "HTMLView",
            "style": "IPY_MODEL_f93a22c4177648d4837000e41ecfd327",
            "_dom_classes": [],
            "description": "",
            "_model_name": "HTMLModel",
            "placeholder": "​",
            "_view_module": "@jupyter-widgets/controls",
            "_model_module_version": "1.5.0",
            "value": " 28.0/28.0 [00:00&lt;00:00, 277B/s]",
            "_view_count": null,
            "_view_module_version": "1.5.0",
            "description_tooltip": null,
            "_model_module": "@jupyter-widgets/controls",
            "layout": "IPY_MODEL_1caea975d8c4446db2daa7f7b37da77c"
          }
        },
        "9b3f6b604b324fc3bc03ebf021f73198": {
          "model_module": "@jupyter-widgets/controls",
          "model_name": "DescriptionStyleModel",
          "model_module_version": "1.5.0",
          "state": {
            "_view_name": "StyleView",
            "_model_name": "DescriptionStyleModel",
            "description_width": "",
            "_view_module": "@jupyter-widgets/base",
            "_model_module_version": "1.5.0",
            "_view_count": null,
            "_view_module_version": "1.2.0",
            "_model_module": "@jupyter-widgets/controls"
          }
        },
        "46d518e95a5d4db7aacd6334a15df277": {
          "model_module": "@jupyter-widgets/base",
          "model_name": "LayoutModel",
          "model_module_version": "1.2.0",
          "state": {
            "_view_name": "LayoutView",
            "grid_template_rows": null,
            "right": null,
            "justify_content": null,
            "_view_module": "@jupyter-widgets/base",
            "overflow": null,
            "_model_module_version": "1.2.0",
            "_view_count": null,
            "flex_flow": null,
            "width": null,
            "min_width": null,
            "border": null,
            "align_items": null,
            "bottom": null,
            "_model_module": "@jupyter-widgets/base",
            "top": null,
            "grid_column": null,
            "overflow_y": null,
            "overflow_x": null,
            "grid_auto_flow": null,
            "grid_area": null,
            "grid_template_columns": null,
            "flex": null,
            "_model_name": "LayoutModel",
            "justify_items": null,
            "grid_row": null,
            "max_height": null,
            "align_content": null,
            "visibility": null,
            "align_self": null,
            "height": null,
            "min_height": null,
            "padding": null,
            "grid_auto_rows": null,
            "grid_gap": null,
            "max_width": null,
            "order": null,
            "_view_module_version": "1.2.0",
            "grid_template_areas": null,
            "object_position": null,
            "object_fit": null,
            "grid_auto_columns": null,
            "margin": null,
            "display": null,
            "left": null
          }
        },
        "0ca43121c87e42c6b45e8f0d40cd8385": {
          "model_module": "@jupyter-widgets/controls",
          "model_name": "ProgressStyleModel",
          "model_module_version": "1.5.0",
          "state": {
            "_view_name": "StyleView",
            "_model_name": "ProgressStyleModel",
            "description_width": "",
            "_view_module": "@jupyter-widgets/base",
            "_model_module_version": "1.5.0",
            "_view_count": null,
            "_view_module_version": "1.2.0",
            "bar_color": null,
            "_model_module": "@jupyter-widgets/controls"
          }
        },
        "d3e06e1b5aed4dc5a7b0675778971aea": {
          "model_module": "@jupyter-widgets/base",
          "model_name": "LayoutModel",
          "model_module_version": "1.2.0",
          "state": {
            "_view_name": "LayoutView",
            "grid_template_rows": null,
            "right": null,
            "justify_content": null,
            "_view_module": "@jupyter-widgets/base",
            "overflow": null,
            "_model_module_version": "1.2.0",
            "_view_count": null,
            "flex_flow": null,
            "width": null,
            "min_width": null,
            "border": null,
            "align_items": null,
            "bottom": null,
            "_model_module": "@jupyter-widgets/base",
            "top": null,
            "grid_column": null,
            "overflow_y": null,
            "overflow_x": null,
            "grid_auto_flow": null,
            "grid_area": null,
            "grid_template_columns": null,
            "flex": null,
            "_model_name": "LayoutModel",
            "justify_items": null,
            "grid_row": null,
            "max_height": null,
            "align_content": null,
            "visibility": null,
            "align_self": null,
            "height": null,
            "min_height": null,
            "padding": null,
            "grid_auto_rows": null,
            "grid_gap": null,
            "max_width": null,
            "order": null,
            "_view_module_version": "1.2.0",
            "grid_template_areas": null,
            "object_position": null,
            "object_fit": null,
            "grid_auto_columns": null,
            "margin": null,
            "display": null,
            "left": null
          }
        },
        "f93a22c4177648d4837000e41ecfd327": {
          "model_module": "@jupyter-widgets/controls",
          "model_name": "DescriptionStyleModel",
          "model_module_version": "1.5.0",
          "state": {
            "_view_name": "StyleView",
            "_model_name": "DescriptionStyleModel",
            "description_width": "",
            "_view_module": "@jupyter-widgets/base",
            "_model_module_version": "1.5.0",
            "_view_count": null,
            "_view_module_version": "1.2.0",
            "_model_module": "@jupyter-widgets/controls"
          }
        },
        "1caea975d8c4446db2daa7f7b37da77c": {
          "model_module": "@jupyter-widgets/base",
          "model_name": "LayoutModel",
          "model_module_version": "1.2.0",
          "state": {
            "_view_name": "LayoutView",
            "grid_template_rows": null,
            "right": null,
            "justify_content": null,
            "_view_module": "@jupyter-widgets/base",
            "overflow": null,
            "_model_module_version": "1.2.0",
            "_view_count": null,
            "flex_flow": null,
            "width": null,
            "min_width": null,
            "border": null,
            "align_items": null,
            "bottom": null,
            "_model_module": "@jupyter-widgets/base",
            "top": null,
            "grid_column": null,
            "overflow_y": null,
            "overflow_x": null,
            "grid_auto_flow": null,
            "grid_area": null,
            "grid_template_columns": null,
            "flex": null,
            "_model_name": "LayoutModel",
            "justify_items": null,
            "grid_row": null,
            "max_height": null,
            "align_content": null,
            "visibility": null,
            "align_self": null,
            "height": null,
            "min_height": null,
            "padding": null,
            "grid_auto_rows": null,
            "grid_gap": null,
            "max_width": null,
            "order": null,
            "_view_module_version": "1.2.0",
            "grid_template_areas": null,
            "object_position": null,
            "object_fit": null,
            "grid_auto_columns": null,
            "margin": null,
            "display": null,
            "left": null
          }
        },
        "ca6e255f288b4826959d7c2d8e480fca": {
          "model_module": "@jupyter-widgets/controls",
          "model_name": "HBoxModel",
          "model_module_version": "1.5.0",
          "state": {
            "_view_name": "HBoxView",
            "_dom_classes": [],
            "_model_name": "HBoxModel",
            "_view_module": "@jupyter-widgets/controls",
            "_model_module_version": "1.5.0",
            "_view_count": null,
            "_view_module_version": "1.5.0",
            "box_style": "",
            "layout": "IPY_MODEL_d14c326a47124fb891237546c1a0544f",
            "_model_module": "@jupyter-widgets/controls",
            "children": [
              "IPY_MODEL_a46c00306ce84d7bbba9bc5d85f05b08",
              "IPY_MODEL_3fca69ab823d486cba292b151343352f",
              "IPY_MODEL_185d1116269a492ca51a02b9d9d2c7f3"
            ]
          }
        },
        "d14c326a47124fb891237546c1a0544f": {
          "model_module": "@jupyter-widgets/base",
          "model_name": "LayoutModel",
          "model_module_version": "1.2.0",
          "state": {
            "_view_name": "LayoutView",
            "grid_template_rows": null,
            "right": null,
            "justify_content": null,
            "_view_module": "@jupyter-widgets/base",
            "overflow": null,
            "_model_module_version": "1.2.0",
            "_view_count": null,
            "flex_flow": null,
            "width": null,
            "min_width": null,
            "border": null,
            "align_items": null,
            "bottom": null,
            "_model_module": "@jupyter-widgets/base",
            "top": null,
            "grid_column": null,
            "overflow_y": null,
            "overflow_x": null,
            "grid_auto_flow": null,
            "grid_area": null,
            "grid_template_columns": null,
            "flex": null,
            "_model_name": "LayoutModel",
            "justify_items": null,
            "grid_row": null,
            "max_height": null,
            "align_content": null,
            "visibility": null,
            "align_self": null,
            "height": null,
            "min_height": null,
            "padding": null,
            "grid_auto_rows": null,
            "grid_gap": null,
            "max_width": null,
            "order": null,
            "_view_module_version": "1.2.0",
            "grid_template_areas": null,
            "object_position": null,
            "object_fit": null,
            "grid_auto_columns": null,
            "margin": null,
            "display": null,
            "left": null
          }
        },
        "a46c00306ce84d7bbba9bc5d85f05b08": {
          "model_module": "@jupyter-widgets/controls",
          "model_name": "HTMLModel",
          "model_module_version": "1.5.0",
          "state": {
            "_view_name": "HTMLView",
            "style": "IPY_MODEL_3b0b1b5c1d304dc3aa96539605a92d55",
            "_dom_classes": [],
            "description": "",
            "_model_name": "HTMLModel",
            "placeholder": "​",
            "_view_module": "@jupyter-widgets/controls",
            "_model_module_version": "1.5.0",
            "value": "Downloading: 100%",
            "_view_count": null,
            "_view_module_version": "1.5.0",
            "description_tooltip": null,
            "_model_module": "@jupyter-widgets/controls",
            "layout": "IPY_MODEL_03e7d1abd76d4c0f9cce968b504482b8"
          }
        },
        "3fca69ab823d486cba292b151343352f": {
          "model_module": "@jupyter-widgets/controls",
          "model_name": "FloatProgressModel",
          "model_module_version": "1.5.0",
          "state": {
            "_view_name": "ProgressView",
            "style": "IPY_MODEL_d6f59eaca9ea46ba9af23543f775188a",
            "_dom_classes": [],
            "description": "",
            "_model_name": "FloatProgressModel",
            "bar_style": "success",
            "max": 231508,
            "_view_module": "@jupyter-widgets/controls",
            "_model_module_version": "1.5.0",
            "value": 231508,
            "_view_count": null,
            "_view_module_version": "1.5.0",
            "orientation": "horizontal",
            "min": 0,
            "description_tooltip": null,
            "_model_module": "@jupyter-widgets/controls",
            "layout": "IPY_MODEL_2fbc7a9059ad4d02b2e075d3e576fbc1"
          }
        },
        "185d1116269a492ca51a02b9d9d2c7f3": {
          "model_module": "@jupyter-widgets/controls",
          "model_name": "HTMLModel",
          "model_module_version": "1.5.0",
          "state": {
            "_view_name": "HTMLView",
            "style": "IPY_MODEL_07152f8a1f3a4287b3dc1366cd310bbe",
            "_dom_classes": [],
            "description": "",
            "_model_name": "HTMLModel",
            "placeholder": "​",
            "_view_module": "@jupyter-widgets/controls",
            "_model_module_version": "1.5.0",
            "value": " 226k/226k [00:00&lt;00:00, 931kB/s]",
            "_view_count": null,
            "_view_module_version": "1.5.0",
            "description_tooltip": null,
            "_model_module": "@jupyter-widgets/controls",
            "layout": "IPY_MODEL_6be5a15f9d7f466eaa2a596e68d6067c"
          }
        },
        "3b0b1b5c1d304dc3aa96539605a92d55": {
          "model_module": "@jupyter-widgets/controls",
          "model_name": "DescriptionStyleModel",
          "model_module_version": "1.5.0",
          "state": {
            "_view_name": "StyleView",
            "_model_name": "DescriptionStyleModel",
            "description_width": "",
            "_view_module": "@jupyter-widgets/base",
            "_model_module_version": "1.5.0",
            "_view_count": null,
            "_view_module_version": "1.2.0",
            "_model_module": "@jupyter-widgets/controls"
          }
        },
        "03e7d1abd76d4c0f9cce968b504482b8": {
          "model_module": "@jupyter-widgets/base",
          "model_name": "LayoutModel",
          "model_module_version": "1.2.0",
          "state": {
            "_view_name": "LayoutView",
            "grid_template_rows": null,
            "right": null,
            "justify_content": null,
            "_view_module": "@jupyter-widgets/base",
            "overflow": null,
            "_model_module_version": "1.2.0",
            "_view_count": null,
            "flex_flow": null,
            "width": null,
            "min_width": null,
            "border": null,
            "align_items": null,
            "bottom": null,
            "_model_module": "@jupyter-widgets/base",
            "top": null,
            "grid_column": null,
            "overflow_y": null,
            "overflow_x": null,
            "grid_auto_flow": null,
            "grid_area": null,
            "grid_template_columns": null,
            "flex": null,
            "_model_name": "LayoutModel",
            "justify_items": null,
            "grid_row": null,
            "max_height": null,
            "align_content": null,
            "visibility": null,
            "align_self": null,
            "height": null,
            "min_height": null,
            "padding": null,
            "grid_auto_rows": null,
            "grid_gap": null,
            "max_width": null,
            "order": null,
            "_view_module_version": "1.2.0",
            "grid_template_areas": null,
            "object_position": null,
            "object_fit": null,
            "grid_auto_columns": null,
            "margin": null,
            "display": null,
            "left": null
          }
        },
        "d6f59eaca9ea46ba9af23543f775188a": {
          "model_module": "@jupyter-widgets/controls",
          "model_name": "ProgressStyleModel",
          "model_module_version": "1.5.0",
          "state": {
            "_view_name": "StyleView",
            "_model_name": "ProgressStyleModel",
            "description_width": "",
            "_view_module": "@jupyter-widgets/base",
            "_model_module_version": "1.5.0",
            "_view_count": null,
            "_view_module_version": "1.2.0",
            "bar_color": null,
            "_model_module": "@jupyter-widgets/controls"
          }
        },
        "2fbc7a9059ad4d02b2e075d3e576fbc1": {
          "model_module": "@jupyter-widgets/base",
          "model_name": "LayoutModel",
          "model_module_version": "1.2.0",
          "state": {
            "_view_name": "LayoutView",
            "grid_template_rows": null,
            "right": null,
            "justify_content": null,
            "_view_module": "@jupyter-widgets/base",
            "overflow": null,
            "_model_module_version": "1.2.0",
            "_view_count": null,
            "flex_flow": null,
            "width": null,
            "min_width": null,
            "border": null,
            "align_items": null,
            "bottom": null,
            "_model_module": "@jupyter-widgets/base",
            "top": null,
            "grid_column": null,
            "overflow_y": null,
            "overflow_x": null,
            "grid_auto_flow": null,
            "grid_area": null,
            "grid_template_columns": null,
            "flex": null,
            "_model_name": "LayoutModel",
            "justify_items": null,
            "grid_row": null,
            "max_height": null,
            "align_content": null,
            "visibility": null,
            "align_self": null,
            "height": null,
            "min_height": null,
            "padding": null,
            "grid_auto_rows": null,
            "grid_gap": null,
            "max_width": null,
            "order": null,
            "_view_module_version": "1.2.0",
            "grid_template_areas": null,
            "object_position": null,
            "object_fit": null,
            "grid_auto_columns": null,
            "margin": null,
            "display": null,
            "left": null
          }
        },
        "07152f8a1f3a4287b3dc1366cd310bbe": {
          "model_module": "@jupyter-widgets/controls",
          "model_name": "DescriptionStyleModel",
          "model_module_version": "1.5.0",
          "state": {
            "_view_name": "StyleView",
            "_model_name": "DescriptionStyleModel",
            "description_width": "",
            "_view_module": "@jupyter-widgets/base",
            "_model_module_version": "1.5.0",
            "_view_count": null,
            "_view_module_version": "1.2.0",
            "_model_module": "@jupyter-widgets/controls"
          }
        },
        "6be5a15f9d7f466eaa2a596e68d6067c": {
          "model_module": "@jupyter-widgets/base",
          "model_name": "LayoutModel",
          "model_module_version": "1.2.0",
          "state": {
            "_view_name": "LayoutView",
            "grid_template_rows": null,
            "right": null,
            "justify_content": null,
            "_view_module": "@jupyter-widgets/base",
            "overflow": null,
            "_model_module_version": "1.2.0",
            "_view_count": null,
            "flex_flow": null,
            "width": null,
            "min_width": null,
            "border": null,
            "align_items": null,
            "bottom": null,
            "_model_module": "@jupyter-widgets/base",
            "top": null,
            "grid_column": null,
            "overflow_y": null,
            "overflow_x": null,
            "grid_auto_flow": null,
            "grid_area": null,
            "grid_template_columns": null,
            "flex": null,
            "_model_name": "LayoutModel",
            "justify_items": null,
            "grid_row": null,
            "max_height": null,
            "align_content": null,
            "visibility": null,
            "align_self": null,
            "height": null,
            "min_height": null,
            "padding": null,
            "grid_auto_rows": null,
            "grid_gap": null,
            "max_width": null,
            "order": null,
            "_view_module_version": "1.2.0",
            "grid_template_areas": null,
            "object_position": null,
            "object_fit": null,
            "grid_auto_columns": null,
            "margin": null,
            "display": null,
            "left": null
          }
        },
        "94fd2b10fb9a4837ad207d7a532f64d8": {
          "model_module": "@jupyter-widgets/controls",
          "model_name": "HBoxModel",
          "model_module_version": "1.5.0",
          "state": {
            "_view_name": "HBoxView",
            "_dom_classes": [],
            "_model_name": "HBoxModel",
            "_view_module": "@jupyter-widgets/controls",
            "_model_module_version": "1.5.0",
            "_view_count": null,
            "_view_module_version": "1.5.0",
            "box_style": "",
            "layout": "IPY_MODEL_bb6c596eb37442b186f8300df9ea7ce4",
            "_model_module": "@jupyter-widgets/controls",
            "children": [
              "IPY_MODEL_79caab5369bc47809476a8814ea4215e",
              "IPY_MODEL_9f27874ac7e946f3b398ed1a8f7688ae",
              "IPY_MODEL_0dd5c7b24fb84c26839fa88283ee3c0d"
            ]
          }
        },
        "bb6c596eb37442b186f8300df9ea7ce4": {
          "model_module": "@jupyter-widgets/base",
          "model_name": "LayoutModel",
          "model_module_version": "1.2.0",
          "state": {
            "_view_name": "LayoutView",
            "grid_template_rows": null,
            "right": null,
            "justify_content": null,
            "_view_module": "@jupyter-widgets/base",
            "overflow": null,
            "_model_module_version": "1.2.0",
            "_view_count": null,
            "flex_flow": null,
            "width": null,
            "min_width": null,
            "border": null,
            "align_items": null,
            "bottom": null,
            "_model_module": "@jupyter-widgets/base",
            "top": null,
            "grid_column": null,
            "overflow_y": null,
            "overflow_x": null,
            "grid_auto_flow": null,
            "grid_area": null,
            "grid_template_columns": null,
            "flex": null,
            "_model_name": "LayoutModel",
            "justify_items": null,
            "grid_row": null,
            "max_height": null,
            "align_content": null,
            "visibility": null,
            "align_self": null,
            "height": null,
            "min_height": null,
            "padding": null,
            "grid_auto_rows": null,
            "grid_gap": null,
            "max_width": null,
            "order": null,
            "_view_module_version": "1.2.0",
            "grid_template_areas": null,
            "object_position": null,
            "object_fit": null,
            "grid_auto_columns": null,
            "margin": null,
            "display": null,
            "left": null
          }
        },
        "79caab5369bc47809476a8814ea4215e": {
          "model_module": "@jupyter-widgets/controls",
          "model_name": "HTMLModel",
          "model_module_version": "1.5.0",
          "state": {
            "_view_name": "HTMLView",
            "style": "IPY_MODEL_b53f81579443417ca0b07ed47639c3dc",
            "_dom_classes": [],
            "description": "",
            "_model_name": "HTMLModel",
            "placeholder": "​",
            "_view_module": "@jupyter-widgets/controls",
            "_model_module_version": "1.5.0",
            "value": "Downloading: 100%",
            "_view_count": null,
            "_view_module_version": "1.5.0",
            "description_tooltip": null,
            "_model_module": "@jupyter-widgets/controls",
            "layout": "IPY_MODEL_7f1296cf8184427b8d1ce7889a251bab"
          }
        },
        "9f27874ac7e946f3b398ed1a8f7688ae": {
          "model_module": "@jupyter-widgets/controls",
          "model_name": "FloatProgressModel",
          "model_module_version": "1.5.0",
          "state": {
            "_view_name": "ProgressView",
            "style": "IPY_MODEL_d55965c9e1c14496950c02c52184a44f",
            "_dom_classes": [],
            "description": "",
            "_model_name": "FloatProgressModel",
            "bar_style": "success",
            "max": 466062,
            "_view_module": "@jupyter-widgets/controls",
            "_model_module_version": "1.5.0",
            "value": 466062,
            "_view_count": null,
            "_view_module_version": "1.5.0",
            "orientation": "horizontal",
            "min": 0,
            "description_tooltip": null,
            "_model_module": "@jupyter-widgets/controls",
            "layout": "IPY_MODEL_00a8a62b60cd4c629c7bd57619e15f6b"
          }
        },
        "0dd5c7b24fb84c26839fa88283ee3c0d": {
          "model_module": "@jupyter-widgets/controls",
          "model_name": "HTMLModel",
          "model_module_version": "1.5.0",
          "state": {
            "_view_name": "HTMLView",
            "style": "IPY_MODEL_20b5359274ab42939416ce5f02d278d5",
            "_dom_classes": [],
            "description": "",
            "_model_name": "HTMLModel",
            "placeholder": "​",
            "_view_module": "@jupyter-widgets/controls",
            "_model_module_version": "1.5.0",
            "value": " 455k/455k [00:00&lt;00:00, 1.05MB/s]",
            "_view_count": null,
            "_view_module_version": "1.5.0",
            "description_tooltip": null,
            "_model_module": "@jupyter-widgets/controls",
            "layout": "IPY_MODEL_ced319fbaac647bcb2b5d7ca08679916"
          }
        },
        "b53f81579443417ca0b07ed47639c3dc": {
          "model_module": "@jupyter-widgets/controls",
          "model_name": "DescriptionStyleModel",
          "model_module_version": "1.5.0",
          "state": {
            "_view_name": "StyleView",
            "_model_name": "DescriptionStyleModel",
            "description_width": "",
            "_view_module": "@jupyter-widgets/base",
            "_model_module_version": "1.5.0",
            "_view_count": null,
            "_view_module_version": "1.2.0",
            "_model_module": "@jupyter-widgets/controls"
          }
        },
        "7f1296cf8184427b8d1ce7889a251bab": {
          "model_module": "@jupyter-widgets/base",
          "model_name": "LayoutModel",
          "model_module_version": "1.2.0",
          "state": {
            "_view_name": "LayoutView",
            "grid_template_rows": null,
            "right": null,
            "justify_content": null,
            "_view_module": "@jupyter-widgets/base",
            "overflow": null,
            "_model_module_version": "1.2.0",
            "_view_count": null,
            "flex_flow": null,
            "width": null,
            "min_width": null,
            "border": null,
            "align_items": null,
            "bottom": null,
            "_model_module": "@jupyter-widgets/base",
            "top": null,
            "grid_column": null,
            "overflow_y": null,
            "overflow_x": null,
            "grid_auto_flow": null,
            "grid_area": null,
            "grid_template_columns": null,
            "flex": null,
            "_model_name": "LayoutModel",
            "justify_items": null,
            "grid_row": null,
            "max_height": null,
            "align_content": null,
            "visibility": null,
            "align_self": null,
            "height": null,
            "min_height": null,
            "padding": null,
            "grid_auto_rows": null,
            "grid_gap": null,
            "max_width": null,
            "order": null,
            "_view_module_version": "1.2.0",
            "grid_template_areas": null,
            "object_position": null,
            "object_fit": null,
            "grid_auto_columns": null,
            "margin": null,
            "display": null,
            "left": null
          }
        },
        "d55965c9e1c14496950c02c52184a44f": {
          "model_module": "@jupyter-widgets/controls",
          "model_name": "ProgressStyleModel",
          "model_module_version": "1.5.0",
          "state": {
            "_view_name": "StyleView",
            "_model_name": "ProgressStyleModel",
            "description_width": "",
            "_view_module": "@jupyter-widgets/base",
            "_model_module_version": "1.5.0",
            "_view_count": null,
            "_view_module_version": "1.2.0",
            "bar_color": null,
            "_model_module": "@jupyter-widgets/controls"
          }
        },
        "00a8a62b60cd4c629c7bd57619e15f6b": {
          "model_module": "@jupyter-widgets/base",
          "model_name": "LayoutModel",
          "model_module_version": "1.2.0",
          "state": {
            "_view_name": "LayoutView",
            "grid_template_rows": null,
            "right": null,
            "justify_content": null,
            "_view_module": "@jupyter-widgets/base",
            "overflow": null,
            "_model_module_version": "1.2.0",
            "_view_count": null,
            "flex_flow": null,
            "width": null,
            "min_width": null,
            "border": null,
            "align_items": null,
            "bottom": null,
            "_model_module": "@jupyter-widgets/base",
            "top": null,
            "grid_column": null,
            "overflow_y": null,
            "overflow_x": null,
            "grid_auto_flow": null,
            "grid_area": null,
            "grid_template_columns": null,
            "flex": null,
            "_model_name": "LayoutModel",
            "justify_items": null,
            "grid_row": null,
            "max_height": null,
            "align_content": null,
            "visibility": null,
            "align_self": null,
            "height": null,
            "min_height": null,
            "padding": null,
            "grid_auto_rows": null,
            "grid_gap": null,
            "max_width": null,
            "order": null,
            "_view_module_version": "1.2.0",
            "grid_template_areas": null,
            "object_position": null,
            "object_fit": null,
            "grid_auto_columns": null,
            "margin": null,
            "display": null,
            "left": null
          }
        },
        "20b5359274ab42939416ce5f02d278d5": {
          "model_module": "@jupyter-widgets/controls",
          "model_name": "DescriptionStyleModel",
          "model_module_version": "1.5.0",
          "state": {
            "_view_name": "StyleView",
            "_model_name": "DescriptionStyleModel",
            "description_width": "",
            "_view_module": "@jupyter-widgets/base",
            "_model_module_version": "1.5.0",
            "_view_count": null,
            "_view_module_version": "1.2.0",
            "_model_module": "@jupyter-widgets/controls"
          }
        },
        "ced319fbaac647bcb2b5d7ca08679916": {
          "model_module": "@jupyter-widgets/base",
          "model_name": "LayoutModel",
          "model_module_version": "1.2.0",
          "state": {
            "_view_name": "LayoutView",
            "grid_template_rows": null,
            "right": null,
            "justify_content": null,
            "_view_module": "@jupyter-widgets/base",
            "overflow": null,
            "_model_module_version": "1.2.0",
            "_view_count": null,
            "flex_flow": null,
            "width": null,
            "min_width": null,
            "border": null,
            "align_items": null,
            "bottom": null,
            "_model_module": "@jupyter-widgets/base",
            "top": null,
            "grid_column": null,
            "overflow_y": null,
            "overflow_x": null,
            "grid_auto_flow": null,
            "grid_area": null,
            "grid_template_columns": null,
            "flex": null,
            "_model_name": "LayoutModel",
            "justify_items": null,
            "grid_row": null,
            "max_height": null,
            "align_content": null,
            "visibility": null,
            "align_self": null,
            "height": null,
            "min_height": null,
            "padding": null,
            "grid_auto_rows": null,
            "grid_gap": null,
            "max_width": null,
            "order": null,
            "_view_module_version": "1.2.0",
            "grid_template_areas": null,
            "object_position": null,
            "object_fit": null,
            "grid_auto_columns": null,
            "margin": null,
            "display": null,
            "left": null
          }
        },
        "30f9367ba94848b5a326bf1751c14378": {
          "model_module": "@jupyter-widgets/controls",
          "model_name": "HBoxModel",
          "model_module_version": "1.5.0",
          "state": {
            "_view_name": "HBoxView",
            "_dom_classes": [],
            "_model_name": "HBoxModel",
            "_view_module": "@jupyter-widgets/controls",
            "_model_module_version": "1.5.0",
            "_view_count": null,
            "_view_module_version": "1.5.0",
            "box_style": "",
            "layout": "IPY_MODEL_bf9d4f1e0c3b47d6984c4a1418ca55ab",
            "_model_module": "@jupyter-widgets/controls",
            "children": [
              "IPY_MODEL_ba5d0b37f2fe4777ad202c065acca12f",
              "IPY_MODEL_4bf71e2b85d8468085d288a8e0ecd46a",
              "IPY_MODEL_e8e5406b92b34302836262b743ee2294"
            ]
          }
        },
        "bf9d4f1e0c3b47d6984c4a1418ca55ab": {
          "model_module": "@jupyter-widgets/base",
          "model_name": "LayoutModel",
          "model_module_version": "1.2.0",
          "state": {
            "_view_name": "LayoutView",
            "grid_template_rows": null,
            "right": null,
            "justify_content": null,
            "_view_module": "@jupyter-widgets/base",
            "overflow": null,
            "_model_module_version": "1.2.0",
            "_view_count": null,
            "flex_flow": null,
            "width": null,
            "min_width": null,
            "border": null,
            "align_items": null,
            "bottom": null,
            "_model_module": "@jupyter-widgets/base",
            "top": null,
            "grid_column": null,
            "overflow_y": null,
            "overflow_x": null,
            "grid_auto_flow": null,
            "grid_area": null,
            "grid_template_columns": null,
            "flex": null,
            "_model_name": "LayoutModel",
            "justify_items": null,
            "grid_row": null,
            "max_height": null,
            "align_content": null,
            "visibility": null,
            "align_self": null,
            "height": null,
            "min_height": null,
            "padding": null,
            "grid_auto_rows": null,
            "grid_gap": null,
            "max_width": null,
            "order": null,
            "_view_module_version": "1.2.0",
            "grid_template_areas": null,
            "object_position": null,
            "object_fit": null,
            "grid_auto_columns": null,
            "margin": null,
            "display": null,
            "left": null
          }
        },
        "ba5d0b37f2fe4777ad202c065acca12f": {
          "model_module": "@jupyter-widgets/controls",
          "model_name": "HTMLModel",
          "model_module_version": "1.5.0",
          "state": {
            "_view_name": "HTMLView",
            "style": "IPY_MODEL_836b4b9a3a5041278cd6e210629cd609",
            "_dom_classes": [],
            "description": "",
            "_model_name": "HTMLModel",
            "placeholder": "​",
            "_view_module": "@jupyter-widgets/controls",
            "_model_module_version": "1.5.0",
            "value": "Downloading: 100%",
            "_view_count": null,
            "_view_module_version": "1.5.0",
            "description_tooltip": null,
            "_model_module": "@jupyter-widgets/controls",
            "layout": "IPY_MODEL_3618a371145941bab5a204adbec349c0"
          }
        },
        "4bf71e2b85d8468085d288a8e0ecd46a": {
          "model_module": "@jupyter-widgets/controls",
          "model_name": "FloatProgressModel",
          "model_module_version": "1.5.0",
          "state": {
            "_view_name": "ProgressView",
            "style": "IPY_MODEL_623e052abd1644dfa71a5ffb5a02342e",
            "_dom_classes": [],
            "description": "",
            "_model_name": "FloatProgressModel",
            "bar_style": "success",
            "max": 570,
            "_view_module": "@jupyter-widgets/controls",
            "_model_module_version": "1.5.0",
            "value": 570,
            "_view_count": null,
            "_view_module_version": "1.5.0",
            "orientation": "horizontal",
            "min": 0,
            "description_tooltip": null,
            "_model_module": "@jupyter-widgets/controls",
            "layout": "IPY_MODEL_f76ed3982c75457d81173c46aacbd060"
          }
        },
        "e8e5406b92b34302836262b743ee2294": {
          "model_module": "@jupyter-widgets/controls",
          "model_name": "HTMLModel",
          "model_module_version": "1.5.0",
          "state": {
            "_view_name": "HTMLView",
            "style": "IPY_MODEL_613b8e7f82d44bcd9b06b7f8c71638a7",
            "_dom_classes": [],
            "description": "",
            "_model_name": "HTMLModel",
            "placeholder": "​",
            "_view_module": "@jupyter-widgets/controls",
            "_model_module_version": "1.5.0",
            "value": " 570/570 [00:00&lt;00:00, 14.8kB/s]",
            "_view_count": null,
            "_view_module_version": "1.5.0",
            "description_tooltip": null,
            "_model_module": "@jupyter-widgets/controls",
            "layout": "IPY_MODEL_ae73772e624548a491dd78e8826ea017"
          }
        },
        "836b4b9a3a5041278cd6e210629cd609": {
          "model_module": "@jupyter-widgets/controls",
          "model_name": "DescriptionStyleModel",
          "model_module_version": "1.5.0",
          "state": {
            "_view_name": "StyleView",
            "_model_name": "DescriptionStyleModel",
            "description_width": "",
            "_view_module": "@jupyter-widgets/base",
            "_model_module_version": "1.5.0",
            "_view_count": null,
            "_view_module_version": "1.2.0",
            "_model_module": "@jupyter-widgets/controls"
          }
        },
        "3618a371145941bab5a204adbec349c0": {
          "model_module": "@jupyter-widgets/base",
          "model_name": "LayoutModel",
          "model_module_version": "1.2.0",
          "state": {
            "_view_name": "LayoutView",
            "grid_template_rows": null,
            "right": null,
            "justify_content": null,
            "_view_module": "@jupyter-widgets/base",
            "overflow": null,
            "_model_module_version": "1.2.0",
            "_view_count": null,
            "flex_flow": null,
            "width": null,
            "min_width": null,
            "border": null,
            "align_items": null,
            "bottom": null,
            "_model_module": "@jupyter-widgets/base",
            "top": null,
            "grid_column": null,
            "overflow_y": null,
            "overflow_x": null,
            "grid_auto_flow": null,
            "grid_area": null,
            "grid_template_columns": null,
            "flex": null,
            "_model_name": "LayoutModel",
            "justify_items": null,
            "grid_row": null,
            "max_height": null,
            "align_content": null,
            "visibility": null,
            "align_self": null,
            "height": null,
            "min_height": null,
            "padding": null,
            "grid_auto_rows": null,
            "grid_gap": null,
            "max_width": null,
            "order": null,
            "_view_module_version": "1.2.0",
            "grid_template_areas": null,
            "object_position": null,
            "object_fit": null,
            "grid_auto_columns": null,
            "margin": null,
            "display": null,
            "left": null
          }
        },
        "623e052abd1644dfa71a5ffb5a02342e": {
          "model_module": "@jupyter-widgets/controls",
          "model_name": "ProgressStyleModel",
          "model_module_version": "1.5.0",
          "state": {
            "_view_name": "StyleView",
            "_model_name": "ProgressStyleModel",
            "description_width": "",
            "_view_module": "@jupyter-widgets/base",
            "_model_module_version": "1.5.0",
            "_view_count": null,
            "_view_module_version": "1.2.0",
            "bar_color": null,
            "_model_module": "@jupyter-widgets/controls"
          }
        },
        "f76ed3982c75457d81173c46aacbd060": {
          "model_module": "@jupyter-widgets/base",
          "model_name": "LayoutModel",
          "model_module_version": "1.2.0",
          "state": {
            "_view_name": "LayoutView",
            "grid_template_rows": null,
            "right": null,
            "justify_content": null,
            "_view_module": "@jupyter-widgets/base",
            "overflow": null,
            "_model_module_version": "1.2.0",
            "_view_count": null,
            "flex_flow": null,
            "width": null,
            "min_width": null,
            "border": null,
            "align_items": null,
            "bottom": null,
            "_model_module": "@jupyter-widgets/base",
            "top": null,
            "grid_column": null,
            "overflow_y": null,
            "overflow_x": null,
            "grid_auto_flow": null,
            "grid_area": null,
            "grid_template_columns": null,
            "flex": null,
            "_model_name": "LayoutModel",
            "justify_items": null,
            "grid_row": null,
            "max_height": null,
            "align_content": null,
            "visibility": null,
            "align_self": null,
            "height": null,
            "min_height": null,
            "padding": null,
            "grid_auto_rows": null,
            "grid_gap": null,
            "max_width": null,
            "order": null,
            "_view_module_version": "1.2.0",
            "grid_template_areas": null,
            "object_position": null,
            "object_fit": null,
            "grid_auto_columns": null,
            "margin": null,
            "display": null,
            "left": null
          }
        },
        "613b8e7f82d44bcd9b06b7f8c71638a7": {
          "model_module": "@jupyter-widgets/controls",
          "model_name": "DescriptionStyleModel",
          "model_module_version": "1.5.0",
          "state": {
            "_view_name": "StyleView",
            "_model_name": "DescriptionStyleModel",
            "description_width": "",
            "_view_module": "@jupyter-widgets/base",
            "_model_module_version": "1.5.0",
            "_view_count": null,
            "_view_module_version": "1.2.0",
            "_model_module": "@jupyter-widgets/controls"
          }
        },
        "ae73772e624548a491dd78e8826ea017": {
          "model_module": "@jupyter-widgets/base",
          "model_name": "LayoutModel",
          "model_module_version": "1.2.0",
          "state": {
            "_view_name": "LayoutView",
            "grid_template_rows": null,
            "right": null,
            "justify_content": null,
            "_view_module": "@jupyter-widgets/base",
            "overflow": null,
            "_model_module_version": "1.2.0",
            "_view_count": null,
            "flex_flow": null,
            "width": null,
            "min_width": null,
            "border": null,
            "align_items": null,
            "bottom": null,
            "_model_module": "@jupyter-widgets/base",
            "top": null,
            "grid_column": null,
            "overflow_y": null,
            "overflow_x": null,
            "grid_auto_flow": null,
            "grid_area": null,
            "grid_template_columns": null,
            "flex": null,
            "_model_name": "LayoutModel",
            "justify_items": null,
            "grid_row": null,
            "max_height": null,
            "align_content": null,
            "visibility": null,
            "align_self": null,
            "height": null,
            "min_height": null,
            "padding": null,
            "grid_auto_rows": null,
            "grid_gap": null,
            "max_width": null,
            "order": null,
            "_view_module_version": "1.2.0",
            "grid_template_areas": null,
            "object_position": null,
            "object_fit": null,
            "grid_auto_columns": null,
            "margin": null,
            "display": null,
            "left": null
          }
        },
        "6ccc728efbe74c868cad758471b297e1": {
          "model_module": "@jupyter-widgets/controls",
          "model_name": "HBoxModel",
          "model_module_version": "1.5.0",
          "state": {
            "_view_name": "HBoxView",
            "_dom_classes": [],
            "_model_name": "HBoxModel",
            "_view_module": "@jupyter-widgets/controls",
            "_model_module_version": "1.5.0",
            "_view_count": null,
            "_view_module_version": "1.5.0",
            "box_style": "",
            "layout": "IPY_MODEL_a634ca375d9d43fd8e4739c93f873108",
            "_model_module": "@jupyter-widgets/controls",
            "children": [
              "IPY_MODEL_46cc5862811c4139bdbabfa097d67a7a",
              "IPY_MODEL_daddccdfecfb427eba0973ba63d397b0",
              "IPY_MODEL_3e6ac693e29b4786a16a39159c67051f"
            ]
          }
        },
        "a634ca375d9d43fd8e4739c93f873108": {
          "model_module": "@jupyter-widgets/base",
          "model_name": "LayoutModel",
          "model_module_version": "1.2.0",
          "state": {
            "_view_name": "LayoutView",
            "grid_template_rows": null,
            "right": null,
            "justify_content": null,
            "_view_module": "@jupyter-widgets/base",
            "overflow": null,
            "_model_module_version": "1.2.0",
            "_view_count": null,
            "flex_flow": null,
            "width": null,
            "min_width": null,
            "border": null,
            "align_items": null,
            "bottom": null,
            "_model_module": "@jupyter-widgets/base",
            "top": null,
            "grid_column": null,
            "overflow_y": null,
            "overflow_x": null,
            "grid_auto_flow": null,
            "grid_area": null,
            "grid_template_columns": null,
            "flex": null,
            "_model_name": "LayoutModel",
            "justify_items": null,
            "grid_row": null,
            "max_height": null,
            "align_content": null,
            "visibility": null,
            "align_self": null,
            "height": null,
            "min_height": null,
            "padding": null,
            "grid_auto_rows": null,
            "grid_gap": null,
            "max_width": null,
            "order": null,
            "_view_module_version": "1.2.0",
            "grid_template_areas": null,
            "object_position": null,
            "object_fit": null,
            "grid_auto_columns": null,
            "margin": null,
            "display": null,
            "left": null
          }
        },
        "46cc5862811c4139bdbabfa097d67a7a": {
          "model_module": "@jupyter-widgets/controls",
          "model_name": "HTMLModel",
          "model_module_version": "1.5.0",
          "state": {
            "_view_name": "HTMLView",
            "style": "IPY_MODEL_fe0a32030b3a4f83b6300c6f2687c7c3",
            "_dom_classes": [],
            "description": "",
            "_model_name": "HTMLModel",
            "placeholder": "​",
            "_view_module": "@jupyter-widgets/controls",
            "_model_module_version": "1.5.0",
            "value": "Downloading: 100%",
            "_view_count": null,
            "_view_module_version": "1.5.0",
            "description_tooltip": null,
            "_model_module": "@jupyter-widgets/controls",
            "layout": "IPY_MODEL_2732863adce14bfd8e28d4cca58ed83a"
          }
        },
        "daddccdfecfb427eba0973ba63d397b0": {
          "model_module": "@jupyter-widgets/controls",
          "model_name": "FloatProgressModel",
          "model_module_version": "1.5.0",
          "state": {
            "_view_name": "ProgressView",
            "style": "IPY_MODEL_8e6347a0f62c4293b8ae21e835d58cd3",
            "_dom_classes": [],
            "description": "",
            "_model_name": "FloatProgressModel",
            "bar_style": "success",
            "max": 536063208,
            "_view_module": "@jupyter-widgets/controls",
            "_model_module_version": "1.5.0",
            "value": 536063208,
            "_view_count": null,
            "_view_module_version": "1.5.0",
            "orientation": "horizontal",
            "min": 0,
            "description_tooltip": null,
            "_model_module": "@jupyter-widgets/controls",
            "layout": "IPY_MODEL_8090028fa9e04e8f9eb013ae7abf0de1"
          }
        },
        "3e6ac693e29b4786a16a39159c67051f": {
          "model_module": "@jupyter-widgets/controls",
          "model_name": "HTMLModel",
          "model_module_version": "1.5.0",
          "state": {
            "_view_name": "HTMLView",
            "style": "IPY_MODEL_16852680c2b343868b74de69d3c4cf43",
            "_dom_classes": [],
            "description": "",
            "_model_name": "HTMLModel",
            "placeholder": "​",
            "_view_module": "@jupyter-widgets/controls",
            "_model_module_version": "1.5.0",
            "value": " 511M/511M [00:17&lt;00:00, 32.5MB/s]",
            "_view_count": null,
            "_view_module_version": "1.5.0",
            "description_tooltip": null,
            "_model_module": "@jupyter-widgets/controls",
            "layout": "IPY_MODEL_31ce67b1a8d94fbab60b934ed923ef2e"
          }
        },
        "fe0a32030b3a4f83b6300c6f2687c7c3": {
          "model_module": "@jupyter-widgets/controls",
          "model_name": "DescriptionStyleModel",
          "model_module_version": "1.5.0",
          "state": {
            "_view_name": "StyleView",
            "_model_name": "DescriptionStyleModel",
            "description_width": "",
            "_view_module": "@jupyter-widgets/base",
            "_model_module_version": "1.5.0",
            "_view_count": null,
            "_view_module_version": "1.2.0",
            "_model_module": "@jupyter-widgets/controls"
          }
        },
        "2732863adce14bfd8e28d4cca58ed83a": {
          "model_module": "@jupyter-widgets/base",
          "model_name": "LayoutModel",
          "model_module_version": "1.2.0",
          "state": {
            "_view_name": "LayoutView",
            "grid_template_rows": null,
            "right": null,
            "justify_content": null,
            "_view_module": "@jupyter-widgets/base",
            "overflow": null,
            "_model_module_version": "1.2.0",
            "_view_count": null,
            "flex_flow": null,
            "width": null,
            "min_width": null,
            "border": null,
            "align_items": null,
            "bottom": null,
            "_model_module": "@jupyter-widgets/base",
            "top": null,
            "grid_column": null,
            "overflow_y": null,
            "overflow_x": null,
            "grid_auto_flow": null,
            "grid_area": null,
            "grid_template_columns": null,
            "flex": null,
            "_model_name": "LayoutModel",
            "justify_items": null,
            "grid_row": null,
            "max_height": null,
            "align_content": null,
            "visibility": null,
            "align_self": null,
            "height": null,
            "min_height": null,
            "padding": null,
            "grid_auto_rows": null,
            "grid_gap": null,
            "max_width": null,
            "order": null,
            "_view_module_version": "1.2.0",
            "grid_template_areas": null,
            "object_position": null,
            "object_fit": null,
            "grid_auto_columns": null,
            "margin": null,
            "display": null,
            "left": null
          }
        },
        "8e6347a0f62c4293b8ae21e835d58cd3": {
          "model_module": "@jupyter-widgets/controls",
          "model_name": "ProgressStyleModel",
          "model_module_version": "1.5.0",
          "state": {
            "_view_name": "StyleView",
            "_model_name": "ProgressStyleModel",
            "description_width": "",
            "_view_module": "@jupyter-widgets/base",
            "_model_module_version": "1.5.0",
            "_view_count": null,
            "_view_module_version": "1.2.0",
            "bar_color": null,
            "_model_module": "@jupyter-widgets/controls"
          }
        },
        "8090028fa9e04e8f9eb013ae7abf0de1": {
          "model_module": "@jupyter-widgets/base",
          "model_name": "LayoutModel",
          "model_module_version": "1.2.0",
          "state": {
            "_view_name": "LayoutView",
            "grid_template_rows": null,
            "right": null,
            "justify_content": null,
            "_view_module": "@jupyter-widgets/base",
            "overflow": null,
            "_model_module_version": "1.2.0",
            "_view_count": null,
            "flex_flow": null,
            "width": null,
            "min_width": null,
            "border": null,
            "align_items": null,
            "bottom": null,
            "_model_module": "@jupyter-widgets/base",
            "top": null,
            "grid_column": null,
            "overflow_y": null,
            "overflow_x": null,
            "grid_auto_flow": null,
            "grid_area": null,
            "grid_template_columns": null,
            "flex": null,
            "_model_name": "LayoutModel",
            "justify_items": null,
            "grid_row": null,
            "max_height": null,
            "align_content": null,
            "visibility": null,
            "align_self": null,
            "height": null,
            "min_height": null,
            "padding": null,
            "grid_auto_rows": null,
            "grid_gap": null,
            "max_width": null,
            "order": null,
            "_view_module_version": "1.2.0",
            "grid_template_areas": null,
            "object_position": null,
            "object_fit": null,
            "grid_auto_columns": null,
            "margin": null,
            "display": null,
            "left": null
          }
        },
        "16852680c2b343868b74de69d3c4cf43": {
          "model_module": "@jupyter-widgets/controls",
          "model_name": "DescriptionStyleModel",
          "model_module_version": "1.5.0",
          "state": {
            "_view_name": "StyleView",
            "_model_name": "DescriptionStyleModel",
            "description_width": "",
            "_view_module": "@jupyter-widgets/base",
            "_model_module_version": "1.5.0",
            "_view_count": null,
            "_view_module_version": "1.2.0",
            "_model_module": "@jupyter-widgets/controls"
          }
        },
        "31ce67b1a8d94fbab60b934ed923ef2e": {
          "model_module": "@jupyter-widgets/base",
          "model_name": "LayoutModel",
          "model_module_version": "1.2.0",
          "state": {
            "_view_name": "LayoutView",
            "grid_template_rows": null,
            "right": null,
            "justify_content": null,
            "_view_module": "@jupyter-widgets/base",
            "overflow": null,
            "_model_module_version": "1.2.0",
            "_view_count": null,
            "flex_flow": null,
            "width": null,
            "min_width": null,
            "border": null,
            "align_items": null,
            "bottom": null,
            "_model_module": "@jupyter-widgets/base",
            "top": null,
            "grid_column": null,
            "overflow_y": null,
            "overflow_x": null,
            "grid_auto_flow": null,
            "grid_area": null,
            "grid_template_columns": null,
            "flex": null,
            "_model_name": "LayoutModel",
            "justify_items": null,
            "grid_row": null,
            "max_height": null,
            "align_content": null,
            "visibility": null,
            "align_self": null,
            "height": null,
            "min_height": null,
            "padding": null,
            "grid_auto_rows": null,
            "grid_gap": null,
            "max_width": null,
            "order": null,
            "_view_module_version": "1.2.0",
            "grid_template_areas": null,
            "object_position": null,
            "object_fit": null,
            "grid_auto_columns": null,
            "margin": null,
            "display": null,
            "left": null
          }
        }
      }
    }
  },
  "nbformat": 4,
  "nbformat_minor": 0
}