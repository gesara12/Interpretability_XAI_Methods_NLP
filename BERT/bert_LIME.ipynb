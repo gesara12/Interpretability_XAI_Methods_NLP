{
  "cells": [
    {
      "cell_type": "code",
      "execution_count": null,
      "metadata": {
        "colab": {
          "base_uri": "https://localhost:8080/"
        },
        "id": "gpZw_9OQoyq9",
        "outputId": "86752710-46fa-48fa-ddb7-362182274156"
      },
      "outputs": [
        {
          "output_type": "stream",
          "name": "stdout",
          "text": [
            "Drive already mounted at /content/drive; to attempt to forcibly remount, call drive.mount(\"/content/drive\", force_remount=True).\n"
          ]
        }
      ],
      "source": [
        "from google.colab import drive\n",
        "drive.mount('/content/drive')"
      ]
    },
    {
      "cell_type": "code",
      "execution_count": null,
      "metadata": {
        "id": "VYIXBuExrpgX"
      },
      "outputs": [],
      "source": [
        "pip install -q transformers"
      ]
    },
    {
      "cell_type": "code",
      "execution_count": null,
      "metadata": {
        "id": "MRq79MdlpHff"
      },
      "outputs": [],
      "source": [
        "pip install -q lime"
      ]
    },
    {
      "cell_type": "code",
      "execution_count": null,
      "metadata": {
        "id": "R8L1jOFrqW9r"
      },
      "outputs": [],
      "source": [
        "import pandas as pd\n",
        "import torch\n",
        "import pickle\n",
        "from lime.lime_text import LimeTextExplainer\n",
        "from torch.nn import functional as F"
      ]
    },
    {
      "cell_type": "code",
      "execution_count": null,
      "metadata": {
        "id": "V07vCeizs1Ir"
      },
      "outputs": [],
      "source": [
        "device = torch.device(\"cuda\")"
      ]
    },
    {
      "cell_type": "code",
      "execution_count": null,
      "metadata": {
        "id": "UhDEboXjrmRj"
      },
      "outputs": [],
      "source": [
        "from transformers import BertTokenizer\n",
        "tokenizer = BertTokenizer.from_pretrained('bert-base-uncased', do_lower_case=True)"
      ]
    },
    {
      "cell_type": "code",
      "execution_count": null,
      "metadata": {
        "id": "43407b87-ff77-4ada-a4eb-26f174a54cd5"
      },
      "outputs": [],
      "source": [
        "test =  pd.read_csv('/content/drive/MyDrive/MasterThesis/Dataset/X_test_all.csv')\n",
        "test_sentences = test['clean_review']"
      ]
    },
    {
      "cell_type": "code",
      "execution_count": null,
      "metadata": {
        "id": "RNVG642JsLZS"
      },
      "outputs": [],
      "source": [
        "model = torch.load('/content/drive/MyDrive/MasterThesis/BERT/bert_1', map_location=\"cuda:0\")"
      ]
    },
    {
      "cell_type": "code",
      "execution_count": null,
      "metadata": {
        "id": "MQ68msNgqMBk"
      },
      "outputs": [],
      "source": [
        "explainer = LimeTextExplainer(class_names=[\"Negative\", \"Positive\"])"
      ]
    },
    {
      "cell_type": "code",
      "execution_count": null,
      "metadata": {
        "id": "iSmBFFciqVhh"
      },
      "outputs": [],
      "source": [
        "#texts = test['clean_review'].to_list()\n",
        "\n",
        "def new_predict(texts):\n",
        "    tokens = tokenizer(texts, return_tensors='pt', padding=True)\n",
        "    output = model(tokens['input_ids'].to(device), tokens['attention_mask'].to(device))[0]\n",
        "    tensor_logits = output\n",
        "    probas = F.softmax(tensor_logits, dim=-1).cpu().detach().numpy()\n",
        "    return probas"
      ]
    },
    {
      "cell_type": "code",
      "execution_count": null,
      "metadata": {
        "id": "bAnqRJlrqscO"
      },
      "outputs": [],
      "source": [
        "#i = 3145\n",
        "#exp = explainer.explain_instance(test_sentences.iloc[i], new_predict, num_features=30, num_samples=100)  #number of samples is small\n",
        "#exp.show_in_notebook()"
      ]
    },
    {
      "cell_type": "code",
      "source": [
        "#s = 'place consistent pizzas came looking exactly like yelp pictures afraid single piece pizza entire center pizza crust completely soggy second piece pizza cold not mention toppings skimpy haphazard not close representing art pieces lamb sausage pizza sausage mushroom leek pizza got super bland liberal dose hot pepper flakes ditch failed effort majority remained limp cold pies crust recipe testing'"
      ],
      "metadata": {
        "id": "u4ngDzsh_Srg"
      },
      "execution_count": null,
      "outputs": []
    },
    {
      "cell_type": "code",
      "source": [
        "exp = explainer.explain_instance(test_sentences.iloc[2047], new_predict, num_features=50, num_samples=100) \n",
        "exp_list = exp.as_list()\n",
        "sorted_list = sorted(exp_list, key=lambda x: x[1])\n",
        "#lime_calc.append(sorted_list)\n",
        "sorted_list"
      ],
      "metadata": {
        "colab": {
          "base_uri": "https://localhost:8080/"
        },
        "id": "1hByiu9hr2Kf",
        "outputId": "505bbade-8bbe-4d80-9990-aaf00dde98b0"
      },
      "execution_count": null,
      "outputs": [
        {
          "output_type": "execute_result",
          "data": {
            "text/plain": [
              "[('stay', -0.0342065081360304),\n",
              " ('experience', -0.02847821743496565),\n",
              " ('free', -0.025224831669638032),\n",
              " ('couldn', -0.02504014438487464),\n",
              " ('god', -0.021007830695492186),\n",
              " ('away', -0.019550693055399335),\n",
              " ('terrible', -0.018417781225359288),\n",
              " ('lie', -0.016586282432971795),\n",
              " ('worst', -0.014131741203752834),\n",
              " ('possible', -0.013334565657789357),\n",
              " ('horrible', -0.012302214894240387),\n",
              " ('smelled', -0.012136710240631428),\n",
              " ('disgusting', -0.011600693148084958),\n",
              " ('situation', -0.004218969522827772),\n",
              " ('cockroaches', -0.003206733880870698),\n",
              " ('place', -0.0007976608686268581),\n",
              " ('not', 0.0056844426411481195),\n",
              " ('know', 0.006850957445118752),\n",
              " ('absolutely', 0.008790734698605094),\n",
              " ('big', 0.009056970433711386),\n",
              " ('room', 0.009544966990922102),\n",
              " ('omg', 0.010415628439013275),\n",
              " ('mention', 0.013809795027624435),\n",
              " ('stayed', 0.015836111155572968),\n",
              " ('thank', 0.016301572523908917),\n",
              " ('wifi', 0.01865746617995945),\n",
              " ('night', 0.019496914848420126),\n",
              " ('hours', 0.021990444516336433),\n",
              " ('sleep', 0.022267914300196257),\n",
              " ('toilet', 0.023202794539390295)]"
            ]
          },
          "metadata": {},
          "execution_count": 25
        }
      ]
    },
    {
      "cell_type": "markdown",
      "metadata": {
        "id": "fk8BrhS2ihmF"
      },
      "source": [
        "**Sample calculation**\n",
        "\n",
        "Calculating and saving feature importance score for the reviews used as a demonstration example to measure the proposed criteria."
      ]
    },
    {
      "cell_type": "code",
      "execution_count": null,
      "metadata": {
        "id": "y4uQn-a9idk2"
      },
      "outputs": [],
      "source": [
        "pos_sample = pickle.load(open('/content/drive/MyDrive/MasterThesis/Dataset/positive_sample_50', 'rb'))\n",
        "neg_sample = pickle.load(open('/content/drive/MyDrive/MasterThesis/Dataset/negative_sample_50', 'rb')) "
      ]
    },
    {
      "cell_type": "code",
      "execution_count": null,
      "metadata": {
        "id": "TBdQcmMWidqe"
      },
      "outputs": [],
      "source": [
        "def lime_calc(sample):\n",
        "  lime_calc = []\n",
        "  for i in sample:\n",
        "    exp = explainer.explain_instance(test_sentences.iloc[i], new_predict, num_features=50, num_samples=100) \n",
        "    exp_list = exp.as_list()\n",
        "    sorted_list = sorted(exp_list, key=lambda x: x[1])\n",
        "    lime_calc.append(sorted_list)\n",
        "  return lime_calc"
      ]
    },
    {
      "cell_type": "code",
      "execution_count": null,
      "metadata": {
        "id": "ObIPpUqjiduj"
      },
      "outputs": [],
      "source": [
        "r = lime_calc(pos_sample) \n",
        "with open('/content/drive/MyDrive/MasterThesis/Dataset/lime_bert_positive_sample_50', 'wb') as f:\n",
        "    pickle.dump(r, f) \n",
        "\n",
        "r = lime_calc(neg_sample)\n",
        "with open('/content/drive/MyDrive/MasterThesis/Dataset/lime_bert_negative_sample_50', 'wb') as f:\n",
        "    pickle.dump(r, f)        "
      ]
    }
  ],
  "metadata": {
    "accelerator": "GPU",
    "colab": {
      "collapsed_sections": [],
      "machine_shape": "hm",
      "name": "bert_LIME.ipynb",
      "provenance": []
    },
    "kernelspec": {
      "display_name": "Python 3",
      "name": "python3"
    },
    "language_info": {
      "name": "python"
    }
  },
  "nbformat": 4,
  "nbformat_minor": 0
}
