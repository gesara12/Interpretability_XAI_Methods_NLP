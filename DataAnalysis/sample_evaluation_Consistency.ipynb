{
  "nbformat": 4,
  "nbformat_minor": 0,
  "metadata": {
    "colab": {
      "name": "sample_evaluation - Consistency.ipynb",
      "provenance": [],
      "collapsed_sections": []
    },
    "kernelspec": {
      "name": "python3",
      "display_name": "Python 3"
    },
    "language_info": {
      "name": "python"
    }
  },
  "cells": [
    {
      "cell_type": "markdown",
      "source": [
        "**Consistency Calculation Using One Sample for Correctly Predicted Negative Reviews and One for Correctly Predicted Positive Review**\n",
        "\n",
        "This notebooks is refered to results in section **5.6.3.1** from the research document. "
      ],
      "metadata": {
        "id": "XZCqtSTDb_4n"
      }
    },
    {
      "cell_type": "markdown",
      "source": [
        "**CONSISTENCY CALCULATION**"
      ],
      "metadata": {
        "id": "drTkDKUXcR-n"
      }
    },
    {
      "cell_type": "code",
      "execution_count": null,
      "metadata": {
        "colab": {
          "base_uri": "https://localhost:8080/"
        },
        "id": "zkNoWarWbkAW",
        "outputId": "a5470516-f40b-4238-c1a5-b3e0f2d7b178"
      },
      "outputs": [
        {
          "output_type": "stream",
          "name": "stdout",
          "text": [
            "Drive already mounted at /content/drive; to attempt to forcibly remount, call drive.mount(\"/content/drive\", force_remount=True).\n"
          ]
        }
      ],
      "source": [
        "from google.colab import drive\n",
        "drive.mount('/content/drive')"
      ]
    },
    {
      "cell_type": "code",
      "source": [
        "import pickle\n",
        "import pandas as pd\n",
        "import numpy as np\n",
        "import random\n",
        "from scipy.stats import pearsonr"
      ],
      "metadata": {
        "id": "LYFS29jBcF1W"
      },
      "execution_count": null,
      "outputs": []
    },
    {
      "cell_type": "code",
      "source": [
        "%matplotlib inline\n",
        "import matplotlib.pyplot as plt\n",
        "plt.style.use('seaborn-whitegrid')\n",
        "import numpy as np"
      ],
      "metadata": {
        "id": "4tT8GD4w3obR"
      },
      "execution_count": null,
      "outputs": []
    },
    {
      "cell_type": "code",
      "source": [
        "#read the table\n",
        "df = pickle.load(open('/content/drive/MyDrive/MasterThesis/Dataset/reults_union', 'rb'))"
      ],
      "metadata": {
        "id": "imQVXxKrcHH0"
      },
      "execution_count": null,
      "outputs": []
    },
    {
      "cell_type": "code",
      "source": [
        "pos_i = pickle.load(open('/content/drive/MyDrive/MasterThesis/Dataset/positive_sample_50', 'rb'))\n",
        "neg_i = pickle.load(open('/content/drive/MyDrive/MasterThesis/Dataset/negative_sample_50', 'rb')) "
      ],
      "metadata": {
        "id": "trHiTtWIcZTW"
      },
      "execution_count": null,
      "outputs": []
    },
    {
      "cell_type": "code",
      "source": [
        "#function to check number of positive and number of negative features\n",
        "def func_feature_imp (sample_sentence):\n",
        "  pos_values = [el[0] for el in sample_sentence if el[1] > 0]\n",
        "  neg_values = [el[0] for el in sample_sentence if el[1] < 0]\n",
        "  return pos_values, neg_values"
      ],
      "metadata": {
        "id": "E2fOAkFKz7aM"
      },
      "execution_count": null,
      "outputs": []
    },
    {
      "cell_type": "code",
      "source": [
        "def jaccard_similarity(list1, list2, list3):\n",
        "    s1 = set(list1)\n",
        "    s2 = set(list2)\n",
        "    s3 = set(list3)\n",
        "    r = (float(len(s1.intersection(s2)) / len(s1.union(s2)))+float(len(s1.intersection(s3)) / len(s1.union(s3)))+float(len(s2.intersection(s3)) / len(s2.union(s3))))/3\n",
        "    return r"
      ],
      "metadata": {
        "id": "SUgypA5UdjRZ"
      },
      "execution_count": null,
      "outputs": []
    },
    {
      "cell_type": "code",
      "source": [
        "def cons_score(cnn_l, lstm_l, bert_l, k): #k=0 for positive values, k=1 for negative values\n",
        "  csl = [] #consistency score list\n",
        "  for indx in range(50):\n",
        "    cnn = func_feature_imp (cnn_l[indx])[k]\n",
        "    lstm = func_feature_imp (lstm_l[indx])[k]\n",
        "    bert = func_feature_imp (bert_l[indx])[k]\n",
        "    js = jaccard_similarity(cnn, lstm, bert)\n",
        "    csl.append(js)\n",
        "  return csl\n"
      ],
      "metadata": {
        "id": "vJO-rWvM3i5F"
      },
      "execution_count": null,
      "outputs": []
    },
    {
      "cell_type": "code",
      "source": [
        "#count the lengh of each explanation, for BERT might be different because of word piecing\n",
        "def count_l(cnn_l, lstm_l, bert_l):\n",
        "  a = []\n",
        "  for indx in range(50):\n",
        "    r = (len(cnn_l[indx]) + len(lstm_l[indx]) + len(bert_l[indx]))/3\n",
        "    a.append(r)\n",
        "  return a\n",
        " "
      ],
      "metadata": {
        "id": "81zbLvbzxsyU"
      },
      "execution_count": null,
      "outputs": []
    },
    {
      "cell_type": "markdown",
      "source": [
        "**LIME**"
      ],
      "metadata": {
        "id": "phnd3PSlfcs3"
      }
    },
    {
      "cell_type": "code",
      "source": [
        "cnn_pos = pickle.load(open('/content/drive/MyDrive/MasterThesis/Dataset/lime_cnn_positive_sample_50', 'rb'))\n",
        "lstm_pos = pickle.load(open('/content/drive/MyDrive/MasterThesis/Dataset/lime_lstm_positive_sample_50', 'rb'))\n",
        "bert_pos = pickle.load(open('/content/drive/MyDrive/MasterThesis/Dataset/lime_bert_positive_sample_50', 'rb'))"
      ],
      "metadata": {
        "id": "ODYjJJYRm-X_"
      },
      "execution_count": null,
      "outputs": []
    },
    {
      "cell_type": "code",
      "source": [
        "l = count_l(cnn_pos, lstm_pos, lstm_pos)\n",
        "r_pos_lime = cons_score(cnn_pos, lstm_pos, bert_pos, 0)\n",
        "print('Average consistency score:', sum(r_pos_lime)/50)"
      ],
      "metadata": {
        "colab": {
          "base_uri": "https://localhost:8080/"
        },
        "id": "RTKFZ3qG1lvL",
        "outputId": "8f361b62-f22c-4b70-a70a-2508feded99a"
      },
      "execution_count": null,
      "outputs": [
        {
          "output_type": "stream",
          "name": "stdout",
          "text": [
            "Average consistency score: 0.47935507364225827\n"
          ]
        }
      ]
    },
    {
      "cell_type": "code",
      "source": [
        "print(min(r_pos_lime), max(r_pos_lime))"
      ],
      "metadata": {
        "colab": {
          "base_uri": "https://localhost:8080/"
        },
        "id": "Ph6c2YYhWHSm",
        "outputId": "678f30f6-1c75-4be9-f183-0aeb2647376b"
      },
      "execution_count": null,
      "outputs": [
        {
          "output_type": "stream",
          "name": "stdout",
          "text": [
            "0.22469135802469134 0.6611111111111111\n"
          ]
        }
      ]
    },
    {
      "cell_type": "code",
      "source": [
        "plt.figure(figsize=(10,5))\n",
        "x = l\n",
        "y = r_pos_lime\n",
        "plt.plot(x, y, 'o', color='black');\n",
        "\n",
        "print('Pearson Coef.:',pearsonr(x, y))"
      ],
      "metadata": {
        "colab": {
          "base_uri": "https://localhost:8080/",
          "height": 333
        },
        "id": "d6ZCStGl2qcC",
        "outputId": "9fe9f2f0-824d-4622-87a8-38dfe74165eb"
      },
      "execution_count": null,
      "outputs": [
        {
          "output_type": "stream",
          "name": "stdout",
          "text": [
            "Pearson Coef.: (-0.3707485581728922, 0.008037948776125032)\n"
          ]
        },
        {
          "output_type": "display_data",
          "data": {
            "image/png": "[encoded data removed]",
            "text/plain": [
              "<Figure size 720x360 with 1 Axes>"
            ]
          },
          "metadata": {}
        }
      ]
    },
    {
      "cell_type": "code",
      "source": [
        "cnn_neg = pickle.load(open('/content/drive/MyDrive/MasterThesis/Dataset/lime_cnn_negative_sample_50', 'rb'))\n",
        "lstm_neg = pickle.load(open('/content/drive/MyDrive/MasterThesis/Dataset/lime_lstm_negative_sample_50', 'rb'))\n",
        "bert_neg = pickle.load(open('/content/drive/MyDrive/MasterThesis/Dataset/lime_bert_negative_sample_50', 'rb'))"
      ],
      "metadata": {
        "id": "szGSCvNdnCb3"
      },
      "execution_count": null,
      "outputs": []
    },
    {
      "cell_type": "code",
      "source": [
        "l = count_l(cnn_neg, lstm_neg, lstm_neg)\n",
        "r_neg_lime = cons_score(cnn_neg, lstm_neg, bert_neg, 1)\n",
        "print('Average consistency score:', sum(r_neg_lime)/50)"
      ],
      "metadata": {
        "colab": {
          "base_uri": "https://localhost:8080/"
        },
        "id": "eP5XjcL1no_v",
        "outputId": "e8f7111f-1eb6-4bd5-ae9e-cf29f2b96191"
      },
      "execution_count": null,
      "outputs": [
        {
          "output_type": "stream",
          "name": "stdout",
          "text": [
            "Average consistency score: 0.45921091505702755\n"
          ]
        }
      ]
    },
    {
      "cell_type": "code",
      "source": [
        "print(min(r_neg_lime), max(r_neg_lime))"
      ],
      "metadata": {
        "colab": {
          "base_uri": "https://localhost:8080/"
        },
        "id": "PFjSNn41WXy6",
        "outputId": "8d81a52a-4392-453b-8c08-d9430b361624"
      },
      "execution_count": null,
      "outputs": [
        {
          "output_type": "stream",
          "name": "stdout",
          "text": [
            "0.17853714449459132 0.6431683784624961\n"
          ]
        }
      ]
    },
    {
      "cell_type": "code",
      "source": [
        "plt.figure(figsize=(10,5))\n",
        "x = l\n",
        "y = r_neg_lime\n",
        "plt.plot(x, y, 'o', color='black');\n",
        "\n",
        "print('Pearson Coef.:',pearsonr(x, y))"
      ],
      "metadata": {
        "colab": {
          "base_uri": "https://localhost:8080/",
          "height": 333
        },
        "id": "06CwUhU0n-Hi",
        "outputId": "2eb5005b-de93-4e9f-d1a0-1a2e17020a77"
      },
      "execution_count": null,
      "outputs": [
        {
          "output_type": "stream",
          "name": "stdout",
          "text": [
            "Pearson Coef.: (-0.6845449780290019, 4.2108701622219356e-08)\n"
          ]
        },
        {
          "output_type": "display_data",
          "data": {
            "image/png": "[encoded data removed]",
            "text/plain": [
              "<Figure size 720x360 with 1 Axes>"
            ]
          },
          "metadata": {}
        }
      ]
    },
    {
      "cell_type": "markdown",
      "source": [
        "**SHAP**"
      ],
      "metadata": {
        "id": "fF0cdqXGcyxg"
      }
    },
    {
      "cell_type": "code",
      "source": [
        "cnn_pos = pickle.load(open('/content/drive/MyDrive/MasterThesis/Dataset/shap_cnn_final_list_pos', 'rb'))\n",
        "lstm_pos = pickle.load(open('/content/drive/MyDrive/MasterThesis/Dataset/shap_lstm_final_list_pos', 'rb'))\n",
        "bert_pos = pickle.load(open('/content/drive/MyDrive/MasterThesis/Dataset/bert_shap_positive_sample_50', 'rb'))\n",
        "\n",
        "\n",
        "cnn_neg = pickle.load(open('/content/drive/MyDrive/MasterThesis/Dataset/shap_cnn_final_list_neg', 'rb'))\n",
        "lstm_neg = pickle.load(open('/content/drive/MyDrive/MasterThesis/Dataset/shap_lstm_final_list_neg', 'rb'))\n",
        "bert_neg = pickle.load(open('/content/drive/MyDrive/MasterThesis/Dataset/bert_shap_negative_sample_50', 'rb'))"
      ],
      "metadata": {
        "id": "PJsQd65Jcaly"
      },
      "execution_count": null,
      "outputs": []
    },
    {
      "cell_type": "code",
      "source": [
        "l = count_l(cnn_pos, lstm_pos, lstm_pos)\n",
        "r_pos_shap = cons_score(cnn_pos, lstm_pos, bert_pos, 0)\n",
        "print('Average consistency score:', sum(r_pos_shap)/50)"
      ],
      "metadata": {
        "colab": {
          "base_uri": "https://localhost:8080/"
        },
        "id": "J--scICL7jL8",
        "outputId": "6c6d6b5a-b272-45e2-e353-3195963dc30f"
      },
      "execution_count": null,
      "outputs": [
        {
          "output_type": "stream",
          "name": "stdout",
          "text": [
            "Average consistency score: 0.4869982818145269\n"
          ]
        }
      ]
    },
    {
      "cell_type": "code",
      "source": [
        "print(min(r_pos_shap), max(r_pos_shap))"
      ],
      "metadata": {
        "colab": {
          "base_uri": "https://localhost:8080/"
        },
        "id": "NiErsEsmWbHR",
        "outputId": "64889984-e409-4dac-db13-be7b68b9158c"
      },
      "execution_count": null,
      "outputs": [
        {
          "output_type": "stream",
          "name": "stdout",
          "text": [
            "0.32037037037037036 0.6259235578289287\n"
          ]
        }
      ]
    },
    {
      "cell_type": "code",
      "source": [
        "plt.figure(figsize=(10,5))\n",
        "x = l\n",
        "y = r_pos_shap\n",
        "plt.plot(x, y, 'o', color='black');\n",
        "\n",
        "print('Pearson Coef.:',pearsonr(x, y))"
      ],
      "metadata": {
        "colab": {
          "base_uri": "https://localhost:8080/",
          "height": 333
        },
        "id": "WGQlhuwf7waK",
        "outputId": "16214a3a-3d98-467e-deeb-bacc56ae2c4b"
      },
      "execution_count": null,
      "outputs": [
        {
          "output_type": "stream",
          "name": "stdout",
          "text": [
            "Pearson Coef.: (0.009895686010135081, 0.9456225497879847)\n"
          ]
        },
        {
          "output_type": "display_data",
          "data": {
            "image/png": "[encoded data removed]",
            "text/plain": [
              "<Figure size 720x360 with 1 Axes>"
            ]
          },
          "metadata": {}
        }
      ]
    },
    {
      "cell_type": "code",
      "source": [
        "l = count_l(cnn_neg, lstm_neg, lstm_neg)\n",
        "r_neg_shap = cons_score(cnn_neg, lstm_neg, bert_neg, 1)\n",
        "print('Average consistency score:', sum(r_neg_shap)/50)"
      ],
      "metadata": {
        "id": "uf6MtV1s4Hk0",
        "colab": {
          "base_uri": "https://localhost:8080/"
        },
        "outputId": "1d94f092-d7b1-452f-92b9-26709cf48039"
      },
      "execution_count": null,
      "outputs": [
        {
          "output_type": "stream",
          "name": "stdout",
          "text": [
            "Average consistency score: 0.49923982748352924\n"
          ]
        }
      ]
    },
    {
      "cell_type": "code",
      "source": [
        "print(min(r_neg_shap), max(r_neg_shap))"
      ],
      "metadata": {
        "colab": {
          "base_uri": "https://localhost:8080/"
        },
        "id": "K1u6O5RNWh7M",
        "outputId": "f8a3fe77-46e4-427a-fbbc-0699f1515b3e"
      },
      "execution_count": null,
      "outputs": [
        {
          "output_type": "stream",
          "name": "stdout",
          "text": [
            "0.3543925821153544 0.7254901960784315\n"
          ]
        }
      ]
    },
    {
      "cell_type": "code",
      "source": [
        "plt.figure(figsize=(10,5))\n",
        "x = l\n",
        "y = r_neg_shap\n",
        "plt.plot(x, y, 'o', color='black')\n",
        "\n",
        "print('Pearson Coef.:',pearsonr(x, y))"
      ],
      "metadata": {
        "colab": {
          "base_uri": "https://localhost:8080/",
          "height": 333
        },
        "id": "L2Udd6H0z7fO",
        "outputId": "31bd0c78-84e8-4161-86d1-5a58345b0ede"
      },
      "execution_count": null,
      "outputs": [
        {
          "output_type": "stream",
          "name": "stdout",
          "text": [
            "Pearson Coef.: (-0.4183019255937821, 0.002503055884178354)\n"
          ]
        },
        {
          "output_type": "display_data",
          "data": {
            "image/png": "[encoded data removed]",
            "text/plain": [
              "<Figure size 720x360 with 1 Axes>"
            ]
          },
          "metadata": {}
        }
      ]
    },
    {
      "cell_type": "markdown",
      "source": [
        "**IG**"
      ],
      "metadata": {
        "id": "H0XHmAnQoTff"
      }
    },
    {
      "cell_type": "code",
      "source": [
        "cnn_pos = pickle.load(open('/content/drive/MyDrive/MasterThesis/Dataset/ig_cnn_final_list_pos', 'rb'))\n",
        "lstm_pos = pickle.load(open('/content/drive/MyDrive/MasterThesis/Dataset/ig_lstm_final_list_pos', 'rb'))\n",
        "bert_pos = pickle.load(open('/content/drive/MyDrive/MasterThesis/Dataset/ig_bert_final_list_pos', 'rb'))"
      ],
      "metadata": {
        "id": "otjAKfpdz689"
      },
      "execution_count": null,
      "outputs": []
    },
    {
      "cell_type": "code",
      "source": [
        "cnn_neg = pickle.load(open('/content/drive/MyDrive/MasterThesis/Dataset/ig_cnn_final_list_neg', 'rb'))\n",
        "lstm_neg = pickle.load(open('/content/drive/MyDrive/MasterThesis/Dataset/ig_lstm_final_list_neg', 'rb'))\n",
        "bert_neg = pickle.load(open('/content/drive/MyDrive/MasterThesis/Dataset/ig_bert_final_list_neg', 'rb'))"
      ],
      "metadata": {
        "id": "N1eNWXmzvXyq"
      },
      "execution_count": null,
      "outputs": []
    },
    {
      "cell_type": "code",
      "source": [
        "l = count_l(cnn_pos, lstm_pos, lstm_pos)\n",
        "r_pos_ig = cons_score(cnn_pos, lstm_pos, bert_pos, 0)\n",
        "print('Average consistency score:', sum(r_pos_ig)/50)"
      ],
      "metadata": {
        "colab": {
          "base_uri": "https://localhost:8080/"
        },
        "id": "P81PUi1OorP7",
        "outputId": "9c8af76c-b7e6-4a65-9ca0-1c825a1fc0e6"
      },
      "execution_count": null,
      "outputs": [
        {
          "output_type": "stream",
          "name": "stdout",
          "text": [
            "Average consistency score: 0.3974061600218343\n"
          ]
        }
      ]
    },
    {
      "cell_type": "code",
      "source": [
        "print(min(r_pos_ig), max(r_pos_ig))"
      ],
      "metadata": {
        "colab": {
          "base_uri": "https://localhost:8080/"
        },
        "id": "kEwRYXVjWk1j",
        "outputId": "6e130a13-3b19-4699-c2f8-21023cb83822"
      },
      "execution_count": null,
      "outputs": [
        {
          "output_type": "stream",
          "name": "stdout",
          "text": [
            "0.14007936507936508 0.7296296296296295\n"
          ]
        }
      ]
    },
    {
      "cell_type": "code",
      "source": [
        "plt.figure(figsize=(10,5))\n",
        "x = l\n",
        "y = r_pos_ig\n",
        "plt.plot(x, y, 'o', color='black');\n",
        "\n",
        "print('Pearson Coef.:',pearsonr(x, y))"
      ],
      "metadata": {
        "colab": {
          "base_uri": "https://localhost:8080/",
          "height": 333
        },
        "id": "qfiUmJYxosiB",
        "outputId": "2cb0e090-bb8c-4775-b702-d667040b1727"
      },
      "execution_count": null,
      "outputs": [
        {
          "output_type": "stream",
          "name": "stdout",
          "text": [
            "Pearson Coef.: (-0.4962093114985667, 0.00024757927598633437)\n"
          ]
        },
        {
          "output_type": "display_data",
          "data": {
            "image/png": "[encoded data removed]",
            "text/plain": [
              "<Figure size 720x360 with 1 Axes>"
            ]
          },
          "metadata": {}
        }
      ]
    },
    {
      "cell_type": "code",
      "source": [
        "l = count_l(cnn_neg, lstm_neg, lstm_neg)\n",
        "r_neg_ig = cons_score(cnn_neg, lstm_neg, bert_neg, 0)\n",
        "print('Average consistency score:', sum(r_neg_ig)/50)"
      ],
      "metadata": {
        "colab": {
          "base_uri": "https://localhost:8080/"
        },
        "id": "xoocfvzRw5dK",
        "outputId": "911f1d1c-22f8-444b-a1d8-dcdcc091aa93"
      },
      "execution_count": null,
      "outputs": [
        {
          "output_type": "stream",
          "name": "stdout",
          "text": [
            "Average consistency score: 0.39431549025323265\n"
          ]
        }
      ]
    },
    {
      "cell_type": "code",
      "source": [
        "print(min(r_neg_ig), max(r_neg_ig))"
      ],
      "metadata": {
        "colab": {
          "base_uri": "https://localhost:8080/"
        },
        "id": "s_7b8bjQWooM",
        "outputId": "e4d3159c-4c55-4005-d281-2bb5d52ea5b4"
      },
      "execution_count": null,
      "outputs": [
        {
          "output_type": "stream",
          "name": "stdout",
          "text": [
            "0.1495995995995996 0.5685436567789509\n"
          ]
        }
      ]
    },
    {
      "cell_type": "code",
      "source": [
        "plt.figure(figsize=(10,5))\n",
        "x = l\n",
        "y = r_neg_ig\n",
        "plt.plot(x, y, 'o', color='black')\n",
        "\n",
        "print('Pearson Coef.:',pearsonr(x, y))"
      ],
      "metadata": {
        "colab": {
          "base_uri": "https://localhost:8080/",
          "height": 333
        },
        "id": "3k_Ur9YT82CE",
        "outputId": "5092c163-8b97-4a8c-9056-8b7246fad59c"
      },
      "execution_count": null,
      "outputs": [
        {
          "output_type": "stream",
          "name": "stdout",
          "text": [
            "Pearson Coef.: (-0.457104863462496, 0.0008465391617722367)\n"
          ]
        },
        {
          "output_type": "display_data",
          "data": {
            "image/png": "[encoded data removed]",
            "text/plain": [
              "<Figure size 720x360 with 1 Axes>"
            ]
          },
          "metadata": {}
        }
      ]
    }
  ]
}