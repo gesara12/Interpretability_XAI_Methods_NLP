{
  "nbformat": 4,
  "nbformat_minor": 0,
  "metadata": {
    "colab": {
      "name": "sample_evaluation - Clarity Part 2 - feature importance.ipynb",
      "provenance": [],
      "collapsed_sections": []
    },
    "kernelspec": {
      "display_name": "Python 3",
      "language": "python",
      "name": "python3"
    },
    "language_info": {
      "codemirror_mode": {
        "name": "ipython",
        "version": 3
      },
      "file_extension": ".py",
      "mimetype": "text/x-python",
      "name": "python",
      "nbconvert_exporter": "python",
      "pygments_lexer": "ipython3",
      "version": "3.8.8"
    }
  },
  "cells": [
    {
      "cell_type": "markdown",
      "source": [
        "Some articles taken into consideration are : [Tokenization and Parts of Speech(POS) Tagging in Python’s NLTK library](https://medium.com/@gianpaul.r/tokenization-and-parts-of-speech-pos-tagging-in-pythons-nltk-library-2d30f70af13b)"
      ],
      "metadata": {
        "id": "wi3BlnubkvP_"
      }
    },
    {
      "cell_type": "code",
      "metadata": {
        "id": "5hsEWOdzA1LR",
        "colab": {
          "base_uri": "https://localhost:8080/"
        },
        "outputId": "70424df6-6843-45a0-c4c2-cd121b7a2a31"
      },
      "source": [
        "from google.colab import drive\n",
        "drive.mount('/content/drive')"
      ],
      "execution_count": null,
      "outputs": [
        {
          "output_type": "stream",
          "name": "stdout",
          "text": [
            "Drive already mounted at /content/drive; to attempt to forcibly remount, call drive.mount(\"/content/drive\", force_remount=True).\n"
          ]
        }
      ]
    },
    {
      "cell_type": "code",
      "metadata": {
        "id": "W9ezHB6v21qw"
      },
      "source": [
        "import pickle\n",
        "import pandas as pd\n",
        "import numpy as np\n",
        "import random\n",
        "import seaborn as sns \n",
        "import matplotlib.pyplot as plt"
      ],
      "execution_count": null,
      "outputs": []
    },
    {
      "cell_type": "code",
      "metadata": {
        "id": "7nyJjD-Q3IFz",
        "colab": {
          "base_uri": "https://localhost:8080/",
          "height": 337
        },
        "outputId": "13dfb887-1d80-4175-a7c9-d5c5759ea49a"
      },
      "source": [
        "#results for all classifiers\n",
        "df = pickle.load(open('/content/drive/MyDrive/MasterThesis/Dataset/reults_union', 'rb'))\n",
        "df.head(5)"
      ],
      "execution_count": null,
      "outputs": [
        {
          "output_type": "execute_result",
          "data": {
            "text/html": [
              "\n",
              "  <div id=\"df-4b35b795-608f-49ff-b462-d2da83ae26e2\">\n",
              "    <div class=\"colab-df-container\">\n",
              "      <div>\n",
              "<style scoped>\n",
              "    .dataframe tbody tr th:only-of-type {\n",
              "        vertical-align: middle;\n",
              "    }\n",
              "\n",
              "    .dataframe tbody tr th {\n",
              "        vertical-align: top;\n",
              "    }\n",
              "\n",
              "    .dataframe thead th {\n",
              "        text-align: right;\n",
              "    }\n",
              "</style>\n",
              "<table border=\"1\" class=\"dataframe\">\n",
              "  <thead>\n",
              "    <tr style=\"text-align: right;\">\n",
              "      <th></th>\n",
              "      <th>text</th>\n",
              "      <th>categories</th>\n",
              "      <th>length</th>\n",
              "      <th>clean_review</th>\n",
              "      <th>y_true</th>\n",
              "      <th>y_pred_cnn</th>\n",
              "      <th>y_pred_lstm</th>\n",
              "      <th>y_pred_bert</th>\n",
              "      <th>y_pred_bert_keras</th>\n",
              "    </tr>\n",
              "  </thead>\n",
              "  <tbody>\n",
              "    <tr>\n",
              "      <th>0</th>\n",
              "      <td>This isn't a Mickey Mouse restaurant. Myself a...</td>\n",
              "      <td>Restaurants, Party &amp; Event Planning, Seafood, ...</td>\n",
              "      <td>29</td>\n",
              "      <td>isn mickey mouse restaurant people went dinner...</td>\n",
              "      <td>1</td>\n",
              "      <td>1</td>\n",
              "      <td>1</td>\n",
              "      <td>1</td>\n",
              "      <td>1</td>\n",
              "    </tr>\n",
              "    <tr>\n",
              "      <th>1</th>\n",
              "      <td>I don't know what these other reviewers are us...</td>\n",
              "      <td>Hotels &amp; Travel, Event Planning &amp; Services, Ho...</td>\n",
              "      <td>52</td>\n",
              "      <td>know reviewers place disgusting buggers bed co...</td>\n",
              "      <td>0</td>\n",
              "      <td>0</td>\n",
              "      <td>0</td>\n",
              "      <td>0</td>\n",
              "      <td>0</td>\n",
              "    </tr>\n",
              "    <tr>\n",
              "      <th>2</th>\n",
              "      <td>The ladies behind the counter were very nice a...</td>\n",
              "      <td>Chinese, Soup, Restaurants, Taiwanese, Sushi Bars</td>\n",
              "      <td>647</td>\n",
              "      <td>ladies counter nice friendly nice makes sadder...</td>\n",
              "      <td>0</td>\n",
              "      <td>0</td>\n",
              "      <td>0</td>\n",
              "      <td>0</td>\n",
              "      <td>0</td>\n",
              "    </tr>\n",
              "    <tr>\n",
              "      <th>3</th>\n",
              "      <td>My wife and I call this place GHETTO SUSHI.. T...</td>\n",
              "      <td>Japanese, American (Traditional), Restaurants,...</td>\n",
              "      <td>204</td>\n",
              "      <td>wife place ghetto sushi decor pretty cool like...</td>\n",
              "      <td>0</td>\n",
              "      <td>0</td>\n",
              "      <td>0</td>\n",
              "      <td>0</td>\n",
              "      <td>0</td>\n",
              "    </tr>\n",
              "    <tr>\n",
              "      <th>4</th>\n",
              "      <td>Ive always like SHANE'S RIBSHACK !  Been going...</td>\n",
              "      <td>Barbeque, Restaurants</td>\n",
              "      <td>41</td>\n",
              "      <td>ive like shane ribshack going years opened gre...</td>\n",
              "      <td>1</td>\n",
              "      <td>1</td>\n",
              "      <td>1</td>\n",
              "      <td>1</td>\n",
              "      <td>1</td>\n",
              "    </tr>\n",
              "  </tbody>\n",
              "</table>\n",
              "</div>\n",
              "      <button class=\"colab-df-convert\" onclick=\"convertToInteractive('df-4b35b795-608f-49ff-b462-d2da83ae26e2')\"\n",
              "              title=\"Convert this dataframe to an interactive table.\"\n",
              "              style=\"display:none;\">\n",
              "        \n",
              "  <svg xmlns=\"http://www.w3.org/2000/svg\" height=\"24px\"viewBox=\"0 0 24 24\"\n",
              "       width=\"24px\">\n",
              "    <path d=\"M0 0h24v24H0V0z\" fill=\"none\"/>\n",
              "    <path d=\"M18.56 5.44l.94 2.06.94-2.06 2.06-.94-2.06-.94-.94-2.06-.94 2.06-2.06.94zm-11 1L8.5 8.5l.94-2.06 2.06-.94-2.06-.94L8.5 2.5l-.94 2.06-2.06.94zm10 10l.94 2.06.94-2.06 2.06-.94-2.06-.94-.94-2.06-.94 2.06-2.06.94z\"/><path d=\"M17.41 7.96l-1.37-1.37c-.4-.4-.92-.59-1.43-.59-.52 0-1.04.2-1.43.59L10.3 9.45l-7.72 7.72c-.78.78-.78 2.05 0 2.83L4 21.41c.39.39.9.59 1.41.59.51 0 1.02-.2 1.41-.59l7.78-7.78 2.81-2.81c.8-.78.8-2.07 0-2.86zM5.41 20L4 18.59l7.72-7.72 1.47 1.35L5.41 20z\"/>\n",
              "  </svg>\n",
              "      </button>\n",
              "      \n",
              "  <style>\n",
              "    .colab-df-container {\n",
              "      display:flex;\n",
              "      flex-wrap:wrap;\n",
              "      gap: 12px;\n",
              "    }\n",
              "\n",
              "    .colab-df-convert {\n",
              "      background-color: #E8F0FE;\n",
              "      border: none;\n",
              "      border-radius: 50%;\n",
              "      cursor: pointer;\n",
              "      display: none;\n",
              "      fill: #1967D2;\n",
              "      height: 32px;\n",
              "      padding: 0 0 0 0;\n",
              "      width: 32px;\n",
              "    }\n",
              "\n",
              "    .colab-df-convert:hover {\n",
              "      background-color: #E2EBFA;\n",
              "      box-shadow: 0px 1px 2px rgba(60, 64, 67, 0.3), 0px 1px 3px 1px rgba(60, 64, 67, 0.15);\n",
              "      fill: #174EA6;\n",
              "    }\n",
              "\n",
              "    [theme=dark] .colab-df-convert {\n",
              "      background-color: #3B4455;\n",
              "      fill: #D2E3FC;\n",
              "    }\n",
              "\n",
              "    [theme=dark] .colab-df-convert:hover {\n",
              "      background-color: #434B5C;\n",
              "      box-shadow: 0px 1px 3px 1px rgba(0, 0, 0, 0.15);\n",
              "      filter: drop-shadow(0px 1px 2px rgba(0, 0, 0, 0.3));\n",
              "      fill: #FFFFFF;\n",
              "    }\n",
              "  </style>\n",
              "\n",
              "      <script>\n",
              "        const buttonEl =\n",
              "          document.querySelector('#df-4b35b795-608f-49ff-b462-d2da83ae26e2 button.colab-df-convert');\n",
              "        buttonEl.style.display =\n",
              "          google.colab.kernel.accessAllowed ? 'block' : 'none';\n",
              "\n",
              "        async function convertToInteractive(key) {\n",
              "          const element = document.querySelector('#df-4b35b795-608f-49ff-b462-d2da83ae26e2');\n",
              "          const dataTable =\n",
              "            await google.colab.kernel.invokeFunction('convertToInteractive',\n",
              "                                                     [key], {});\n",
              "          if (!dataTable) return;\n",
              "\n",
              "          const docLinkHtml = 'Like what you see? Visit the ' +\n",
              "            '<a target=\"_blank\" href=https://colab.research.google.com/notebooks/data_table.ipynb>data table notebook</a>'\n",
              "            + ' to learn more about interactive tables.';\n",
              "          element.innerHTML = '';\n",
              "          dataTable['output_type'] = 'display_data';\n",
              "          await google.colab.output.renderOutput(dataTable, element);\n",
              "          const docLink = document.createElement('div');\n",
              "          docLink.innerHTML = docLinkHtml;\n",
              "          element.appendChild(docLink);\n",
              "        }\n",
              "      </script>\n",
              "    </div>\n",
              "  </div>\n",
              "  "
            ],
            "text/plain": [
              "                                                text  ... y_pred_bert_keras\n",
              "0  This isn't a Mickey Mouse restaurant. Myself a...  ...                 1\n",
              "1  I don't know what these other reviewers are us...  ...                 0\n",
              "2  The ladies behind the counter were very nice a...  ...                 0\n",
              "3  My wife and I call this place GHETTO SUSHI.. T...  ...                 0\n",
              "4  Ive always like SHANE'S RIBSHACK !  Been going...  ...                 1\n",
              "\n",
              "[5 rows x 9 columns]"
            ]
          },
          "metadata": {},
          "execution_count": 34
        }
      ]
    },
    {
      "cell_type": "code",
      "source": [
        "#read the files with prediction as propabilitis\n",
        "\n",
        "cnn_propab = pickle.load(open('/content/drive/MyDrive/MasterThesis/Dataset/cnn_pred_propab', 'rb')) \n",
        "lstm_propab = pickle.load(open('/content/drive/MyDrive/MasterThesis/Dataset/lstm_pred_propab', 'rb'))\n",
        "bert_propab = pickle.load(open('/content/drive/MyDrive/MasterThesis/Dataset/bert_1_pred_propab', 'rb'))\n",
        "bert_keras_propab = pickle.load(open('/content/drive/MyDrive/MasterThesis/Dataset/bert_keras_pred_propab', 'rb'))"
      ],
      "metadata": {
        "id": "inWGKhsSlhGG"
      },
      "execution_count": null,
      "outputs": []
    },
    {
      "cell_type": "code",
      "source": [
        "i=845 #{845, 1556, 1750, 2150, 2514, 2631, 2652, 2845, 3354, 3447, 3929}\n",
        "print(cnn_propab[i], lstm_propab[i], bert_propab[i], bert_keras_propab[i])"
      ],
      "metadata": {
        "colab": {
          "base_uri": "https://localhost:8080/"
        },
        "id": "dOS9VJaflhKL",
        "outputId": "6e7ab778-4711-4487-e69c-af0e25d88eae"
      },
      "execution_count": null,
      "outputs": [
        {
          "output_type": "stream",
          "name": "stdout",
          "text": [
            "[0.11975536] [0.12484765] [0.7979436 0.2020564] [0.6718037 0.3281963]\n"
          ]
        }
      ]
    },
    {
      "cell_type": "markdown",
      "source": [
        "**Task 1**"
      ],
      "metadata": {
        "id": "8Dt5F17v4RQ2"
      }
    },
    {
      "cell_type": "code",
      "source": [
        "import nltk\n",
        "nltk.download('punkt')\n",
        "nltk.download('averaged_perceptron_tagger')"
      ],
      "metadata": {
        "colab": {
          "base_uri": "https://localhost:8080/"
        },
        "id": "qOZPmyVWCsWx",
        "outputId": "29eae469-f6bd-4d79-fc1d-51c27e96907b"
      },
      "execution_count": null,
      "outputs": [
        {
          "output_type": "stream",
          "name": "stdout",
          "text": [
            "[nltk_data] Downloading package punkt to /root/nltk_data...\n",
            "[nltk_data]   Package punkt is already up-to-date!\n",
            "[nltk_data] Downloading package averaged_perceptron_tagger to\n",
            "[nltk_data]     /root/nltk_data...\n",
            "[nltk_data]   Package averaged_perceptron_tagger is already up-to-\n",
            "[nltk_data]       date!\n"
          ]
        },
        {
          "output_type": "execute_result",
          "data": {
            "text/plain": [
              "True"
            ]
          },
          "metadata": {},
          "execution_count": 38
        }
      ]
    },
    {
      "cell_type": "code",
      "source": [
        "def POS_func(i):\n",
        "  sen = df.text[i] ##we take the full text to define POS so the words do not lose their syntactic meaning\n",
        "  tok = nltk.word_tokenize(sen)\n",
        "  print('Part of Speech:', nltk.pos_tag(tok))"
      ],
      "metadata": {
        "id": "j2UhCTwdEVQ-"
      },
      "execution_count": null,
      "outputs": []
    },
    {
      "cell_type": "code",
      "source": [
        "#Review One\n",
        "POS_func(2570)"
      ],
      "metadata": {
        "colab": {
          "base_uri": "https://localhost:8080/"
        },
        "id": "BTCoCpYUC630",
        "outputId": "02fb9fec-820a-4f14-e1d6-02e8998a2308"
      },
      "execution_count": null,
      "outputs": [
        {
          "output_type": "stream",
          "name": "stdout",
          "text": [
            "Part of Speech: [('#', '#'), ('To', 'TO'), ('the', 'DT'), ('Budget', 'NNP'), ('Traveler', 'NNP'), (':', ':'), ('FREE', 'JJ'), ('to', 'TO'), ('go', 'VB'), ('in', 'IN'), ('if', 'IN'), ('you', 'PRP'), ('see', 'VBP'), ('a', 'DT'), ('show', 'NN'), ('at', 'IN'), ('the', 'DT'), ('Velveeta', 'NNP'), ('room', 'NN'), ('.', '.'), ('Drinks', 'NNS'), ('are', 'VBP'), ('super', 'JJ'), ('cheap', 'JJ'), ('.', '.'), ('I', 'PRP'), ('went', 'VBD'), ('to', 'TO'), ('the', 'DT'), ('Velveeta', 'NNP'), ('Room', 'NNP'), (',', ','), ('because', 'IN'), ('I', 'PRP'), ('got', 'VBD'), ('a', 'DT'), ('free', 'JJ'), ('ticket', 'NN'), ('from', 'IN'), ('Esther', 'NNP'), (\"'s\", 'POS'), ('Follies', 'NNP'), ('.', '.'), ('Esther', 'NNP'), (\"'s\", 'POS'), ('Follies', 'NNP'), ('is', 'VBZ'), ('the', 'DT'), ('incredible', 'JJ'), ('comedy', 'NN'), ('show', 'NN'), ('and', 'CC'), ('political', 'JJ'), ('satire', 'NN'), ('next', 'JJ'), ('door', 'NN'), ('.', '.'), ('Perhaps', 'RB'), ('I', 'PRP'), ('went', 'VBD'), ('on', 'IN'), ('a', 'DT'), ('poor', 'JJ'), ('night', 'NN'), (',', ','), ('but', 'CC'), ('the', 'DT'), ('Velveeta', 'NNP'), ('Room', 'NNP'), ('felt', 'VBD'), ('just', 'RB'), ('average', 'NN'), ('to', 'TO'), ('me', 'PRP'), ('and', 'CC'), ('the', 'DT'), ('space', 'NN'), ('was', 'VBD'), ('kind', 'NN'), ('of', 'IN'), ('small', 'JJ'), ('.', '.'), ('Maybe', 'RB'), ('after', 'IN'), ('going', 'VBG'), ('to', 'TO'), ('Esther', 'NNP'), (\"'s\", 'POS'), ('Follies', 'NNS'), ('and', 'CC'), ('laughing', 'VBG'), ('until', 'IN'), ('I', 'PRP'), ('could', 'MD'), (\"n't\", 'RB'), ('breathe', 'VB'), (',', ','), ('the', 'DT'), ('amateur', 'NN'), ('comedians', 'NNS'), ('in', 'IN'), ('the', 'DT'), ('Velveeta', 'NNP'), ('room', 'NN'), ('just', 'RB'), ('could', 'MD'), (\"n't\", 'RB'), ('beat', 'VB'), ('Esther', 'NNP'), (\"'s\", 'POS'), ('Follies', 'NNS'), ('.', '.'), ('Never', 'CC'), ('the', 'DT'), ('less', 'JJR'), ('I', 'PRP'), ('DO', 'VBP'), ('recommend', 'VB'), ('this', 'DT'), ('place', 'NN'), ('if', 'IN'), ('you', 'PRP'), ('go', 'VBP'), ('to', 'TO'), ('Esther', 'NNP'), (\"'s\", 'POS'), ('follies', 'NNS'), ('.', '.'), ('Take', 'VB'), ('your', 'PRP$'), ('FREE', 'NNP'), ('ticket', 'NN'), ('and', 'CC'), ('check', 'VB'), ('out', 'RP'), ('the', 'DT'), ('comedian', 'JJ'), ('inside', 'NN'), ('.', '.'), ('If', 'IN'), ('he/she', 'NN'), ('is', 'VBZ'), ('good', 'JJ'), ('then', 'RB'), ('stay', 'NN'), ('and', 'CC'), ('have', 'VBP'), ('a', 'DT'), ('drink', 'NN'), ('.', '.'), ('It', 'PRP'), ('would', 'MD'), ('be', 'VB'), ('a', 'DT'), ('nice', 'JJ'), ('way', 'NN'), ('to', 'TO'), ('complete', 'VB'), ('a', 'DT'), ('night', 'NN'), ('of', 'IN'), ('music', 'NN'), ('and', 'CC'), ('comedy', 'NN'), ('.', '.'), ('However', 'RB'), (',', ','), ('I', 'PRP'), ('went', 'VBD'), ('on', 'IN'), ('a', 'DT'), ('bad', 'JJ'), ('night', 'NN'), ('and', 'CC'), ('order', 'NN'), ('a', 'DT'), ('drink', 'NN'), ('so', 'IN'), ('I', 'PRP'), ('had', 'VBD'), ('to', 'TO'), ('sit', 'VB'), ('through', 'IN'), ('several', 'JJ'), ('subpar', 'JJ'), ('comedians', 'NNS'), ('.', '.'), ('If', 'IN'), ('you', 'PRP'), ('come', 'VBP'), ('in', 'IN'), ('with', 'IN'), ('the', 'DT'), ('free', 'JJ'), ('Esther', 'NNP'), (\"'s\", 'POS'), ('Follies', 'NNS'), ('ticket', 'NN'), ('then', 'RB'), ('do', 'VBP'), (\"n't\", 'RB'), ('order', 'NN'), ('a', 'DT'), ('drink', 'NN'), ('right', 'RB'), ('away', 'RB'), (',', ','), ('make', 'VBP'), ('sure', 'JJ'), ('that', 'IN'), ('you', 'PRP'), ('like', 'VBP'), ('what', 'WP'), ('you', 'PRP'), ('hear', 'VBP'), ('first', 'RB'), ('.', '.'), ('The', 'DT'), ('space', 'NN'), ('is', 'VBZ'), ('also', 'RB'), ('kind', 'NN'), ('of', 'IN'), ('small', 'JJ'), (',', ','), ('so', 'RB'), ('do', 'VBP'), (\"n't\", 'RB'), ('go', 'VB'), ('there', 'RB'), ('if', 'IN'), ('you', 'PRP'), ('are', 'VBP'), ('not', 'RB'), ('a', 'DT'), ('big', 'JJ'), ('fan', 'NN'), ('of', 'IN'), ('small', 'JJ'), ('spaces', 'NNS'), ('.', '.')]\n"
          ]
        }
      ]
    },
    {
      "cell_type": "code",
      "source": [
        "#Review Two\n",
        "POS_func(2095)"
      ],
      "metadata": {
        "colab": {
          "base_uri": "https://localhost:8080/"
        },
        "id": "hO3ZfStcJqaM",
        "outputId": "28d39ed3-13f1-4c52-a71b-b68e19b505c8"
      },
      "execution_count": null,
      "outputs": [
        {
          "output_type": "stream",
          "name": "stdout",
          "text": [
            "Part of Speech: [('First', 'NNP'), ('off', 'RP'), (',', ','), ('if', 'IN'), ('you', 'PRP'), (\"'re\", 'VBP'), ('gluten', 'JJ'), ('free', 'JJ'), ('this', 'DT'), ('place', 'NN'), ('gets', 'VBZ'), ('a', 'DT'), ('big', 'JJ'), ('thumbs', 'NN'), ('up', 'IN'), ('from', 'IN'), ('my', 'PRP$'), ('gf', 'NN'), ('(', '('), ('she', 'PRP'), (\"'s\", 'VBZ'), ('gluten', 'JJ'), ('free', 'JJ'), (')', ')'), ('.', '.'), ('Although', 'IN'), ('her', 'PRP$'), ('big', 'JJ'), ('tip', 'NN'), ('is', 'VBZ'), ('to', 'TO'), ('eat', 'VB'), ('it', 'PRP'), ('while', 'IN'), ('it', 'PRP'), (\"'s\", 'VBZ'), ('hot', 'JJ'), ('.', '.'), ('She', 'PRP'), (\"'s\", 'VBZ'), ('had', 'VBD'), ('(', '('), ('and', 'CC'), ('I', 'PRP'), (\"'ve\", 'VBP'), ('tried', 'VBN'), (')', ')'), ('the', 'DT'), ('gf', 'NN'), ('pasta', 'NN'), ('and', 'CC'), ('pizzas', 'NN'), ('which', 'WDT'), ('she', 'PRP'), ('loves', 'VBZ'), ('.', '.'), ('Second', 'NNP'), (',', ','), ('I', 'PRP'), (\"'ve\", 'VBP'), ('had', 'VBD'), ('the', 'DT'), ('regular', 'JJ'), ('pizza', 'NN'), (\"'s\", 'POS'), ('(', '('), ('four', 'CD'), ('cheese', 'NN'), ('and', 'CC'), ('one', 'CD'), ('four', 'CD'), ('cheese', 'NN'), ('with', 'IN'), ('spinach', 'NN'), (')', ')'), ('and', 'CC'), ('the', 'DT'), ('chicken', 'NN'), ('and', 'CC'), ('pasta', 'NN'), ('(', '('), ('there', 'EX'), ('was', 'VBD'), ('something', 'NN'), ('else', 'RB'), ('in', 'IN'), ('it', 'PRP'), ('just', 'RB'), ('ca', 'MD'), (\"n't\", 'RB'), ('remember', 'VB'), (')', ')'), (',', ','), ('caesar', 'JJ'), ('salad', 'NN'), (',', ','), ('their', 'PRP$'), ('stuffed', 'NN'), ('meatballs', 'NNS'), (',', ','), ('and', 'CC'), ('it', 'PRP'), ('was', 'VBD'), ('all', 'DT'), ('great', 'JJ'), ('.', '.'), ('Very', 'RB'), ('tasty', 'JJ'), ('food', 'NN'), ('(', '('), ('although', 'IN'), ('not', 'RB'), ('very', 'RB'), ('healthy', 'JJ'), ('but', 'CC'), ('I', 'PRP'), ('suppose', 'VBP'), ('flat', 'JJ'), ('bread', 'NN'), ('pizza', 'NN'), (\"'s\", 'POS'), ('are', 'VBP'), ('a', 'DT'), ('bit', 'RB'), ('healthier', 'JJR'), (')', ')'), (',', ','), ('great', 'JJ'), ('service', 'NN'), (',', ','), ('and', 'CC'), ('attention', 'NN'), ('to', 'TO'), ('quality', 'NN'), ('.', '.'), ('This', 'DT'), ('is', 'VBZ'), ('one', 'CD'), ('of', 'IN'), ('those', 'DT'), ('places', 'NNS'), ('that', 'WDT'), ('has', 'VBZ'), ('a', 'DT'), ('really', 'RB'), ('unique', 'JJ'), ('feel', 'NN'), ('to', 'TO'), ('it', 'PRP'), ('that', 'IN'), ('makes', 'VBZ'), ('you', 'PRP'), ('feel', 'VBP'), ('like', 'IN'), ('you', 'PRP'), (\"'ve\", 'VBP'), ('stepped', 'VBN'), ('away', 'RB'), ('from', 'IN'), ('chain', 'NN'), ('restaurants', 'NNS'), ('.', '.'), ('I', 'PRP'), (\"'ve\", 'VBP'), ('eaten', 'VBN'), ('in', 'IN'), ('and', 'CC'), ('done', 'VBN'), ('take', 'VB'), ('out', 'RP'), ('.', '.'), ('Food', 'NNP'), ('is', 'VBZ'), ('always', 'RB'), ('served', 'VBN'), ('hot', 'JJ'), ('and', 'CC'), ('they', 'PRP'), ('serve', 'VBP'), ('beers', 'NNS'), ('and', 'CC'), ('wine', 'NN'), ('in', 'IN'), ('the', 'DT'), ('restaurant', 'NN'), ('(', '('), ('although', 'IN'), ('limited', 'VBN'), ('seating', 'NN'), (')', ')'), ('.', '.'), ('The', 'DT'), ('menu', 'NN'), ('is', 'VBZ'), (\"n't\", 'RB'), ('huge', 'JJ'), (',', ','), ('which', 'WDT'), ('I', 'PRP'), ('really', 'RB'), ('like', 'IN'), ('because', 'IN'), ('it', 'PRP'), (\"'s\", 'VBZ'), ('most', 'RBS'), ('often', 'RB'), ('a', 'DT'), ('sign', 'NN'), ('of', 'IN'), ('higher', 'JJR'), ('quality', 'NN'), ('.', '.')]\n"
          ]
        }
      ]
    },
    {
      "cell_type": "code",
      "source": [
        "#Review Three\n",
        "POS_func(54)"
      ],
      "metadata": {
        "colab": {
          "base_uri": "https://localhost:8080/"
        },
        "id": "U6uWNloIK7wK",
        "outputId": "e221fa90-f949-442c-9ca2-5f9c8077547c"
      },
      "execution_count": null,
      "outputs": [
        {
          "output_type": "stream",
          "name": "stdout",
          "text": [
            "Part of Speech: [('My', 'PRP$'), ('friend', 'NN'), ('and', 'CC'), ('I', 'PRP'), ('stayed', 'VBP'), ('here', 'RB'), ('last', 'JJ'), ('night', 'NN'), (',', ','), ('and', 'CC'), ('we', 'PRP'), ('had', 'VBD'), ('a', 'DT'), ('very', 'RB'), ('pleasant', 'JJ'), ('experience', 'NN'), ('.', '.'), ('The', 'DT'), ('look', 'NN'), ('of', 'IN'), ('the', 'DT'), ('place', 'NN'), ('is', 'VBZ'), ('very', 'RB'), ('modern', 'JJ'), ('and', 'CC'), ('clean', 'JJ'), (',', ','), ('though', 'IN'), ('our', 'PRP$'), ('room', 'NN'), ('was', 'VBD'), ('a', 'DT'), ('little', 'JJ'), ('small', 'JJ'), ('.', '.'), ('There', 'EX'), ('was', 'VBD'), ('about', 'IN'), ('a', 'DT'), ('foot', 'NN'), ('between', 'IN'), ('the', 'DT'), ('beds', 'NNS'), ('from', 'IN'), ('each', 'DT'), ('other', 'JJ'), ('and', 'CC'), ('from', 'IN'), ('the', 'DT'), ('walls', 'NNS'), (',', ','), ('and', 'CC'), ('the', 'DT'), ('bathroom', 'NN'), ('door', 'NN'), ('was', 'VBD'), ('a', 'DT'), ('sliding', 'JJ'), ('door', 'NN'), ('that', 'WDT'), ('also', 'RB'), ('served', 'VBD'), ('as', 'IN'), ('the', 'DT'), ('closet', 'NN'), ('door', 'NN'), ('when', 'WRB'), ('the', 'DT'), ('bathroom', 'NN'), ('was', 'VBD'), (\"n't\", 'RB'), ('in', 'IN'), ('use', 'NN'), ('.', '.'), ('With', 'IN'), ('that', 'DT'), ('said', 'VBD'), (',', ','), ('the', 'DT'), ('beds', 'NNS'), ('are', 'VBP'), ('luxurious', 'JJ'), (',', ','), ('and', 'CC'), ('so', 'RB'), ('was', 'VBD'), ('the', 'DT'), ('bathroom', 'NN'), ('!', '.'), ('Great', 'NNP'), ('lighting', 'VBG'), ('in', 'IN'), ('the', 'DT'), ('bathroom', 'NN'), ('for', 'IN'), ('getting', 'VBG'), ('all', 'DT'), ('dolled', 'VBN'), ('up', 'RP'), ('exactly', 'RB'), ('the', 'DT'), ('way', 'NN'), ('you', 'PRP'), ('want', 'VBP'), (',', ','), ('a', 'DT'), ('great', 'JJ'), ('shower', 'NN'), (',', ','), ('and', 'CC'), ('great', 'JJ'), ('products', 'NNS'), ('.', '.'), ('Other', 'JJ'), ('amenities', 'NNS'), ('include', 'VBP'), ('free', 'JJ'), ('wifi', 'NN'), (',', ','), ('an', 'DT'), ('alarm', 'NN'), ('clock', 'NN'), ('that', 'IN'), ('you', 'PRP'), ('can', 'MD'), ('plug', 'VB'), ('in', 'IN'), ('your', 'PRP$'), ('ipod', 'NN'), ('to', 'TO'), ('(', '('), ('with', 'IN'), ('surprisingly', 'RB'), ('good', 'JJ'), ('sound', 'NN'), (')', ')'), (',', ','), ('and', 'CC'), ('a', 'DT'), ('big', 'JJ'), ('flat', 'JJ'), ('screen', 'JJ'), ('TV', 'NN'), ('on', 'IN'), ('the', 'DT'), ('wall', 'NN'), ('.', '.'), ('The', 'DT'), ('location', 'NN'), ('itself', 'PRP'), ('is', 'VBZ'), ('pretty', 'RB'), ('good', 'JJ'), ('.', '.'), ('It', 'PRP'), (\"'s\", 'VBZ'), ('right', 'JJ'), ('on', 'IN'), ('the', 'DT'), ('water', 'NN'), (',', ','), ('right', 'VBD'), ('off', 'IN'), ('of', 'IN'), ('Morrison', 'NNP'), ('Street/Bridge', 'NNP'), (',', ','), ('and', 'CC'), ('within', 'IN'), ('walking', 'VBG'), ('distance', 'NN'), ('to', 'TO'), ('the', 'DT'), ('heart', 'NN'), ('of', 'IN'), ('downtown', 'NN'), ('.', '.'), ('I', 'PRP'), ('do', 'VBP'), (\"n't\", 'RB'), ('know', 'VB'), ('how', 'WRB'), ('street', 'JJ'), ('parking', 'NN'), ('is', 'VBZ'), ('usually', 'RB'), ('in', 'IN'), ('that', 'DT'), ('area', 'NN'), ('during', 'IN'), ('busy', 'JJ'), ('hours', 'NNS'), (',', ','), ('but', 'CC'), ('we', 'PRP'), ('had', 'VBD'), ('no', 'DT'), ('trouble', 'NN'), ('finding', 'VBG'), ('any', 'DT'), ('.', '.'), ('EDITED', 'NN'), ('TO', 'NNP'), ('ADD', 'NNP'), (':', ':'), ('Their', 'PRP$'), ('restaurant', 'NN'), (',', ','), ('H5O', 'NNP'), (',', ','), ('was', 'VBD'), ('DELICIOUS', 'NNP'), ('.', '.'), ('Entrees', 'NNS'), ('were', 'VBD'), ('about', 'IN'), ('$', '$'), ('25-30', 'JJ'), (',', ','), ('appetizers', 'NNS'), ('$', '$'), ('5-10', 'JJ'), ('.', '.'), ('We', 'PRP'), ('had', 'VBD'), ('excellent', 'JJ'), ('service', 'NN'), (',', ','), ('but', 'CC'), ('that', 'DT'), ('may', 'MD'), ('have', 'VB'), ('been', 'VBN'), ('because', 'IN'), ('it', 'PRP'), ('was', 'VBD'), (\"n't\", 'RB'), ('busy', 'JJ'), ('there', 'RB'), ('.', '.'), ('Try', 'VB'), ('the', 'DT'), ('monkfish', 'NN'), ('--', ':'), ('it', 'PRP'), (\"'s\", 'VBZ'), ('amazing', 'JJ'), ('.', '.')]\n"
          ]
        }
      ]
    },
    {
      "cell_type": "code",
      "source": [
        "#Review Four\n",
        "POS_func(1019)"
      ],
      "metadata": {
        "colab": {
          "base_uri": "https://localhost:8080/"
        },
        "id": "O-3cSanPQSDP",
        "outputId": "a62398a1-d203-432b-c822-ae57382f47dd"
      },
      "execution_count": null,
      "outputs": [
        {
          "output_type": "stream",
          "name": "stdout",
          "text": [
            "Part of Speech: [('I', 'PRP'), ('have', 'VBP'), ('been', 'VBN'), ('using', 'VBG'), ('this', 'DT'), ('vet', 'NN'), ('for', 'IN'), ('years', 'NNS'), ('but', 'CC'), ('after', 'IN'), ('my', 'PRP$'), ('last', 'JJ'), ('visit', 'NN'), (',', ','), ('I', 'PRP'), ('am', 'VBP'), ('done', 'VBN'), ('.', '.'), ('The', 'DT'), ('vet', 'NN'), ('I', 'PRP'), ('had', 'VBD'), ('before', 'IN'), ('-', ':'), ('Dr.', 'NNP'), ('Blanton', 'NNP'), ('was', 'VBD'), ('amazing', 'VBG'), ('.', '.'), ('I', 'PRP'), ('never', 'RB'), ('had', 'VBD'), ('to', 'TO'), ('worry', 'VB'), ('that', 'IN'), ('I', 'PRP'), ('would', 'MD'), ('be', 'VB'), ('charged', 'VBN'), ('for', 'IN'), ('tests', 'NNS'), ('that', 'WDT'), ('were', 'VBD'), ('not', 'RB'), ('necessary', 'JJ'), ('and', 'CC'), ('I', 'PRP'), ('always', 'RB'), ('knew', 'VBD'), ('my', 'PRP$'), ('cat', 'NN'), ('was', 'VBD'), ('in', 'IN'), ('good', 'JJ'), ('hands', 'NNS'), ('.', '.'), ('After', 'IN'), ('several', 'JJ'), ('years', 'NNS'), ('of', 'IN'), ('terrible', 'JJ'), ('trips', 'NNS'), ('to', 'TO'), ('the', 'DT'), ('vet', 'NN'), ('where', 'WRB'), ('my', 'PRP$'), ('cat', 'NN'), ('was', 'VBD'), ('so', 'RB'), ('stressed', 'VBN'), ('out', 'RP'), ('she', 'PRP'), ('would', 'MD'), ('bite', 'VB'), ('anyone', 'NN'), ('that', 'WDT'), ('tried', 'VBD'), ('to', 'TO'), ('help', 'VB'), ('her', 'PRP'), (',', ','), ('Dr.', 'NNP'), ('Blanton', 'NNP'), ('suggested', 'VBD'), ('putting', 'VBG'), ('her', 'PRP$'), ('into', 'IN'), ('a', 'DT'), ('light', 'JJ'), ('sleep', 'NN'), ('in', 'IN'), ('order', 'NN'), ('to', 'TO'), ('treat', 'VB'), ('her', 'PRP'), ('.', '.'), ('This', 'DT'), ('made', 'VBD'), ('trips', 'NNS'), ('to', 'TO'), ('the', 'DT'), ('vet', 'NN'), ('a', 'DT'), ('breeze', 'NN'), ('and', 'CC'), ('did', 'VBD'), ('not', 'RB'), ('break', 'VB'), ('the', 'DT'), ('bank', 'NN'), ('.', '.'), ('However', 'RB'), (',', ','), ('Dr.', 'NNP'), ('Blanton', 'NNP'), ('is', 'VBZ'), ('no', 'RB'), ('longer', 'JJR'), ('there', 'RB'), ('and', 'CC'), ('times', 'NNS'), ('have', 'VBP'), ('changed', 'VBN'), ('.', '.'), ('My', 'PRP$'), ('last', 'JJ'), ('trip', 'NN'), ('included', 'VBD'), ('the', 'DT'), ('usual', 'JJ'), ('sleepy', 'NN'), ('time', 'NN'), ('but', 'CC'), ('this', 'DT'), ('time', 'NN'), (',', ','), ('instead', 'RB'), ('of', 'IN'), ('being', 'VBG'), ('charged', 'VBN'), ('$', '$'), ('30', 'CD'), ('for', 'IN'), ('that', 'DT'), ('extra', 'JJ'), ('treatment', 'NN'), ('that', 'WDT'), ('makes', 'VBZ'), ('the', 'DT'), ('visit', 'NN'), ('easier', 'JJR'), (',', ','), ('I', 'PRP'), ('was', 'VBD'), ('charged', 'VBN'), ('$', '$'), ('165', 'CD'), ('!', '.'), ('That', 'DT'), ('did', 'VBD'), ('not', 'RB'), ('include', 'VB'), ('the', 'DT'), ('general', 'JJ'), ('check', 'NN'), ('up', 'RB'), ('and', 'CC'), ('vaccinations', 'NNS'), (',', ','), ('nor', 'CC'), ('did', 'VBD'), ('it', 'PRP'), ('include', 'VB'), ('the', 'DT'), ('x-rays', 'JJ'), ('.', '.'), ('I', 'PRP'), ('was', 'VBD'), ('even', 'RB'), ('pressured', 'VBN'), ('to', 'TO'), ('run', 'VB'), ('more', 'JJR'), ('tests', 'NNS'), ('but', 'CC'), ('I', 'PRP'), ('decided', 'VBD'), ('that', 'IN'), ('I', 'PRP'), ('had', 'VBD'), ('probably', 'RB'), ('spent', 'VBN'), ('enough', 'RB'), ('.', '.'), ('When', 'WRB'), ('I', 'PRP'), ('got', 'VBD'), ('my', 'PRP$'), ('bill', 'NN'), ('for', 'IN'), ('$', '$'), ('400', 'CD'), ('I', 'PRP'), ('was', 'VBD'), ('in', 'IN'), ('shock', 'NN'), ('.', '.'), ('I', 'PRP'), ('went', 'VBD'), ('home', 'NN'), ('and', 'CC'), ('pulled', 'VBD'), ('out', 'RP'), ('old', 'JJ'), ('invoices', 'NNS'), ('to', 'TO'), ('see', 'VB'), ('how', 'WRB'), ('much', 'JJ'), ('I', 'PRP'), ('normally', 'RB'), ('paid', 'VBD'), ('...', ':'), ('.no', 'NN'), ('where', 'WRB'), ('near', 'IN'), ('that', 'DT'), ('for', 'IN'), ('the', 'DT'), ('same', 'JJ'), ('services', 'NNS'), ('.', '.'), ('I', 'PRP'), ('called', 'VBD'), ('the', 'DT'), ('office', 'NN'), ('to', 'TO'), ('voice', 'VB'), ('my', 'PRP$'), ('concern', 'NN'), ('and', 'CC'), ('was', 'VBD'), ('told', 'VBN'), ('that', 'IN'), ('prices', 'NNS'), ('have', 'VBP'), ('gone', 'VBN'), ('up', 'RP'), ('.', '.'), ('There', 'EX'), ('were', 'VBD'), ('no', 'DT'), ('offers', 'NNS'), ('to', 'TO'), ('give', 'VB'), ('a', 'DT'), ('credit', 'NN'), (',', ','), ('no', 'DT'), ('offers', 'NNS'), ('to', 'TO'), ('receive', 'VB'), ('free', 'JJ'), ('services', 'NNS'), (',', ','), ('not', 'RB'), ('even', 'RB'), ('an', 'DT'), ('apology', 'NN'), ('.', '.'), ('My', 'PRP$'), ('guess', 'NN'), ('is', 'VBZ'), ('that', 'IN'), ('my', 'PRP$'), ('old', 'JJ'), ('vet', 'NN'), ('would', 'MD'), (\"n't\", 'RB'), ('last', 'JJ'), ('in', 'IN'), ('this', 'DT'), ('``', '``'), ('up-sell', 'JJ'), (\"''\", \"''\"), ('environment', 'NN'), ('-', ':'), ('she', 'PRP'), ('probably', 'RB'), ('was', 'VBD'), ('too', 'RB'), ('cost', 'JJ'), ('conscious', 'JJ'), ('for', 'IN'), ('her', 'PRP$'), ('clients', 'NNS'), ('.', '.'), ('I', 'PRP'), ('wo', 'MD'), (\"n't\", 'RB'), ('be', 'VB'), ('back', 'RB'), ('.', '.'), ('The', 'DT'), ('place', 'NN'), ('itself', 'PRP'), ('is', 'VBZ'), ('fine', 'JJ'), ('but', 'CC'), ('to', 'TO'), ('not', 'RB'), ('tell', 'VB'), ('someone', 'NN'), ('who', 'WP'), ('has', 'VBZ'), ('been', 'VBN'), ('coming', 'VBG'), ('there', 'RB'), ('for', 'IN'), ('years', 'NNS'), ('that', 'IN'), ('a', 'DT'), ('service', 'NN'), ('that', 'WDT'), ('is', 'VBZ'), ('ALWAYS', 'NNP'), ('used', 'VBN'), ('has', 'VBZ'), ('increased', 'VBN'), ('by', 'IN'), ('that', 'DT'), ('much', 'RB'), (',', ','), ('that', 'DT'), (\"'s\", 'VBZ'), ('just', 'RB'), ('plain', 'RB'), ('bad', 'JJ'), ('customer', 'NN'), ('service', 'NN'), ('.', '.')]\n"
          ]
        }
      ]
    },
    {
      "cell_type": "code",
      "source": [
        "#Review Five\n",
        "POS_func(477)"
      ],
      "metadata": {
        "colab": {
          "base_uri": "https://localhost:8080/"
        },
        "id": "4J8ug7z1QUdx",
        "outputId": "27d413bf-1a69-46f9-feae-12af503b1649"
      },
      "execution_count": null,
      "outputs": [
        {
          "output_type": "stream",
          "name": "stdout",
          "text": [
            "Part of Speech: [('I', 'PRP'), ('waited', 'VBD'), ('almost', 'RB'), ('one', 'CD'), ('hour', 'NN'), ('!', '.'), ('Two', 'CD'), ('people', 'NNS'), ('at', 'IN'), ('the', 'DT'), ('front', 'NN'), ('desk', 'NN'), ('just', 'RB'), ('chatting', 'VBG'), ('away', 'RB'), ('.', '.'), ('I', 'PRP'), ('had', 'VBD'), ('signed', 'VBN'), ('in', 'IN'), (',', ','), ('but', 'CC'), ('not', 'RB'), ('one', 'CD'), ('person', 'NN'), ('even', 'RB'), ('inquired', 'VBN'), ('if', 'IN'), ('they', 'PRP'), ('could', 'MD'), ('help', 'VB'), ('me', 'PRP'), ('.', '.'), ('To', 'TO'), ('say', 'VB'), ('the', 'DT'), ('least', 'JJS'), ('I', 'PRP'), ('was', 'VBD'), ('very', 'RB'), ('angry', 'JJ'), ('when', 'WRB'), ('I', 'PRP'), ('had', 'VBD'), ('to', 'TO'), ('interrupt', 'VB'), ('their', 'PRP$'), ('conversation', 'NN'), ('and', 'CC'), ('ask', 'VB'), ('for', 'IN'), ('the', 'DT'), ('owner', 'NN'), ('.', '.'), ('It', 'PRP'), ('was', 'VBD'), ('no', 'DT'), ('big', 'JJ'), ('deal', 'NN'), ('to', 'TO'), ('them', 'PRP'), ('.', '.'), ('No', 'DT'), ('one', 'CD'), ('even', 'RB'), ('apologized', 'VBN'), ('.', '.'), ('And', 'CC'), ('the', 'DT'), ('massage', 'NN'), ('I', 'PRP'), ('finally', 'RB'), ('did', 'VBD'), ('get', 'VB'), (',', ','), ('was', 'VBD'), ('not', 'RB'), ('one', 'CD'), ('I', 'PRP'), ('could', 'MD'), ('grade', 'VB'), ('any', 'DT'), ('higher', 'JJR'), ('than', 'IN'), ('the', 'DT'), ('one', 'CD'), ('star', 'NN'), ('I', 'PRP'), ('gave', 'VBD'), ('the', 'DT'), ('whole', 'JJ'), ('place', 'NN'), ('.', '.'), ('Trust', 'NNP'), ('me', 'PRP'), (',', ','), ('there', 'EX'), ('are', 'VBP'), ('too', 'RB'), ('many', 'JJ'), ('fantastic', 'JJ'), ('chiropractors', 'NNS'), ('and', 'CC'), ('massage', 'NN'), ('therapists', 'NNS'), ('in', 'IN'), ('Austin', 'NNP'), ('to', 'TO'), ('waste', 'VB'), ('your', 'PRP$'), ('time', 'NN'), ('and', 'CC'), ('money', 'NN'), ('at', 'IN'), ('Longevity', 'NNP'), ('.', '.')]\n"
          ]
        }
      ]
    },
    {
      "cell_type": "code",
      "source": [
        "#feature importance as the percentage of the participants who selected those feature as important for a specific sentiment"
      ],
      "metadata": {
        "id": "3edBLidjR8ZA"
      },
      "execution_count": null,
      "outputs": []
    },
    {
      "cell_type": "code",
      "source": [
        "feature_positive = ['maybe', 'comlpete', 'velveeta', 'room', 'comedy', 'cheap', 'stay', 'sure', 'good', 'couldn', 'place', 'recommend', 'sit', 'subpar', 'political', 'space', 'satire', 'big', 'breath', 'amateur', 'away', 'order', 'door', 'drink', 'esther', 'laughing',\n",
        "                    'great', 'beers', 'seating', 'feel', 'stepped', 'pasta', 'unique', 'served', 'bread', 'menu', 'sign', 'meatballs', 'healthy', 'bit', 'gets', 'wine', 'higher',\n",
        "                    'getting', 'want', 'pleasant', 'products', 'morrison', 'heart', 'little', 'beds', 'right', 'modern', 'edited', 'location', 'door', 'amazing', 'said', 'wifi', 'finding', 'plug', 'try', 'luxurious', 'free', 'area', 'lighting', 'appetizer', 'hours', 'room', 'clock', 'downtown',\n",
        "                    'years', 'vet', 'treatment', 'extra', 'suggested', 'plain', 'decided', 'easier', 'rays', 'necessary', 'bank', 'paid', 'clients', 'trip', 'bad', 'prices', 'gone', 'apology', 'home', 'visit', 'increased',\n",
        "                    'finally', 'apologized', 'conversation', 'massage', 'chatting', 'chiropractors', 'therapists', 'austin', 'fantastic', 'desk', 'ask', 'longevity', 'star', 'signed', 'trust', 'angry', 'help'\n",
        "                    ]   \n",
        "imp_positive = [0.0, 41.9, 0.0, 3.2, 32.3, 32.3, 6.5, 22.6, 79.05, 0.0, 6.5, 80.6, 3.2, 0.0, 3.2, 22.6, 19.4, 33.45, 3.2, 0.0, 3.2, 3.2, 0.0, 16.1, 0.0, 80.6,\n",
        "                85.5, 29, 12.9, 3.2, 3.2, 9.7, 71, 12.9, 9.7, 6.5, 0, 6.5, 77.4,  0.0, 0.0, 19.4, 29.0,\n",
        "                0.0, 3.2, 90.3, 12.9, 3.2, 19.4, 3.2, 9.7, 19.4, 48.4, 3.2, 19.4, 0.0, 77.4, 0.0, 0.0, 3.2, 6.5, 3.2, 71, 45.2, 9.7, 9.7, 12.9, 6.5, 6.5, 0.0, 22.6,\n",
        "                6.5, 16.1, 32.3, 41.9, 25.8, 0.0, 0.0, 58.1, 0.0, 19.4, 0.0, 0.0, 9.7, 0.0, 0.0, 9.7, 0.0, 0.0, 16.1, 16.1, 16.1,\n",
        "                12.9, 12.9, 12.9, 32.3, 19.4, 3.2, 19.4, 3.2,83.9, 0.0, 3.2, 9.7, 19.4, 0.0, 80.6, 0.0, 32.3\n",
        "                ] "
      ],
      "metadata": {
        "id": "xCoQWNI74mtX"
      },
      "execution_count": null,
      "outputs": []
    },
    {
      "cell_type": "code",
      "source": [
        "df_positive_sent = pd.DataFrame({\"Features\":feature_positive,\n",
        "                  \"Importance\":imp_positive})\n",
        "df_positive_sent = df_positive_sent.sort_values('Importance')"
      ],
      "metadata": {
        "id": "w7d-eICgAXmm"
      },
      "execution_count": null,
      "outputs": []
    },
    {
      "cell_type": "code",
      "source": [
        "df_small = df_positive_sent[-15:]"
      ],
      "metadata": {
        "id": "e0ECbquUNJVd"
      },
      "execution_count": null,
      "outputs": []
    },
    {
      "cell_type": "code",
      "source": [
        "plt.figure(figsize=(10,5))\n",
        "# make barplot\n",
        "ax = sns.barplot(x='Importance', y=\"Features\", data=df_small, order=df_small.sort_values('Importance', ascending = False).Features)\n",
        "# set labels\n",
        "plt.xlabel(\"Importance\", size=10)\n",
        "plt.ylabel(\"Features\", size=10)\n",
        "plt.title(\"Feature Importance as % of Survey Participants who Selected Those Features\", size=10)\n",
        "plt.tight_layout()\n",
        "\n",
        "for p in ax.patches:\n",
        " height = p.get_height() # height of horizontal bar\n",
        " width = p.get_width() # width\n",
        " # adding text to each bar\n",
        " ax.text(x = width+1, # x-coordinate position of data label, padded 3 to right of bar\n",
        " y = p.get_y()+(height/2), # # y-coordinate position of data label, padded to be in the middle of the bar\n",
        " s = str(width)+ '%', # data label, formatted to ignore decimals\n",
        " va = 'center') # sets vertical alignment (va) to center\n"
      ],
      "metadata": {
        "colab": {
          "base_uri": "https://localhost:8080/",
          "height": 369
        },
        "id": "MVa1HIDeMGik",
        "outputId": "211567f2-5c85-449d-817b-7db45cb9f1ca"
      },
      "execution_count": null,
      "outputs": [
        {
          "output_type": "display_data",
          "data": {
            "image/png": "[encoded data removed]",
            "text/plain": [
              "<Figure size 720x360 with 1 Axes>"
            ]
          },
          "metadata": {
            "needs_background": "light"
          }
        }
      ]
    },
    {
      "cell_type": "code",
      "source": [
        "feature_negative = [ 'ticket', 'beat', 'night', 'super', 'check', 'comedian', 'bad', 'going', 'kind', 'music', 'not', 'drinks', 'incredible', 'felt', 'like', 'comedians', 'poor', 'fan', 'hear', 'why', 'traveler', 'follies', 'small', 'went',\n",
        "                    'gluten', 'attention', 'healthier', 'serve', 'makes', 'places', 'restaurants', 'eaten', 'service', 'salad', 'restaurant', 'tip', 'food', 'stuffed', 'limited', 'hot', 'spinach', 'pizza', 'caesar', 'quality', 'chicken', 'away', 'flat', 'chain', 'regular', 'free', 'huge', 'suppose', 'cheese',\n",
        "                    'distance', 'add', 'bathroom', 'water', 'exactly', 'stayed', 'look', 'way', 'wall', 'parking', 'street', 'busy', 'clean', 'friend', 'know',\n",
        "                    'charged', 'instead', 'visited', 'trips', 'knew', 'told', 'office', 'voice', 'include', 'worry', 'run', 'old', 'putting', 'changed', 'got', 'offers', 'pulled', 'pressure', 'probably', 'place', 'included', 'wouldn',\n",
        "                     'deal', 'money', 'waste', 'interrupt', 'gave', 'hour', 'inquired', 'person', 'grade', 'owner', 'time', 'waited', 'higher', 'people'\n",
        "                    ]   \n",
        "imp_negative = [9.7, 16.1, 1.6, 0.0, 0.0, 0.0, 90.3, 3.2, 3.2, 6.5, 33.5, 3.2, 0.0, 0.0, 0.0, 0.0, 74.2, 6.5, 3.2, 0.0, 0.0, 22.6, 29.0, 3.2,\n",
        "                16.1, 16.1, 6.5, 6.5, 1.6, 3.2, 0.0, 3.2, 6.5, 0.0, 0.0, 6.5, 3.2, 12.9, 61.3, 6.5, 0.0, 0.0, 3.2, 9.7, 0.0, 20.95, 16.1, 6.5, 16.1, 3.2, 0.0, 3.2, 0.0,\n",
        "                38.7, 0.0, 9.7, 19.4, 0.0, 0.0, 3.2, 9.7, 3.2, 9.7, 9.7, 87.1, 3.2, 3.2, 0.0,\n",
        "                35.5, 19.4, 3.2, 6.5, 0.0, 0.0, 6.5, 0.0, 0.0, 71.0, 3.2, 25.8, 6.5, 3.2, 0.0, 0.0, 3.2, 58.1, 9.7, 4.85, 3.2, 45.2,\n",
        "                6.5, 19.4, 93.5, 58.1, 0.0, 3.2, 0.0, 0.0, 3.2, 3.2, 9.7, 51.6, 0.0, 0.0\n",
        "                ] "
      ],
      "metadata": {
        "id": "CoEhJ4bIzR5l"
      },
      "execution_count": null,
      "outputs": []
    },
    {
      "cell_type": "code",
      "source": [
        "df_negative_sent = pd.DataFrame({\"Features\":feature_negative,\n",
        "                  \"Importance\":imp_negative})\n",
        "df_negative_sent = df_negative_sent.sort_values('Importance')"
      ],
      "metadata": {
        "id": "KdvdouM2uwg9"
      },
      "execution_count": null,
      "outputs": []
    },
    {
      "cell_type": "code",
      "source": [
        "df_small = df_negative_sent[-15:]"
      ],
      "metadata": {
        "id": "TJUQM4GZ7VxT"
      },
      "execution_count": null,
      "outputs": []
    },
    {
      "cell_type": "code",
      "source": [
        "plt.figure(figsize=(10,5))\n",
        "# make barplot\n",
        "ax = sns.barplot(x='Importance', y=\"Features\", data=df_small, order=df_small.sort_values('Importance', ascending = False).Features)\n",
        "# set labels\n",
        "plt.xlabel(\"Importance\", size=10)\n",
        "plt.ylabel(\"Features\", size=10)\n",
        "plt.title(\"Feature Importance as % of Survey Participants who Selected Those Features\", size=10)\n",
        "plt.tight_layout()\n",
        "\n",
        "for p in ax.patches:\n",
        " height = p.get_height() # height of horizontal bar\n",
        " width = p.get_width() # width\n",
        " # adding text to each bar\n",
        " ax.text(x = width+1, # x-coordinate position of data label, padded 3 to right of bar\n",
        " y = p.get_y()+(height/2), # # y-coordinate position of data label, padded to be in the middle of the bar\n",
        " s = str(width)+ '%', # data label, formatted to ignore decimals\n",
        " va = 'center') # sets vertical alignment (va) to center\n"
      ],
      "metadata": {
        "colab": {
          "base_uri": "https://localhost:8080/",
          "height": 369
        },
        "id": "1E2tPA-77bLg",
        "outputId": "1bc00336-5514-48aa-8cad-bfdc54dacd6e"
      },
      "execution_count": null,
      "outputs": [
        {
          "output_type": "display_data",
          "data": {
            "image/png": "[encoded data removed]",
            "text/plain": [
              "<Figure size 720x360 with 1 Axes>"
            ]
          },
          "metadata": {
            "needs_background": "light"
          }
        }
      ]
    },
    {
      "cell_type": "code",
      "source": [
        ""
      ],
      "metadata": {
        "id": "y1ph5u7o7dFv"
      },
      "execution_count": null,
      "outputs": []
    }
  ]
}