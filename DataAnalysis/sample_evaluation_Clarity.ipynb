{
  "nbformat": 4,
  "nbformat_minor": 0,
  "metadata": {
    "colab": {
      "name": "sample_evaluation - Clarity.ipynb",
      "provenance": [],
      "collapsed_sections": []
    },
    "kernelspec": {
      "display_name": "Python 3",
      "language": "python",
      "name": "python3"
    },
    "language_info": {
      "codemirror_mode": {
        "name": "ipython",
        "version": 3
      },
      "file_extension": ".py",
      "mimetype": "text/x-python",
      "name": "python",
      "nbconvert_exporter": "python",
      "pygments_lexer": "ipython3",
      "version": "3.8.8"
    }
  },
  "cells": [
    {
      "cell_type": "markdown",
      "source": [
        "**CLARITY CALCULATION**"
      ],
      "metadata": {
        "id": "H4YRRV037-ZA"
      }
    },
    {
      "cell_type": "markdown",
      "source": [
        "**Clarity Calculation Using One Sample for Correctly Predicted Negative Reviews and One for Correctly Predicted Positive Review**\n",
        "\n",
        "This notebooks is refered to results in chapter 8.1 from the research document. "
      ],
      "metadata": {
        "id": "wi3BlnubkvP_"
      }
    },
    {
      "cell_type": "code",
      "metadata": {
        "id": "5hsEWOdzA1LR",
        "colab": {
          "base_uri": "https://localhost:8080/"
        },
        "outputId": "40bbf9d9-0869-4d75-8b25-8782756442d1"
      },
      "source": [
        "from google.colab import drive\n",
        "drive.mount('/content/drive')"
      ],
      "execution_count": null,
      "outputs": [
        {
          "output_type": "stream",
          "name": "stdout",
          "text": [
            "Mounted at /content/drive\n"
          ]
        }
      ]
    },
    {
      "cell_type": "code",
      "metadata": {
        "id": "W9ezHB6v21qw"
      },
      "source": [
        "import pickle\n",
        "import pandas as pd\n",
        "import numpy as np\n",
        "import random"
      ],
      "execution_count": null,
      "outputs": []
    },
    {
      "cell_type": "code",
      "source": [
        "import nltk\n",
        "nltk.download('punkt')\n",
        "nltk.download('averaged_perceptron_tagger')"
      ],
      "metadata": {
        "colab": {
          "base_uri": "https://localhost:8080/"
        },
        "id": "skrTDlWgKg0o",
        "outputId": "437254fc-c0aa-4cb8-8bda-9b36ee8c60a0"
      },
      "execution_count": null,
      "outputs": [
        {
          "output_type": "stream",
          "name": "stdout",
          "text": [
            "[nltk_data] Downloading package punkt to /root/nltk_data...\n",
            "[nltk_data]   Unzipping tokenizers/punkt.zip.\n",
            "[nltk_data] Downloading package averaged_perceptron_tagger to\n",
            "[nltk_data]     /root/nltk_data...\n",
            "[nltk_data]   Unzipping taggers/averaged_perceptron_tagger.zip.\n"
          ]
        },
        {
          "output_type": "execute_result",
          "data": {
            "text/plain": [
              "True"
            ]
          },
          "metadata": {},
          "execution_count": 4
        }
      ]
    },
    {
      "cell_type": "code",
      "source": [
        "#read the table\n",
        "df = pickle.load(open('/content/drive/MyDrive/MasterThesis/Dataset/reults_union', 'rb'))"
      ],
      "metadata": {
        "id": "Kh5Tt1WquNXs"
      },
      "execution_count": null,
      "outputs": []
    },
    {
      "cell_type": "code",
      "metadata": {
        "id": "7nyJjD-Q3IFz"
      },
      "source": [
        "pos_i = pickle.load(open('/content/drive/MyDrive/MasterThesis/Dataset/positive_sample_50', 'rb'))\n",
        "neg_i = pickle.load(open('/content/drive/MyDrive/MasterThesis/Dataset/negative_sample_50', 'rb')) "
      ],
      "execution_count": null,
      "outputs": []
    },
    {
      "cell_type": "markdown",
      "source": [
        "**Defining Functions**"
      ],
      "metadata": {
        "id": "LdyA87WTAGXH"
      }
    },
    {
      "cell_type": "code",
      "source": [
        "#function to check number of positive and number of negative features\n",
        "def func_feature_imp (sample_sentence):\n",
        "  pos_values = [el for el in sample_sentence if el[1] > 0]\n",
        "  neg_values = [el for el in sample_sentence if el[1] < 0]\n",
        "  return pos_values, neg_values"
      ],
      "metadata": {
        "id": "SS98fGWsLDle"
      },
      "execution_count": null,
      "outputs": []
    },
    {
      "cell_type": "code",
      "source": [
        "#function to check POS for one specific review. We check the full text for this beacause in the preproceesed text words lose their syntactic meaning\n",
        "def POS_func(i):\n",
        "  sen = df.text[i].lower() ##we take the full text to define POS so the words do not lose their syntactic meaning\n",
        "  tok = nltk.word_tokenize(sen)\n",
        "  return nltk.pos_tag(tok)"
      ],
      "metadata": {
        "id": "XCL_VPKEJYF_"
      },
      "execution_count": null,
      "outputs": []
    },
    {
      "cell_type": "code",
      "source": [
        "def func_POS(sample, k, sample_i): #k=0 for positive list, k=1 for negative list\n",
        "  noun = []\n",
        "  verb = []\n",
        "  adjective = []\n",
        "  adverb = []\n",
        "  for i in range(50):\n",
        "    n = 0; v = 0; adj = 0; adv = 0\n",
        "    a = func_feature_imp(sample[i])[k] #0 for positive list, 1 for negative list\n",
        "    b = POS_func(sample_i[i])\n",
        "    d = list(set([x + y[1:] for x in a for y in b if x[0] == y[0]]))\n",
        "    \n",
        "    l = len(d)\n",
        "    if l ==0:\n",
        "      noun.append(0), verb.append(0), adjective.append(0), adverb.append(0)\n",
        "    else:\n",
        "      for el in d:\n",
        "        if el[2] in ['NN', 'NNS', 'NNP', 'NNPS']:\n",
        "          n = n+1\n",
        "        if el[2] in ['VB', 'VBD', 'VBG', 'VBN', 'VBP', 'VBZ', 'MD']:\n",
        "          v= v+1\n",
        "        if el[2] in ['RB', 'RBR', 'RBS', 'WRB']:\n",
        "          adv = adv+1\n",
        "        if el[2] in ['JJ', 'JJR', 'JJS']:\n",
        "          adj = adj+1\n",
        "      noun.append(n/l), verb.append(v/l), adjective.append(adj/l), adverb.append(adv/l)\n",
        "  return noun, verb, adjective, adverb"
      ],
      "metadata": {
        "id": "rl1J1DkwUDiY"
      },
      "execution_count": null,
      "outputs": []
    },
    {
      "cell_type": "markdown",
      "source": [
        "**LIME - CNN**"
      ],
      "metadata": {
        "id": "Vmz3JXJObs8u"
      }
    },
    {
      "cell_type": "code",
      "source": [
        "pos = pickle.load(open('/content/drive/MyDrive/MasterThesis/Dataset/lime_cnn_positive_sample_50', 'rb'))\n",
        "neg = pickle.load(open('/content/drive/MyDrive/MasterThesis/Dataset/lime_cnn_negative_sample_50', 'rb'))"
      ],
      "metadata": {
        "id": "C09gt90mh_g2"
      },
      "execution_count": null,
      "outputs": []
    },
    {
      "cell_type": "code",
      "source": [
        "r = func_POS(pos, 0, pos_i)\n",
        "print('LIME-CNN Results for Positive Reviews:\\n Nouns:', sum(r[0])/50, '\\nVerb', sum(r[1])/50, '\\nAdjective', sum(r[2])/50, '\\nAdverb', sum(r[3])/50)"
      ],
      "metadata": {
        "colab": {
          "base_uri": "https://localhost:8080/"
        },
        "id": "bZ5SbZlB_2Gv",
        "outputId": "a3918a4e-ff68-471b-85c7-d2a0a155f970"
      },
      "execution_count": null,
      "outputs": [
        {
          "output_type": "stream",
          "name": "stdout",
          "text": [
            "LIME-CNN Results for Positive Reviews:\n",
            " Nouns: 0.4075634479992698 \n",
            "Verb 0.21645924505895525 \n",
            "Adjective 0.29261965200167106 \n",
            "Adverb 0.07728947312192214\n"
          ]
        }
      ]
    },
    {
      "cell_type": "code",
      "source": [
        "r = func_POS(neg, 1, neg_i)\n",
        "print('LIME-CNN Results for Negative Reviews:\\n Nouns:', sum(r[0])/50, '\\nVerb', sum(r[1])/50, '\\nAdjective', sum(r[2])/50, '\\nAdverb', sum(r[3])/50)"
      ],
      "metadata": {
        "colab": {
          "base_uri": "https://localhost:8080/"
        },
        "id": "2D5hf-L1QCBV",
        "outputId": "8b07f11d-9271-4f75-8e61-2d7026793dc9"
      },
      "execution_count": null,
      "outputs": [
        {
          "output_type": "stream",
          "name": "stdout",
          "text": [
            "LIME-CNN Results for Negative Reviews:\n",
            " Nouns: 0.47843522391007637 \n",
            "Verb 0.2680186352121675 \n",
            "Adjective 0.14153684069803515 \n",
            "Adverb 0.09553011015076451\n"
          ]
        }
      ]
    },
    {
      "cell_type": "markdown",
      "source": [
        "**LIME - LSTM**"
      ],
      "metadata": {
        "id": "vU7Vy3tOgKmG"
      }
    },
    {
      "cell_type": "code",
      "source": [
        "pos = pickle.load(open('/content/drive/MyDrive/MasterThesis/Dataset/lime_lstm_positive_sample_50', 'rb'))\n",
        "neg = pickle.load(open('/content/drive/MyDrive/MasterThesis/Dataset/lime_lstm_negative_sample_50', 'rb'))"
      ],
      "metadata": {
        "id": "1lGc8haBiDd1"
      },
      "execution_count": null,
      "outputs": []
    },
    {
      "cell_type": "code",
      "source": [
        "r = func_POS(pos, 0, pos_i)\n",
        "print('LIME-LSTM Results for Positive Reviews:\\n Nouns:', sum(r[0])/50, '\\nVerb', sum(r[1])/50, '\\nAdjective', sum(r[2])/50, '\\nAdverb', sum(r[3])/50)"
      ],
      "metadata": {
        "colab": {
          "base_uri": "https://localhost:8080/"
        },
        "id": "7I5Vu3ihhypH",
        "outputId": "bea94b18-28bc-4ebb-80d7-88efa4e1148b"
      },
      "execution_count": null,
      "outputs": [
        {
          "output_type": "stream",
          "name": "stdout",
          "text": [
            "LIME-LSTM Results for Positive Reviews:\n",
            " Nouns: 0.44220956590136146 \n",
            "Verb 0.22142909427460514 \n",
            "Adjective 0.2663747760495438 \n",
            "Adverb 0.06415278741439731\n"
          ]
        }
      ]
    },
    {
      "cell_type": "code",
      "source": [
        "r = func_POS(neg, 1, neg_i)\n",
        "print('LIME-LSTM Results for Negative Reviews:\\n Nouns:', sum(r[0])/50, '\\nVerb', sum(r[1])/50, '\\nAdjective', sum(r[2])/50, '\\nAdverb', sum(r[3])/50)"
      ],
      "metadata": {
        "colab": {
          "base_uri": "https://localhost:8080/"
        },
        "id": "cJVoEZwhh6jU",
        "outputId": "f7ebf2df-600a-4393-cb63-c81e05a9dbda"
      },
      "execution_count": null,
      "outputs": [
        {
          "output_type": "stream",
          "name": "stdout",
          "text": [
            "LIME-LSTM Results for Negative Reviews:\n",
            " Nouns: 0.494823587087769 \n",
            "Verb 0.23594157464550386 \n",
            "Adjective 0.14471119850623892 \n",
            "Adverb 0.10705197236798164\n"
          ]
        }
      ]
    },
    {
      "cell_type": "markdown",
      "source": [
        "**LIME - BERT**"
      ],
      "metadata": {
        "id": "ygf_hSGZgOiw"
      }
    },
    {
      "cell_type": "code",
      "source": [
        "pos = pickle.load(open('/content/drive/MyDrive/MasterThesis/Dataset/lime_bert_positive_sample_50', 'rb'))\n",
        "neg = pickle.load(open('/content/drive/MyDrive/MasterThesis/Dataset/lime_bert_negative_sample_50', 'rb'))"
      ],
      "metadata": {
        "id": "Nl_LTQICQCDQ"
      },
      "execution_count": null,
      "outputs": []
    },
    {
      "cell_type": "code",
      "source": [
        "r = func_POS(pos, 0, pos_i)\n",
        "print('LIME-BERT Results for Positive Reviews:\\n Nouns:', sum(r[0])/50, '\\nVerb', sum(r[1])/50, '\\nAdjective', sum(r[2])/50, '\\nAdverb', sum(r[3])/50)"
      ],
      "metadata": {
        "id": "-n12h_X0jw-2",
        "colab": {
          "base_uri": "https://localhost:8080/"
        },
        "outputId": "47adcf61-3149-482e-ef75-eb4687fe488a"
      },
      "execution_count": null,
      "outputs": [
        {
          "output_type": "stream",
          "name": "stdout",
          "text": [
            "LIME-BERT Results for Positive Reviews:\n",
            " Nouns: 0.4189509623791098 \n",
            "Verb 0.19575582672592615 \n",
            "Adjective 0.30744844797277116 \n",
            "Adverb 0.07205575672142205\n"
          ]
        }
      ]
    },
    {
      "cell_type": "code",
      "source": [
        "r = func_POS(neg, 1, neg_i)\n",
        "print('LIME-BERT Results for Negative Reviews:\\n Nouns:', sum(r[0])/50, '\\nVerb', sum(r[1])/50, '\\nAdjective', sum(r[2])/50, '\\nAdverb', sum(r[3])/50)"
      ],
      "metadata": {
        "colab": {
          "base_uri": "https://localhost:8080/"
        },
        "id": "ip2kepZ2ES5y",
        "outputId": "0886b756-6e39-4954-e5f0-616a4bd98dc1"
      },
      "execution_count": null,
      "outputs": [
        {
          "output_type": "stream",
          "name": "stdout",
          "text": [
            "LIME-BERT Results for Negative Reviews:\n",
            " Nouns: 0.46085079657658923 \n",
            "Verb 0.2578987137702354 \n",
            "Adjective 0.18261223065865514 \n",
            "Adverb 0.08575099919549561\n"
          ]
        }
      ]
    },
    {
      "cell_type": "markdown",
      "source": [
        "**SHAP - CNN**"
      ],
      "metadata": {
        "id": "v1aBKA1LnZbs"
      }
    },
    {
      "cell_type": "code",
      "source": [
        "pos = pickle.load(open('/content/drive/MyDrive/MasterThesis/Dataset/shap_cnn_final_list_pos', 'rb'))\n",
        "neg = pickle.load(open('/content/drive/MyDrive/MasterThesis/Dataset/shap_cnn_final_list_neg', 'rb'))"
      ],
      "metadata": {
        "id": "8pbA4E9b4pAN"
      },
      "execution_count": null,
      "outputs": []
    },
    {
      "cell_type": "code",
      "source": [
        "r = func_POS(pos, 0, pos_i)\n",
        "print('SHAP-CNN Results for Positive Reviews:\\n Nouns:', sum(r[0])/50, '\\nVerb', sum(r[1])/50, '\\nAdjective', sum(r[2])/50, '\\nAdverb', sum(r[3])/50)"
      ],
      "metadata": {
        "colab": {
          "base_uri": "https://localhost:8080/"
        },
        "id": "Q5-6uhns4sD0",
        "outputId": "b0c136b6-6fc3-4784-d3a5-77b6c6a22a2a"
      },
      "execution_count": null,
      "outputs": [
        {
          "output_type": "stream",
          "name": "stdout",
          "text": [
            "SHAP-CNN Results for Positive Reviews:\n",
            " Nouns: 0.4353503777883574 \n",
            "Verb 0.21774170465794512 \n",
            "Adjective 0.2710144973667991 \n",
            "Adverb 0.0701230613187135\n"
          ]
        }
      ]
    },
    {
      "cell_type": "code",
      "source": [
        "r = func_POS(neg, 1, neg_i)\n",
        "print('SHAP-CNN Results for Negative Reviews:\\n Nouns:', sum(r[0])/50, '\\nVerb', sum(r[1])/50, '\\nAdjective', sum(r[2])/50, '\\nAdverb', sum(r[3])/50)"
      ],
      "metadata": {
        "colab": {
          "base_uri": "https://localhost:8080/"
        },
        "id": "zpcNjTQH4vI7",
        "outputId": "00073e2e-1730-49cd-8732-77c50b94bbd6"
      },
      "execution_count": null,
      "outputs": [
        {
          "output_type": "stream",
          "name": "stdout",
          "text": [
            "SHAP-CNN Results for Negative Reviews:\n",
            " Nouns: 0.48134439091815584 \n",
            "Verb 0.264482729483914 \n",
            "Adjective 0.15543951872449652 \n",
            "Adverb 0.0905297408219874\n"
          ]
        }
      ]
    },
    {
      "cell_type": "markdown",
      "source": [
        "**SHAP - LSTM**"
      ],
      "metadata": {
        "id": "H04l97knnfsf"
      }
    },
    {
      "cell_type": "code",
      "source": [
        "pos = pickle.load(open('/content/drive/MyDrive/MasterThesis/Dataset/shap_lstm_final_list_pos', 'rb'))\n",
        "neg = pickle.load(open('/content/drive/MyDrive/MasterThesis/Dataset/shap_lstm_final_list_neg', 'rb'))"
      ],
      "metadata": {
        "id": "t3oygDSO6slO"
      },
      "execution_count": null,
      "outputs": []
    },
    {
      "cell_type": "code",
      "source": [
        "r = func_POS(pos, 0, pos_i)\n",
        "print('SHAP-LSTM Results for Positive Reviews:\\n Nouns:', sum(r[0])/50, '\\nVerb', sum(r[1])/50, '\\nAdjective', sum(r[2])/50, '\\nAdverb', sum(r[3])/50)"
      ],
      "metadata": {
        "colab": {
          "base_uri": "https://localhost:8080/"
        },
        "id": "QvCV243m7EDt",
        "outputId": "87eba2b8-b27d-46b9-db21-f47dc43f6885"
      },
      "execution_count": null,
      "outputs": [
        {
          "output_type": "stream",
          "name": "stdout",
          "text": [
            "SHAP-LSTM Results for Positive Reviews:\n",
            " Nouns: 0.46068488465737767 \n",
            "Verb 0.22034202589038365 \n",
            "Adjective 0.2657605491366294 \n",
            "Adverb 0.04734297509821807\n"
          ]
        }
      ]
    },
    {
      "cell_type": "code",
      "source": [
        "r = func_POS(neg, 1, neg_i)\n",
        "print('SHAP-LSTM Results for Negative Reviews:\\n Nouns:', sum(r[0])/50, '\\nVerb', sum(r[1])/50, '\\nAdjective', sum(r[2])/50, '\\nAdverb', sum(r[3])/50)"
      ],
      "metadata": {
        "colab": {
          "base_uri": "https://localhost:8080/"
        },
        "id": "okhx2L2g7Iql",
        "outputId": "232e643d-7019-4898-a3fa-817cfaa7c936"
      },
      "execution_count": null,
      "outputs": [
        {
          "output_type": "stream",
          "name": "stdout",
          "text": [
            "SHAP-LSTM Results for Negative Reviews:\n",
            " Nouns: 0.46679470059711015 \n",
            "Verb 0.2663290776445104 \n",
            "Adjective 0.15422043643528366 \n",
            "Adverb 0.1022626480681939\n"
          ]
        }
      ]
    },
    {
      "cell_type": "markdown",
      "source": [
        "**SHAP - BERT**"
      ],
      "metadata": {
        "id": "RoyVHPcqnh0c"
      }
    },
    {
      "cell_type": "code",
      "source": [
        "pos = pickle.load(open('/content/drive/MyDrive/MasterThesis/Dataset/bert_shap_positive_sample_50', 'rb'))\n",
        "neg = pickle.load(open('/content/drive/MyDrive/MasterThesis/Dataset/bert_shap_negative_sample_50', 'rb'))"
      ],
      "metadata": {
        "id": "WVyVTxJWjxBM"
      },
      "execution_count": null,
      "outputs": []
    },
    {
      "cell_type": "code",
      "source": [
        "r = func_POS(pos, 0, pos_i)\n",
        "print('SHAP-BERT Results for Positive Reviews:\\n Nouns:', sum(r[0])/50, '\\nVerb', sum(r[1])/50, '\\nAdjective', sum(r[2])/50, '\\nAdverb', sum(r[3])/50)"
      ],
      "metadata": {
        "colab": {
          "base_uri": "https://localhost:8080/"
        },
        "id": "ZNDRdVc4nWtJ",
        "outputId": "d9e5c007-5541-4c72-b497-05f7a173354d"
      },
      "execution_count": null,
      "outputs": [
        {
          "output_type": "stream",
          "name": "stdout",
          "text": [
            "SHAP-BERT Results for Positive Reviews:\n",
            " Nouns: 0.4683606458527041 \n",
            "Verb 0.18373725740689667 \n",
            "Adjective 0.28160172043672516 \n",
            "Adverb 0.059791922197394015\n"
          ]
        }
      ]
    },
    {
      "cell_type": "code",
      "source": [
        "r = func_POS(neg, 1, neg_i)\n",
        "print('SHAP-BERT Results for Negative Reviews:\\n Nouns:', sum(r[0])/50, '\\nVerb', sum(r[1])/50, '\\nAdjective', sum(r[2])/50, '\\nAdverb', sum(r[3])/50)"
      ],
      "metadata": {
        "colab": {
          "base_uri": "https://localhost:8080/"
        },
        "id": "8s10FuNNnWvy",
        "outputId": "030129dd-1ee0-4c63-d3c5-28c014c16f3a"
      },
      "execution_count": null,
      "outputs": [
        {
          "output_type": "stream",
          "name": "stdout",
          "text": [
            "SHAP-BERT Results for Negative Reviews:\n",
            " Nouns: 0.42590273049202976 \n",
            "Verb 0.27982528335330514 \n",
            "Adjective 0.16681432119808462 \n",
            "Adverb 0.10369049642648573\n"
          ]
        }
      ]
    },
    {
      "cell_type": "markdown",
      "source": [
        "**IG - CNN**"
      ],
      "metadata": {
        "id": "wh7mktDjKiXd"
      }
    },
    {
      "cell_type": "code",
      "source": [
        "pos = pickle.load(open('/content/drive/MyDrive/MasterThesis/Dataset/ig_cnn_final_list_pos', 'rb'))\n",
        "neg = pickle.load(open('/content/drive/MyDrive/MasterThesis/Dataset/ig_cnn_final_list_neg', 'rb'))"
      ],
      "metadata": {
        "id": "HawE7rDQKu_7"
      },
      "execution_count": null,
      "outputs": []
    },
    {
      "cell_type": "code",
      "source": [
        "r = func_POS(pos, 0, pos_i)\n",
        "print('IG-CNN Results for Positive Reviews:\\n Nouns:', sum(r[0])/50, '\\nVerb', sum(r[1])/50, '\\nAdjective', sum(r[2])/50, '\\nAdverb', sum(r[3])/50)"
      ],
      "metadata": {
        "colab": {
          "base_uri": "https://localhost:8080/"
        },
        "id": "khKkYZZVK5Vl",
        "outputId": "bb3d569f-3893-42be-b3eb-1492e85dff41"
      },
      "execution_count": null,
      "outputs": [
        {
          "output_type": "stream",
          "name": "stdout",
          "text": [
            "IG-CNN Results for Positive Reviews:\n",
            " Nouns: 0.48305660406699064 \n",
            "Verb 0.17873309001718563 \n",
            "Adjective 0.2709225903915076 \n",
            "Adverb 0.0623708255983517\n"
          ]
        }
      ]
    },
    {
      "cell_type": "code",
      "source": [
        "r = func_POS(neg, 0, neg_i)\n",
        "print('IG-CNN Results for Negative Reviews:\\n Nouns:', sum(r[0])/50, '\\nVerb', sum(r[1])/50, '\\nAdjective', sum(r[2])/50, '\\nAdverb', sum(r[3])/50)"
      ],
      "metadata": {
        "colab": {
          "base_uri": "https://localhost:8080/"
        },
        "id": "2J3BF5J-K9Jj",
        "outputId": "526d1f46-f69a-48bb-e857-55e7b1e1569c"
      },
      "execution_count": null,
      "outputs": [
        {
          "output_type": "stream",
          "name": "stdout",
          "text": [
            "IG-CNN Results for Negative Reviews:\n",
            " Nouns: 0.48159431950768605 \n",
            "Verb 0.243541285748696 \n",
            "Adjective 0.1551771219709233 \n",
            "Adverb 0.10997029676624505\n"
          ]
        }
      ]
    },
    {
      "cell_type": "markdown",
      "source": [
        "**IG - LSTM**"
      ],
      "metadata": {
        "id": "NUH9r5oLKmCM"
      }
    },
    {
      "cell_type": "code",
      "source": [
        "pos = pickle.load(open('/content/drive/MyDrive/MasterThesis/Dataset/ig_lstm_final_list_pos', 'rb'))\n",
        "neg = pickle.load(open('/content/drive/MyDrive/MasterThesis/Dataset/ig_lstm_final_list_neg', 'rb'))"
      ],
      "metadata": {
        "id": "hP6pCevUOCNr"
      },
      "execution_count": null,
      "outputs": []
    },
    {
      "cell_type": "code",
      "source": [
        "r = func_POS(pos, 0, pos_i)\n",
        "print('IG-CNN Results for Positive Reviews:\\n Nouns:', sum(r[0])/50, '\\nVerb', sum(r[1])/50, '\\nAdjective', sum(r[2])/50, '\\nAdverb', sum(r[3])/50)"
      ],
      "metadata": {
        "colab": {
          "base_uri": "https://localhost:8080/"
        },
        "id": "LqDII8XLOD4s",
        "outputId": "3add8d2b-9754-4abc-c4b3-36fc4849d208"
      },
      "execution_count": null,
      "outputs": [
        {
          "output_type": "stream",
          "name": "stdout",
          "text": [
            "IG-CNN Results for Positive Reviews:\n",
            " Nouns: 0.4526640863153176 \n",
            "Verb 0.19843894556714617 \n",
            "Adjective 0.2973156047503206 \n",
            "Adverb 0.04725265966351176\n"
          ]
        }
      ]
    },
    {
      "cell_type": "code",
      "source": [
        "r = func_POS(neg, 0, neg_i)\n",
        "print('IG-CNN Results for Negative Reviews:\\n Nouns:', sum(r[0])/50, '\\nVerb', sum(r[1])/50, '\\nAdjective', sum(r[2])/50, '\\nAdverb', sum(r[3])/50)"
      ],
      "metadata": {
        "colab": {
          "base_uri": "https://localhost:8080/"
        },
        "id": "wMvJveW8ORU6",
        "outputId": "e9ea39c9-684f-44d2-ccd9-6eef8353ca8e"
      },
      "execution_count": null,
      "outputs": [
        {
          "output_type": "stream",
          "name": "stdout",
          "text": [
            "IG-CNN Results for Negative Reviews:\n",
            " Nouns: 0.492461621254354 \n",
            "Verb 0.23602212651634727 \n",
            "Adjective 0.14656840575865385 \n",
            "Adverb 0.11391789808470616\n"
          ]
        }
      ]
    },
    {
      "cell_type": "markdown",
      "source": [
        "**IG - BERT**"
      ],
      "metadata": {
        "id": "ENcT7DyqKoKS"
      }
    },
    {
      "cell_type": "code",
      "source": [
        "pos = pickle.load(open('/content/drive/MyDrive/MasterThesis/Dataset/ig_bert_final_list_pos', 'rb'))\n",
        "neg = pickle.load(open('/content/drive/MyDrive/MasterThesis/Dataset/ig_bert_final_list_neg', 'rb'))"
      ],
      "metadata": {
        "id": "099Gi5EInW4b"
      },
      "execution_count": null,
      "outputs": []
    },
    {
      "cell_type": "code",
      "source": [
        "r = func_POS(pos, 0, pos_i)\n",
        "print('IG-BERT Results for Positive Reviews:\\n Nouns:', sum(r[0])/50, '\\nVerb', sum(r[1])/50, '\\nAdjective', sum(r[2])/50, '\\nAdverb', sum(r[3])/50)"
      ],
      "metadata": {
        "id": "0Owgd1dinW6U",
        "colab": {
          "base_uri": "https://localhost:8080/"
        },
        "outputId": "6f9f5739-522a-4b57-8122-f399ef91d45d"
      },
      "execution_count": null,
      "outputs": [
        {
          "output_type": "stream",
          "name": "stdout",
          "text": [
            "IG-BERT Results for Positive Reviews:\n",
            " Nouns: 0.44423885999808055 \n",
            "Verb 0.16045664651452105 \n",
            "Adjective 0.3167464329242496 \n",
            "Adverb 0.0699446614019235\n"
          ]
        }
      ]
    },
    {
      "cell_type": "code",
      "source": [
        "r = func_POS(neg, 0, neg_i)\n",
        "print('IG-BERT Results for Negative Reviews:\\n Nouns:', sum(r[0])/50, '\\nVerb', sum(r[1])/50, '\\nAdjective', sum(r[2])/50, '\\nAdverb', sum(r[3])/50)"
      ],
      "metadata": {
        "id": "4rDnuB5rnW9k",
        "colab": {
          "base_uri": "https://localhost:8080/"
        },
        "outputId": "21d209ac-6200-43d9-d2a5-e1773c4ed779"
      },
      "execution_count": null,
      "outputs": [
        {
          "output_type": "stream",
          "name": "stdout",
          "text": [
            "IG-BERT Results for Negative Reviews:\n",
            " Nouns: 0.42533097864566594 \n",
            "Verb 0.29045091970282044 \n",
            "Adjective 0.17217946345762997 \n",
            "Adverb 0.09171741968705628\n"
          ]
        }
      ]
    },
    {
      "cell_type": "code",
      "source": [
        ""
      ],
      "metadata": {
        "id": "zdM6vMbuKZ8e"
      },
      "execution_count": null,
      "outputs": []
    }
  ]
}