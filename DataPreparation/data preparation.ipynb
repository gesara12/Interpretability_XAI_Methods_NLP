{
 "cells": [
  {
   "cell_type": "markdown",
   "id": "ff51b904",
   "metadata": {},
   "source": [
    "# Dataset"
   ]
  },
  {
   "cell_type": "markdown",
   "id": "a43e201b",
   "metadata": {},
   "source": [
    "This notebook contains the steps for data preparation. It must be mentioned that to run this notebook, the Yelp dataset should be donloaded in you personal computer and then you can run the notebook locally.\n",
    "\n",
    "Yelp dataset can be found here: https://www.yelp.com/dataset\n",
    "\n",
    "The notebooks taken in reference for this first process is https://github.com/Sonull/Sentiment-Analysis-on-Yelp-Reviews and https://michael-fuchs-python.netlify.app/2021/06/16/nlp-text-pre-processing-vi-word-removal/ "
   ]
  },
  {
   "cell_type": "code",
   "execution_count": 2,
   "id": "32ec50e4",
   "metadata": {},
   "outputs": [],
   "source": [
    "#pip install -U gensim"
   ]
  },
  {
   "cell_type": "code",
   "execution_count": 143,
   "id": "af2ef517",
   "metadata": {},
   "outputs": [],
   "source": [
    "from gensim.parsing.preprocessing import STOPWORDS, strip_tags, strip_numeric, strip_punctuation, strip_multiple_whitespaces, remove_stopwords, strip_short, stem_text\n",
    "from sklearn.model_selection import train_test_split\n",
    "from tensorflow.keras.preprocessing.text import Tokenizer\n",
    "from tensorflow.keras.preprocessing.sequence import pad_sequences\n",
    "from collections import Counter\n",
    "from nltk.corpus import stopwords\n",
    "from nltk.tokenize import word_tokenize\n",
    "import pickle\n",
    "import pandas as pd\n",
    "import numpy as np\n",
    "import json\n",
    "import re\n",
    "import seaborn as sns\n",
    "import matplotlib.pyplot as plt"
   ]
  },
  {
   "cell_type": "markdown",
   "id": "16bfac0c",
   "metadata": {},
   "source": [
    "## Data Preparation"
   ]
  },
  {
   "cell_type": "markdown",
   "id": "7f00759d",
   "metadata": {},
   "source": [
    "**Business Category**"
   ]
  },
  {
   "cell_type": "code",
   "execution_count": 4,
   "id": "df622080",
   "metadata": {},
   "outputs": [
    {
     "data": {
      "text/html": [
       "<div>\n",
       "<style scoped>\n",
       "    .dataframe tbody tr th:only-of-type {\n",
       "        vertical-align: middle;\n",
       "    }\n",
       "\n",
       "    .dataframe tbody tr th {\n",
       "        vertical-align: top;\n",
       "    }\n",
       "\n",
       "    .dataframe thead th {\n",
       "        text-align: right;\n",
       "    }\n",
       "</style>\n",
       "<table border=\"1\" class=\"dataframe\">\n",
       "  <thead>\n",
       "    <tr style=\"text-align: right;\">\n",
       "      <th></th>\n",
       "      <th>business_id</th>\n",
       "      <th>name</th>\n",
       "      <th>address</th>\n",
       "      <th>city</th>\n",
       "      <th>state</th>\n",
       "      <th>postal_code</th>\n",
       "      <th>latitude</th>\n",
       "      <th>longitude</th>\n",
       "      <th>stars</th>\n",
       "      <th>review_count</th>\n",
       "      <th>is_open</th>\n",
       "      <th>attributes</th>\n",
       "      <th>categories</th>\n",
       "      <th>hours</th>\n",
       "    </tr>\n",
       "  </thead>\n",
       "  <tbody>\n",
       "    <tr>\n",
       "      <th>0</th>\n",
       "      <td>6iYb2HFDywm3zjuRg0shjw</td>\n",
       "      <td>Oskar Blues Taproom</td>\n",
       "      <td>921 Pearl St</td>\n",
       "      <td>Boulder</td>\n",
       "      <td>CO</td>\n",
       "      <td>80302</td>\n",
       "      <td>40.017544</td>\n",
       "      <td>-105.283348</td>\n",
       "      <td>4.0</td>\n",
       "      <td>86</td>\n",
       "      <td>1</td>\n",
       "      <td>{'RestaurantsTableService': 'True', 'WiFi': 'u...</td>\n",
       "      <td>Gastropubs, Food, Beer Gardens, Restaurants, B...</td>\n",
       "      <td>{'Monday': '11:0-23:0', 'Tuesday': '11:0-23:0'...</td>\n",
       "    </tr>\n",
       "    <tr>\n",
       "      <th>1</th>\n",
       "      <td>tCbdrRPZA0oiIYSmHG3J0w</td>\n",
       "      <td>Flying Elephants at PDX</td>\n",
       "      <td>7000 NE Airport Way</td>\n",
       "      <td>Portland</td>\n",
       "      <td>OR</td>\n",
       "      <td>97218</td>\n",
       "      <td>45.588906</td>\n",
       "      <td>-122.593331</td>\n",
       "      <td>4.0</td>\n",
       "      <td>126</td>\n",
       "      <td>1</td>\n",
       "      <td>{'RestaurantsTakeOut': 'True', 'RestaurantsAtt...</td>\n",
       "      <td>Salad, Soup, Sandwiches, Delis, Restaurants, C...</td>\n",
       "      <td>{'Monday': '5:0-18:0', 'Tuesday': '5:0-17:0', ...</td>\n",
       "    </tr>\n",
       "    <tr>\n",
       "      <th>2</th>\n",
       "      <td>bvN78flM8NLprQ1a1y5dRg</td>\n",
       "      <td>The Reclaimory</td>\n",
       "      <td>4720 Hawthorne Ave</td>\n",
       "      <td>Portland</td>\n",
       "      <td>OR</td>\n",
       "      <td>97214</td>\n",
       "      <td>45.511907</td>\n",
       "      <td>-122.613693</td>\n",
       "      <td>4.5</td>\n",
       "      <td>13</td>\n",
       "      <td>1</td>\n",
       "      <td>{'BusinessAcceptsCreditCards': 'True', 'Restau...</td>\n",
       "      <td>Antiques, Fashion, Used, Vintage &amp; Consignment...</td>\n",
       "      <td>{'Thursday': '11:0-18:0', 'Friday': '11:0-18:0...</td>\n",
       "    </tr>\n",
       "    <tr>\n",
       "      <th>3</th>\n",
       "      <td>oaepsyvc0J17qwi8cfrOWg</td>\n",
       "      <td>Great Clips</td>\n",
       "      <td>2566 Enterprise Rd</td>\n",
       "      <td>Orange City</td>\n",
       "      <td>FL</td>\n",
       "      <td>32763</td>\n",
       "      <td>28.914482</td>\n",
       "      <td>-81.295979</td>\n",
       "      <td>3.0</td>\n",
       "      <td>8</td>\n",
       "      <td>1</td>\n",
       "      <td>{'RestaurantsPriceRange2': '1', 'BusinessAccep...</td>\n",
       "      <td>Beauty &amp; Spas, Hair Salons</td>\n",
       "      <td>None</td>\n",
       "    </tr>\n",
       "    <tr>\n",
       "      <th>4</th>\n",
       "      <td>PE9uqAjdw0E4-8mjGl3wVA</td>\n",
       "      <td>Crossfit Terminus</td>\n",
       "      <td>1046 Memorial Dr SE</td>\n",
       "      <td>Atlanta</td>\n",
       "      <td>GA</td>\n",
       "      <td>30316</td>\n",
       "      <td>33.747027</td>\n",
       "      <td>-84.353424</td>\n",
       "      <td>4.0</td>\n",
       "      <td>14</td>\n",
       "      <td>1</td>\n",
       "      <td>{'GoodForKids': 'False', 'BusinessParking': '{...</td>\n",
       "      <td>Gyms, Active Life, Interval Training Gyms, Fit...</td>\n",
       "      <td>{'Monday': '16:0-19:0', 'Tuesday': '16:0-19:0'...</td>\n",
       "    </tr>\n",
       "  </tbody>\n",
       "</table>\n",
       "</div>"
      ],
      "text/plain": [
       "              business_id                     name              address  \\\n",
       "0  6iYb2HFDywm3zjuRg0shjw      Oskar Blues Taproom         921 Pearl St   \n",
       "1  tCbdrRPZA0oiIYSmHG3J0w  Flying Elephants at PDX  7000 NE Airport Way   \n",
       "2  bvN78flM8NLprQ1a1y5dRg           The Reclaimory   4720 Hawthorne Ave   \n",
       "3  oaepsyvc0J17qwi8cfrOWg              Great Clips   2566 Enterprise Rd   \n",
       "4  PE9uqAjdw0E4-8mjGl3wVA        Crossfit Terminus  1046 Memorial Dr SE   \n",
       "\n",
       "          city state postal_code   latitude   longitude  stars  review_count  \\\n",
       "0      Boulder    CO       80302  40.017544 -105.283348    4.0            86   \n",
       "1     Portland    OR       97218  45.588906 -122.593331    4.0           126   \n",
       "2     Portland    OR       97214  45.511907 -122.613693    4.5            13   \n",
       "3  Orange City    FL       32763  28.914482  -81.295979    3.0             8   \n",
       "4      Atlanta    GA       30316  33.747027  -84.353424    4.0            14   \n",
       "\n",
       "   is_open                                         attributes  \\\n",
       "0        1  {'RestaurantsTableService': 'True', 'WiFi': 'u...   \n",
       "1        1  {'RestaurantsTakeOut': 'True', 'RestaurantsAtt...   \n",
       "2        1  {'BusinessAcceptsCreditCards': 'True', 'Restau...   \n",
       "3        1  {'RestaurantsPriceRange2': '1', 'BusinessAccep...   \n",
       "4        1  {'GoodForKids': 'False', 'BusinessParking': '{...   \n",
       "\n",
       "                                          categories  \\\n",
       "0  Gastropubs, Food, Beer Gardens, Restaurants, B...   \n",
       "1  Salad, Soup, Sandwiches, Delis, Restaurants, C...   \n",
       "2  Antiques, Fashion, Used, Vintage & Consignment...   \n",
       "3                         Beauty & Spas, Hair Salons   \n",
       "4  Gyms, Active Life, Interval Training Gyms, Fit...   \n",
       "\n",
       "                                               hours  \n",
       "0  {'Monday': '11:0-23:0', 'Tuesday': '11:0-23:0'...  \n",
       "1  {'Monday': '5:0-18:0', 'Tuesday': '5:0-17:0', ...  \n",
       "2  {'Thursday': '11:0-18:0', 'Friday': '11:0-18:0...  \n",
       "3                                               None  \n",
       "4  {'Monday': '16:0-19:0', 'Tuesday': '16:0-19:0'...  "
      ]
     },
     "execution_count": 4,
     "metadata": {},
     "output_type": "execute_result"
    }
   ],
   "source": [
    "business_df = pd.read_json('../Dataset/yelp_academic_dataset_business.json', lines = True)\n",
    "\n",
    "business_df.head(5)"
   ]
  },
  {
   "cell_type": "code",
   "execution_count": 5,
   "id": "2f90a4dc",
   "metadata": {},
   "outputs": [
    {
     "data": {
      "text/plain": [
       "88116"
      ]
     },
     "execution_count": 5,
     "metadata": {},
     "output_type": "execute_result"
    }
   ],
   "source": [
    "#how many different categories do we have\n",
    "len(business_df.categories.unique())"
   ]
  },
  {
   "cell_type": "markdown",
   "id": "007afb2a",
   "metadata": {},
   "source": [
    "**Reviews**"
   ]
  },
  {
   "cell_type": "code",
   "execution_count": 6,
   "id": "40859844",
   "metadata": {},
   "outputs": [],
   "source": [
    "#read reviews from json file\n",
    "reviews = pd.read_json('../Dataset/yelp_academic_dataset_review.json',lines = True,chunksize=50000)\n",
    "for r in reviews:\n",
    "    review_subset = r\n",
    "    break"
   ]
  },
  {
   "cell_type": "code",
   "execution_count": 7,
   "id": "1500343e",
   "metadata": {},
   "outputs": [
    {
     "data": {
      "text/html": [
       "<div>\n",
       "<style scoped>\n",
       "    .dataframe tbody tr th:only-of-type {\n",
       "        vertical-align: middle;\n",
       "    }\n",
       "\n",
       "    .dataframe tbody tr th {\n",
       "        vertical-align: top;\n",
       "    }\n",
       "\n",
       "    .dataframe thead th {\n",
       "        text-align: right;\n",
       "    }\n",
       "</style>\n",
       "<table border=\"1\" class=\"dataframe\">\n",
       "  <thead>\n",
       "    <tr style=\"text-align: right;\">\n",
       "      <th></th>\n",
       "      <th>review_id</th>\n",
       "      <th>user_id</th>\n",
       "      <th>business_id</th>\n",
       "      <th>stars</th>\n",
       "      <th>useful</th>\n",
       "      <th>funny</th>\n",
       "      <th>cool</th>\n",
       "      <th>text</th>\n",
       "      <th>date</th>\n",
       "    </tr>\n",
       "  </thead>\n",
       "  <tbody>\n",
       "    <tr>\n",
       "      <th>0</th>\n",
       "      <td>lWC-xP3rd6obsecCYsGZRg</td>\n",
       "      <td>ak0TdVmGKo4pwqdJSTLwWw</td>\n",
       "      <td>buF9druCkbuXLX526sGELQ</td>\n",
       "      <td>4</td>\n",
       "      <td>3</td>\n",
       "      <td>1</td>\n",
       "      <td>1</td>\n",
       "      <td>Apparently Prides Osteria had a rough summer a...</td>\n",
       "      <td>2014-10-11 03:34:02</td>\n",
       "    </tr>\n",
       "    <tr>\n",
       "      <th>1</th>\n",
       "      <td>8bFej1QE5LXp4O05qjGqXA</td>\n",
       "      <td>YoVfDbnISlW0f7abNQACIg</td>\n",
       "      <td>RA4V8pr014UyUbDvI-LW2A</td>\n",
       "      <td>4</td>\n",
       "      <td>1</td>\n",
       "      <td>0</td>\n",
       "      <td>0</td>\n",
       "      <td>This store is pretty good. Not as great as Wal...</td>\n",
       "      <td>2015-07-03 20:38:25</td>\n",
       "    </tr>\n",
       "    <tr>\n",
       "      <th>2</th>\n",
       "      <td>NDhkzczKjLshODbqDoNLSg</td>\n",
       "      <td>eC5evKn1TWDyHCyQAwguUw</td>\n",
       "      <td>_sS2LBIGNT5NQb6PD1Vtjw</td>\n",
       "      <td>5</td>\n",
       "      <td>0</td>\n",
       "      <td>0</td>\n",
       "      <td>0</td>\n",
       "      <td>I called WVM on the recommendation of a couple...</td>\n",
       "      <td>2013-05-28 20:38:06</td>\n",
       "    </tr>\n",
       "    <tr>\n",
       "      <th>3</th>\n",
       "      <td>T5fAqjjFooT4V0OeZyuk1w</td>\n",
       "      <td>SFQ1jcnGguO0LYWnbbftAA</td>\n",
       "      <td>0AzLzHfOJgL7ROwhdww2ew</td>\n",
       "      <td>2</td>\n",
       "      <td>1</td>\n",
       "      <td>1</td>\n",
       "      <td>1</td>\n",
       "      <td>I've stayed at many Marriott and Renaissance M...</td>\n",
       "      <td>2010-01-08 02:29:15</td>\n",
       "    </tr>\n",
       "    <tr>\n",
       "      <th>4</th>\n",
       "      <td>sjm_uUcQVxab_EeLCqsYLg</td>\n",
       "      <td>0kA0PAJ8QFMeveQWHFqz2A</td>\n",
       "      <td>8zehGz9jnxPqXtOc7KaJxA</td>\n",
       "      <td>4</td>\n",
       "      <td>0</td>\n",
       "      <td>0</td>\n",
       "      <td>0</td>\n",
       "      <td>The food is always great here. The service fro...</td>\n",
       "      <td>2011-07-28 18:05:01</td>\n",
       "    </tr>\n",
       "  </tbody>\n",
       "</table>\n",
       "</div>"
      ],
      "text/plain": [
       "                review_id                 user_id             business_id  \\\n",
       "0  lWC-xP3rd6obsecCYsGZRg  ak0TdVmGKo4pwqdJSTLwWw  buF9druCkbuXLX526sGELQ   \n",
       "1  8bFej1QE5LXp4O05qjGqXA  YoVfDbnISlW0f7abNQACIg  RA4V8pr014UyUbDvI-LW2A   \n",
       "2  NDhkzczKjLshODbqDoNLSg  eC5evKn1TWDyHCyQAwguUw  _sS2LBIGNT5NQb6PD1Vtjw   \n",
       "3  T5fAqjjFooT4V0OeZyuk1w  SFQ1jcnGguO0LYWnbbftAA  0AzLzHfOJgL7ROwhdww2ew   \n",
       "4  sjm_uUcQVxab_EeLCqsYLg  0kA0PAJ8QFMeveQWHFqz2A  8zehGz9jnxPqXtOc7KaJxA   \n",
       "\n",
       "   stars  useful  funny  cool  \\\n",
       "0      4       3      1     1   \n",
       "1      4       1      0     0   \n",
       "2      5       0      0     0   \n",
       "3      2       1      1     1   \n",
       "4      4       0      0     0   \n",
       "\n",
       "                                                text                date  \n",
       "0  Apparently Prides Osteria had a rough summer a... 2014-10-11 03:34:02  \n",
       "1  This store is pretty good. Not as great as Wal... 2015-07-03 20:38:25  \n",
       "2  I called WVM on the recommendation of a couple... 2013-05-28 20:38:06  \n",
       "3  I've stayed at many Marriott and Renaissance M... 2010-01-08 02:29:15  \n",
       "4  The food is always great here. The service fro... 2011-07-28 18:05:01  "
      ]
     },
     "execution_count": 7,
     "metadata": {},
     "output_type": "execute_result"
    }
   ],
   "source": [
    "review_subset.head(5)"
   ]
  },
  {
   "cell_type": "code",
   "execution_count": 8,
   "id": "ee2606c9",
   "metadata": {},
   "outputs": [
    {
     "data": {
      "text/html": [
       "<div>\n",
       "<style scoped>\n",
       "    .dataframe tbody tr th:only-of-type {\n",
       "        vertical-align: middle;\n",
       "    }\n",
       "\n",
       "    .dataframe tbody tr th {\n",
       "        vertical-align: top;\n",
       "    }\n",
       "\n",
       "    .dataframe thead th {\n",
       "        text-align: right;\n",
       "    }\n",
       "</style>\n",
       "<table border=\"1\" class=\"dataframe\">\n",
       "  <thead>\n",
       "    <tr style=\"text-align: right;\">\n",
       "      <th></th>\n",
       "      <th>review_id</th>\n",
       "      <th>user_id</th>\n",
       "      <th>business_id</th>\n",
       "      <th>stars</th>\n",
       "      <th>useful</th>\n",
       "      <th>funny</th>\n",
       "      <th>cool</th>\n",
       "      <th>text</th>\n",
       "      <th>date</th>\n",
       "      <th>categories</th>\n",
       "    </tr>\n",
       "  </thead>\n",
       "  <tbody>\n",
       "    <tr>\n",
       "      <th>0</th>\n",
       "      <td>lWC-xP3rd6obsecCYsGZRg</td>\n",
       "      <td>ak0TdVmGKo4pwqdJSTLwWw</td>\n",
       "      <td>buF9druCkbuXLX526sGELQ</td>\n",
       "      <td>4</td>\n",
       "      <td>3</td>\n",
       "      <td>1</td>\n",
       "      <td>1</td>\n",
       "      <td>Apparently Prides Osteria had a rough summer a...</td>\n",
       "      <td>2014-10-11 03:34:02</td>\n",
       "      <td>Restaurants, Wine Bars, Nightlife, Farmers Mar...</td>\n",
       "    </tr>\n",
       "  </tbody>\n",
       "</table>\n",
       "</div>"
      ],
      "text/plain": [
       "                review_id                 user_id             business_id  \\\n",
       "0  lWC-xP3rd6obsecCYsGZRg  ak0TdVmGKo4pwqdJSTLwWw  buF9druCkbuXLX526sGELQ   \n",
       "\n",
       "   stars  useful  funny  cool  \\\n",
       "0      4       3      1     1   \n",
       "\n",
       "                                                text                date  \\\n",
       "0  Apparently Prides Osteria had a rough summer a... 2014-10-11 03:34:02   \n",
       "\n",
       "                                          categories  \n",
       "0  Restaurants, Wine Bars, Nightlife, Farmers Mar...  "
      ]
     },
     "execution_count": 8,
     "metadata": {},
     "output_type": "execute_result"
    }
   ],
   "source": [
    "#merge reviews with business category. Business category will be important for human evaluation \n",
    "categories_id = business_df[['business_id','categories']]\n",
    "reviews = review_subset.merge(categories_id, how='left', on='business_id')\n",
    "reviews.head(1)"
   ]
  },
  {
   "cell_type": "code",
   "execution_count": 9,
   "id": "601e0d1b",
   "metadata": {},
   "outputs": [],
   "source": [
    "business_df = pd.read_json('../Dataset/yelp_academic_dataset_business.json', lines = True)"
   ]
  },
  {
   "cell_type": "markdown",
   "id": "5c3445e1",
   "metadata": {},
   "source": [
    "#### Converting reviews to positive and negative only + balancing the dataset"
   ]
  },
  {
   "cell_type": "code",
   "execution_count": 10,
   "id": "0dbe40a5",
   "metadata": {},
   "outputs": [
    {
     "name": "stdout",
     "output_type": "stream",
     "text": [
      "<class 'pandas.core.frame.DataFrame'>\n",
      "Int64Index: 50000 entries, 0 to 49999\n",
      "Data columns (total 10 columns):\n",
      " #   Column       Non-Null Count  Dtype         \n",
      "---  ------       --------------  -----         \n",
      " 0   review_id    50000 non-null  object        \n",
      " 1   user_id      50000 non-null  object        \n",
      " 2   business_id  50000 non-null  object        \n",
      " 3   stars        50000 non-null  int64         \n",
      " 4   useful       50000 non-null  int64         \n",
      " 5   funny        50000 non-null  int64         \n",
      " 6   cool         50000 non-null  int64         \n",
      " 7   text         50000 non-null  object        \n",
      " 8   date         50000 non-null  datetime64[ns]\n",
      " 9   categories   49996 non-null  object        \n",
      "dtypes: datetime64[ns](1), int64(4), object(5)\n",
      "memory usage: 4.2+ MB\n"
     ]
    }
   ],
   "source": [
    "df_reviews = reviews\n",
    "df_reviews.info()"
   ]
  },
  {
   "cell_type": "code",
   "execution_count": 11,
   "id": "d5454daf",
   "metadata": {},
   "outputs": [],
   "source": [
    "#drop columns we do not need\n",
    "df_reviews = df_reviews.drop(['review_id', 'user_id', 'business_id', 'useful', 'funny', 'cool', 'date'], axis = 1)"
   ]
  },
  {
   "cell_type": "code",
   "execution_count": 12,
   "id": "13d49a38",
   "metadata": {},
   "outputs": [
    {
     "data": {
      "text/plain": [
       "(43985, 3)"
      ]
     },
     "execution_count": 12,
     "metadata": {},
     "output_type": "execute_result"
    }
   ],
   "source": [
    "# dropping reviews with 3 stars because they are neutral and do not shows too much\n",
    "df_reviews.drop(df_reviews.index[df_reviews['stars'] == 3], inplace = True)\n",
    "df_reviews.shape"
   ]
  },
  {
   "cell_type": "code",
   "execution_count": 13,
   "id": "de2ec448",
   "metadata": {},
   "outputs": [
    {
     "data": {
      "text/html": [
       "<div>\n",
       "<style scoped>\n",
       "    .dataframe tbody tr th:only-of-type {\n",
       "        vertical-align: middle;\n",
       "    }\n",
       "\n",
       "    .dataframe tbody tr th {\n",
       "        vertical-align: top;\n",
       "    }\n",
       "\n",
       "    .dataframe thead th {\n",
       "        text-align: right;\n",
       "    }\n",
       "</style>\n",
       "<table border=\"1\" class=\"dataframe\">\n",
       "  <thead>\n",
       "    <tr style=\"text-align: right;\">\n",
       "      <th></th>\n",
       "      <th>text</th>\n",
       "      <th>categories</th>\n",
       "      <th>rate</th>\n",
       "    </tr>\n",
       "  </thead>\n",
       "  <tbody>\n",
       "    <tr>\n",
       "      <th>0</th>\n",
       "      <td>Apparently Prides Osteria had a rough summer a...</td>\n",
       "      <td>Restaurants, Wine Bars, Nightlife, Farmers Mar...</td>\n",
       "      <td>1</td>\n",
       "    </tr>\n",
       "    <tr>\n",
       "      <th>1</th>\n",
       "      <td>This store is pretty good. Not as great as Wal...</td>\n",
       "      <td>Department Stores, Optometrists, Home &amp; Garden...</td>\n",
       "      <td>1</td>\n",
       "    </tr>\n",
       "    <tr>\n",
       "      <th>2</th>\n",
       "      <td>I called WVM on the recommendation of a couple...</td>\n",
       "      <td>Home Services, Packing Services, Movers</td>\n",
       "      <td>1</td>\n",
       "    </tr>\n",
       "    <tr>\n",
       "      <th>3</th>\n",
       "      <td>I've stayed at many Marriott and Renaissance M...</td>\n",
       "      <td>Hotels, Hotels &amp; Travel, Restaurants, Event Pl...</td>\n",
       "      <td>0</td>\n",
       "    </tr>\n",
       "    <tr>\n",
       "      <th>4</th>\n",
       "      <td>The food is always great here. The service fro...</td>\n",
       "      <td>Restaurants, French</td>\n",
       "      <td>1</td>\n",
       "    </tr>\n",
       "  </tbody>\n",
       "</table>\n",
       "</div>"
      ],
      "text/plain": [
       "                                                text  \\\n",
       "0  Apparently Prides Osteria had a rough summer a...   \n",
       "1  This store is pretty good. Not as great as Wal...   \n",
       "2  I called WVM on the recommendation of a couple...   \n",
       "3  I've stayed at many Marriott and Renaissance M...   \n",
       "4  The food is always great here. The service fro...   \n",
       "\n",
       "                                          categories  rate  \n",
       "0  Restaurants, Wine Bars, Nightlife, Farmers Mar...     1  \n",
       "1  Department Stores, Optometrists, Home & Garden...     1  \n",
       "2            Home Services, Packing Services, Movers     1  \n",
       "3  Hotels, Hotels & Travel, Restaurants, Event Pl...     0  \n",
       "4                                Restaurants, French     1  "
      ]
     },
     "execution_count": 13,
     "metadata": {},
     "output_type": "execute_result"
    }
   ],
   "source": [
    "# changing to only 2 labels: if 1 or 2 starts then:negative, if 4 or 5 stars then:positive and delete stars column\n",
    "df_reviews['rate'] = df_reviews['stars'].replace({1:0, 2:0, 4:1, 5:1})\n",
    "df_reviews = df_reviews.drop(['stars'], axis = 1)\n",
    "df_reviews.head(5)"
   ]
  },
  {
   "cell_type": "code",
   "execution_count": 14,
   "id": "f508d61f",
   "metadata": {},
   "outputs": [],
   "source": [
    "#drop null\n",
    "df_reviews.dropna(inplace=True)"
   ]
  },
  {
   "cell_type": "code",
   "execution_count": 15,
   "id": "b1bed22a",
   "metadata": {},
   "outputs": [
    {
     "data": {
      "text/plain": [
       "1    33769\n",
       "0    10212\n",
       "Name: rate, dtype: int64"
      ]
     },
     "execution_count": 15,
     "metadata": {},
     "output_type": "execute_result"
    }
   ],
   "source": [
    "df_reviews['rate'].value_counts()"
   ]
  },
  {
   "cell_type": "code",
   "execution_count": 16,
   "id": "b695bc96",
   "metadata": {},
   "outputs": [
    {
     "data": {
      "text/plain": [
       "count    43981.00000\n",
       "mean       105.75353\n",
       "std         98.58637\n",
       "min          1.00000\n",
       "25%         43.00000\n",
       "50%         76.00000\n",
       "75%        134.00000\n",
       "max       1242.00000\n",
       "Name: length, dtype: float64"
      ]
     },
     "execution_count": 16,
     "metadata": {},
     "output_type": "execute_result"
    }
   ],
   "source": [
    "#checking the length of each review\n",
    "df_reviews['length'] = df_reviews['text'].apply(lambda x : len(x.strip().split(\" \")))\n",
    "df_reviews['length'].describe()"
   ]
  },
  {
   "cell_type": "code",
   "execution_count": 17,
   "id": "d2829e77",
   "metadata": {},
   "outputs": [
    {
     "data": {
      "text/plain": [
       "292.0"
      ]
     },
     "execution_count": 17,
     "metadata": {},
     "output_type": "execute_result"
    }
   ],
   "source": [
    "#checking the 95% quantile from all the sample\n",
    "np.quantile(df_reviews['length'], 0.95)  #we should use this as max length"
   ]
  },
  {
   "cell_type": "code",
   "execution_count": 18,
   "id": "6b8cf7d7",
   "metadata": {},
   "outputs": [
    {
     "data": {
      "text/html": [
       "<div>\n",
       "<style scoped>\n",
       "    .dataframe tbody tr th:only-of-type {\n",
       "        vertical-align: middle;\n",
       "    }\n",
       "\n",
       "    .dataframe tbody tr th {\n",
       "        vertical-align: top;\n",
       "    }\n",
       "\n",
       "    .dataframe thead th {\n",
       "        text-align: right;\n",
       "    }\n",
       "</style>\n",
       "<table border=\"1\" class=\"dataframe\">\n",
       "  <thead>\n",
       "    <tr style=\"text-align: right;\">\n",
       "      <th></th>\n",
       "      <th>text</th>\n",
       "      <th>length</th>\n",
       "    </tr>\n",
       "  </thead>\n",
       "  <tbody>\n",
       "    <tr>\n",
       "      <th>7213</th>\n",
       "      <td>いつもLAからラスベガスに行く途中のお楽しみが、オースティンにあった！！生のポテトを使ったフ...</td>\n",
       "      <td>1</td>\n",
       "    </tr>\n",
       "    <tr>\n",
       "      <th>9094</th>\n",
       "      <td>朋友生日时去吃的，提前订了位置和烤鸭。\\n餐馆依水，景致不错。\\n在我看来只要不是特别惊艳或...</td>\n",
       "      <td>1</td>\n",
       "    </tr>\n",
       "    <tr>\n",
       "      <th>16307</th>\n",
       "      <td>這是一間現已為數不多仍然是推車仔賣奌心的茶樓，真系好鬼懐舊，我朋友叫左虾餃，燒賣同埋魚蓉腸粉...</td>\n",
       "      <td>1</td>\n",
       "    </tr>\n",
       "    <tr>\n",
       "      <th>22383</th>\n",
       "      <td>CLOSED!!\\nhttp://www.boston.com/lifestyle/food...</td>\n",
       "      <td>1</td>\n",
       "    </tr>\n",
       "    <tr>\n",
       "      <th>26207</th>\n",
       "      <td>キーンの横にあるコーヒー屋さん。ショッピングに疲れた時の休憩にぴったり。コーヒーは苦めで美味...</td>\n",
       "      <td>1</td>\n",
       "    </tr>\n",
       "    <tr>\n",
       "      <th>26253</th>\n",
       "      <td>很失望，广告发了很多但是东西都不入味，感觉不像炒的，是不是东西就煮了一下然后倒点酱汁上去就完...</td>\n",
       "      <td>1</td>\n",
       "    </tr>\n",
       "    <tr>\n",
       "      <th>30706</th>\n",
       "      <td>虾、蟹腿等海鲜都不够入味，应该就是白水煮过之类的又浇上酱而已，玉米、香肠等还可以。另外服务人...</td>\n",
       "      <td>1</td>\n",
       "    </tr>\n",
       "    <tr>\n",
       "      <th>46821</th>\n",
       "      <td>服务员太阴阳怪气\\n荤菜和素菜都太难吃了\\n都是美国式的中国菜\\n服务员太阴阳怪气\\n荤菜和...</td>\n",
       "      <td>1</td>\n",
       "    </tr>\n",
       "    <tr>\n",
       "      <th>48776</th>\n",
       "      <td>我今天带着一家人去吃饭，也是第一次去那边，因为是武汉人，别人推荐那边有不错的热干面和各种卤味...</td>\n",
       "      <td>1</td>\n",
       "    </tr>\n",
       "    <tr>\n",
       "      <th>7396</th>\n",
       "      <td>蠻特別的地方\\n結合BAR和保齡球\\n氣氛非常好\\n就算沒有要打 也可以玩得很開心\\n有酒喝...</td>\n",
       "      <td>3</td>\n",
       "    </tr>\n",
       "    <tr>\n",
       "      <th>12676</th>\n",
       "      <td>感恩节有四道菜的精选菜单， 19.95/child 39.95/adult，十分经济实惠，但...</td>\n",
       "      <td>3</td>\n",
       "    </tr>\n",
       "    <tr>\n",
       "      <th>26327</th>\n",
       "      <td>love the flatbread</td>\n",
       "      <td>3</td>\n",
       "    </tr>\n",
       "    <tr>\n",
       "      <th>29482</th>\n",
       "      <td>Favorite non-IMAX theater</td>\n",
       "      <td>3</td>\n",
       "    </tr>\n",
       "    <tr>\n",
       "      <th>34361</th>\n",
       "      <td>BEST PLACE EVAH!!!</td>\n",
       "      <td>3</td>\n",
       "    </tr>\n",
       "    <tr>\n",
       "      <th>34592</th>\n",
       "      <td>Legendary JP establishment.</td>\n",
       "      <td>3</td>\n",
       "    </tr>\n",
       "  </tbody>\n",
       "</table>\n",
       "</div>"
      ],
      "text/plain": [
       "                                                    text  length\n",
       "7213   いつもLAからラスベガスに行く途中のお楽しみが、オースティンにあった！！生のポテトを使ったフ...       1\n",
       "9094   朋友生日时去吃的，提前订了位置和烤鸭。\\n餐馆依水，景致不错。\\n在我看来只要不是特别惊艳或...       1\n",
       "16307  這是一間現已為數不多仍然是推車仔賣奌心的茶樓，真系好鬼懐舊，我朋友叫左虾餃，燒賣同埋魚蓉腸粉...       1\n",
       "22383  CLOSED!!\\nhttp://www.boston.com/lifestyle/food...       1\n",
       "26207  キーンの横にあるコーヒー屋さん。ショッピングに疲れた時の休憩にぴったり。コーヒーは苦めで美味...       1\n",
       "26253  很失望，广告发了很多但是东西都不入味，感觉不像炒的，是不是东西就煮了一下然后倒点酱汁上去就完...       1\n",
       "30706  虾、蟹腿等海鲜都不够入味，应该就是白水煮过之类的又浇上酱而已，玉米、香肠等还可以。另外服务人...       1\n",
       "46821  服务员太阴阳怪气\\n荤菜和素菜都太难吃了\\n都是美国式的中国菜\\n服务员太阴阳怪气\\n荤菜和...       1\n",
       "48776  我今天带着一家人去吃饭，也是第一次去那边，因为是武汉人，别人推荐那边有不错的热干面和各种卤味...       1\n",
       "7396   蠻特別的地方\\n結合BAR和保齡球\\n氣氛非常好\\n就算沒有要打 也可以玩得很開心\\n有酒喝...       3\n",
       "12676  感恩节有四道菜的精选菜单， 19.95/child 39.95/adult，十分经济实惠，但...       3\n",
       "26327                                 love the flatbread       3\n",
       "29482                          Favorite non-IMAX theater       3\n",
       "34361                                 BEST PLACE EVAH!!!       3\n",
       "34592                        Legendary JP establishment.       3"
      ]
     },
     "execution_count": 18,
     "metadata": {},
     "output_type": "execute_result"
    }
   ],
   "source": [
    "# checking the reviews with very small lengths\n",
    "df_reviews[['text', 'length']][df_reviews['length']<=3].sort_values(by='length')"
   ]
  },
  {
   "cell_type": "code",
   "execution_count": 19,
   "id": "546efc60",
   "metadata": {},
   "outputs": [
    {
     "data": {
      "text/html": [
       "<div>\n",
       "<style scoped>\n",
       "    .dataframe tbody tr th:only-of-type {\n",
       "        vertical-align: middle;\n",
       "    }\n",
       "\n",
       "    .dataframe tbody tr th {\n",
       "        vertical-align: top;\n",
       "    }\n",
       "\n",
       "    .dataframe thead th {\n",
       "        text-align: right;\n",
       "    }\n",
       "</style>\n",
       "<table border=\"1\" class=\"dataframe\">\n",
       "  <thead>\n",
       "    <tr style=\"text-align: right;\">\n",
       "      <th></th>\n",
       "      <th>text</th>\n",
       "      <th>categories</th>\n",
       "      <th>rate</th>\n",
       "      <th>length</th>\n",
       "    </tr>\n",
       "  </thead>\n",
       "  <tbody>\n",
       "    <tr>\n",
       "      <th>0</th>\n",
       "      <td>Apparently Prides Osteria had a rough summer a...</td>\n",
       "      <td>Restaurants, Wine Bars, Nightlife, Farmers Mar...</td>\n",
       "      <td>1</td>\n",
       "      <td>322</td>\n",
       "    </tr>\n",
       "    <tr>\n",
       "      <th>1</th>\n",
       "      <td>This store is pretty good. Not as great as Wal...</td>\n",
       "      <td>Department Stores, Optometrists, Home &amp; Garden...</td>\n",
       "      <td>1</td>\n",
       "      <td>123</td>\n",
       "    </tr>\n",
       "    <tr>\n",
       "      <th>2</th>\n",
       "      <td>I called WVM on the recommendation of a couple...</td>\n",
       "      <td>Home Services, Packing Services, Movers</td>\n",
       "      <td>1</td>\n",
       "      <td>112</td>\n",
       "    </tr>\n",
       "    <tr>\n",
       "      <th>3</th>\n",
       "      <td>I've stayed at many Marriott and Renaissance M...</td>\n",
       "      <td>Hotels, Hotels &amp; Travel, Restaurants, Event Pl...</td>\n",
       "      <td>0</td>\n",
       "      <td>71</td>\n",
       "    </tr>\n",
       "    <tr>\n",
       "      <th>4</th>\n",
       "      <td>The food is always great here. The service fro...</td>\n",
       "      <td>Restaurants, French</td>\n",
       "      <td>1</td>\n",
       "      <td>36</td>\n",
       "    </tr>\n",
       "    <tr>\n",
       "      <th>...</th>\n",
       "      <td>...</td>\n",
       "      <td>...</td>\n",
       "      <td>...</td>\n",
       "      <td>...</td>\n",
       "    </tr>\n",
       "    <tr>\n",
       "      <th>49995</th>\n",
       "      <td>My first appointment was with Mandy Denson and...</td>\n",
       "      <td>Hair Salons, Beauty &amp; Spas</td>\n",
       "      <td>1</td>\n",
       "      <td>78</td>\n",
       "    </tr>\n",
       "    <tr>\n",
       "      <th>49996</th>\n",
       "      <td>I am very happy we chose to have dinner at Fly...</td>\n",
       "      <td>American (New), Seafood, Cocktail Bars, Restau...</td>\n",
       "      <td>1</td>\n",
       "      <td>76</td>\n",
       "    </tr>\n",
       "    <tr>\n",
       "      <th>49997</th>\n",
       "      <td>Again, we used our library pass to see this mu...</td>\n",
       "      <td>Shopping, Art Museums, Art Galleries, Arts &amp; E...</td>\n",
       "      <td>1</td>\n",
       "      <td>61</td>\n",
       "    </tr>\n",
       "    <tr>\n",
       "      <th>49998</th>\n",
       "      <td>We've been here several time both with and wit...</td>\n",
       "      <td>Restaurants, American (New), Ramen, Izakaya, J...</td>\n",
       "      <td>1</td>\n",
       "      <td>108</td>\n",
       "    </tr>\n",
       "    <tr>\n",
       "      <th>49999</th>\n",
       "      <td>Been here several times for lunch.  The best f...</td>\n",
       "      <td>Cajun/Creole, Restaurants, Breakfast &amp; Brunch,...</td>\n",
       "      <td>0</td>\n",
       "      <td>79</td>\n",
       "    </tr>\n",
       "  </tbody>\n",
       "</table>\n",
       "<p>43966 rows × 4 columns</p>\n",
       "</div>"
      ],
      "text/plain": [
       "                                                    text  \\\n",
       "0      Apparently Prides Osteria had a rough summer a...   \n",
       "1      This store is pretty good. Not as great as Wal...   \n",
       "2      I called WVM on the recommendation of a couple...   \n",
       "3      I've stayed at many Marriott and Renaissance M...   \n",
       "4      The food is always great here. The service fro...   \n",
       "...                                                  ...   \n",
       "49995  My first appointment was with Mandy Denson and...   \n",
       "49996  I am very happy we chose to have dinner at Fly...   \n",
       "49997  Again, we used our library pass to see this mu...   \n",
       "49998  We've been here several time both with and wit...   \n",
       "49999  Been here several times for lunch.  The best f...   \n",
       "\n",
       "                                              categories  rate  length  \n",
       "0      Restaurants, Wine Bars, Nightlife, Farmers Mar...     1     322  \n",
       "1      Department Stores, Optometrists, Home & Garden...     1     123  \n",
       "2                Home Services, Packing Services, Movers     1     112  \n",
       "3      Hotels, Hotels & Travel, Restaurants, Event Pl...     0      71  \n",
       "4                                    Restaurants, French     1      36  \n",
       "...                                                  ...   ...     ...  \n",
       "49995                         Hair Salons, Beauty & Spas     1      78  \n",
       "49996  American (New), Seafood, Cocktail Bars, Restau...     1      76  \n",
       "49997  Shopping, Art Museums, Art Galleries, Arts & E...     1      61  \n",
       "49998  Restaurants, American (New), Ramen, Izakaya, J...     1     108  \n",
       "49999  Cajun/Creole, Restaurants, Breakfast & Brunch,...     0      79  \n",
       "\n",
       "[43966 rows x 4 columns]"
      ]
     },
     "execution_count": 19,
     "metadata": {},
     "output_type": "execute_result"
    }
   ],
   "source": [
    "df_reviews = df_reviews.loc[df_reviews[\"length\"] != 0]\n",
    "df_reviews = df_reviews.loc[df_reviews[\"length\"] != 1]\n",
    "df_reviews = df_reviews.loc[df_reviews[\"length\"] != 2]\n",
    "df_reviews = df_reviews.loc[df_reviews[\"length\"] != 3]\n",
    "df_reviews"
   ]
  },
  {
   "cell_type": "code",
   "execution_count": 20,
   "id": "c0bf680c",
   "metadata": {},
   "outputs": [
    {
     "name": "stderr",
     "output_type": "stream",
     "text": [
      "C:\\Users\\User\\anaconda3\\lib\\site-packages\\seaborn\\_decorators.py:36: FutureWarning: Pass the following variable as a keyword arg: x. From version 0.12, the only valid positional argument will be `data`, and passing other arguments without an explicit keyword will result in an error or misinterpretation.\n",
      "  warnings.warn(\n"
     ]
    },
    {
     "data": {
      "text/plain": [
       "<AxesSubplot:xlabel='rate', ylabel='count'>"
      ]
     },
     "execution_count": 20,
     "metadata": {},
     "output_type": "execute_result"
    },
    {
     "data": {
      "image/png": "[encoded data removed]",
      "text/plain": [
       "<Figure size 432x288 with 1 Axes>"
      ]
     },
     "metadata": {
      "needs_background": "light"
     },
     "output_type": "display_data"
    }
   ],
   "source": [
    "sns.countplot(df_reviews['rate'])  "
   ]
  },
  {
   "cell_type": "code",
   "execution_count": 21,
   "id": "0def75f1",
   "metadata": {},
   "outputs": [],
   "source": [
    "#balancing the dataset\n",
    "\n",
    "nr_neg = df_reviews[df_reviews['rate']==0].shape[0]\n",
    "nr_pos = df_reviews[df_reviews['rate']==1].shape[0]\n",
    "\n",
    "if nr_pos>nr_neg:\n",
    "    df_reviews = df_reviews.sort_values('rate').head(2*nr_neg)\n",
    "else:\n",
    "    df_reviews = df_reviews.sort_values('rate').tail(2*nr_pos)\n",
    "    \n"
   ]
  },
  {
   "cell_type": "code",
   "execution_count": 22,
   "id": "e726cbbe",
   "metadata": {},
   "outputs": [
    {
     "data": {
      "text/plain": [
       "0    10207\n",
       "1    10207\n",
       "Name: rate, dtype: int64"
      ]
     },
     "execution_count": 22,
     "metadata": {},
     "output_type": "execute_result"
    }
   ],
   "source": [
    "df_reviews['rate'].value_counts()    "
   ]
  },
  {
   "cell_type": "code",
   "execution_count": 23,
   "id": "97e6c935",
   "metadata": {},
   "outputs": [
    {
     "name": "stderr",
     "output_type": "stream",
     "text": [
      "C:\\Users\\User\\anaconda3\\lib\\site-packages\\seaborn\\_decorators.py:36: FutureWarning: Pass the following variable as a keyword arg: x. From version 0.12, the only valid positional argument will be `data`, and passing other arguments without an explicit keyword will result in an error or misinterpretation.\n",
      "  warnings.warn(\n"
     ]
    },
    {
     "data": {
      "text/plain": [
       "<AxesSubplot:xlabel='rate', ylabel='count'>"
      ]
     },
     "execution_count": 23,
     "metadata": {},
     "output_type": "execute_result"
    },
    {
     "data": {
      "image/png": "[encoded data removed]",
      "text/plain": [
       "<Figure size 432x288 with 1 Axes>"
      ]
     },
     "metadata": {
      "needs_background": "light"
     },
     "output_type": "display_data"
    }
   ],
   "source": [
    "sns.countplot(df_reviews['rate'])"
   ]
  },
  {
   "cell_type": "markdown",
   "id": "b153663b",
   "metadata": {},
   "source": [
    "## Data Preproccesing"
   ]
  },
  {
   "cell_type": "code",
   "execution_count": 24,
   "id": "e23aedaa",
   "metadata": {},
   "outputs": [],
   "source": [
    "#word 'not' should not be removed from the dataset as it drastically changes the classification class\n",
    "STOPWORDS\n",
    "s = ({'not'})\n",
    "new_stopwords = STOPWORDS.difference(s)"
   ]
  },
  {
   "cell_type": "code",
   "execution_count": 25,
   "id": "9d254209",
   "metadata": {},
   "outputs": [],
   "source": [
    "for r in df_reviews:\n",
    "    df_reviews['clean_review'] = df_reviews['text'].apply(lambda t: re.sub(r\"https?://[A-Za-z0-9./]+\", ' ', t))\n",
    "    df_reviews['clean_review'] = df_reviews['clean_review'].apply(lambda t: re.sub(r\"[^a-zA-Z]\", ' ', t))\n",
    "    df_reviews['clean_review'] = df_reviews['clean_review'].apply(lambda t: strip_multiple_whitespaces(t))\n",
    "    df_reviews['clean_review'] = df_reviews['clean_review'].apply(lambda t: t.lower())\n",
    "    df_reviews['clean_review'] = df_reviews['clean_review'].apply(lambda t: remove_stopwords(t, new_stopwords))\n",
    "    df_reviews['clean_review'] = df_reviews['clean_review'].apply(lambda t: strip_short(t))    "
   ]
  },
  {
   "cell_type": "code",
   "execution_count": 26,
   "id": "363b31c8",
   "metadata": {},
   "outputs": [
    {
     "data": {
      "text/plain": [
       "49999    times lunch best food tried breakfast meals ri...\n",
       "41887    lazy incompetent sales person richard jenkins ...\n",
       "33162    goes review honestly unhappy decision coming f...\n",
       "22140    jiffy lubes austin far worst toyota camry uses...\n",
       "22138    nice wine food poor service waited mins host f...\n",
       "                               ...                        \n",
       "38580    coffee machine issue months purchase clive sen...\n",
       "38582    awesome great place eat breakfast service quic...\n",
       "38583    best tacos east location small think twice rec...\n",
       "38584    love place relaxing spa like atmosphere damn g...\n",
       "38585    patient jamin years lot muscle tension shoulde...\n",
       "Name: clean_review, Length: 20414, dtype: object"
      ]
     },
     "execution_count": 26,
     "metadata": {},
     "output_type": "execute_result"
    }
   ],
   "source": [
    "df_reviews['clean_review']"
   ]
  },
  {
   "cell_type": "code",
   "execution_count": 27,
   "id": "5ab2ec83",
   "metadata": {},
   "outputs": [],
   "source": [
    "#the new column shoul be converted to string\n",
    "df_reviews['clean_review'] = df_reviews['clean_review'].astype(str)"
   ]
  },
  {
   "cell_type": "code",
   "execution_count": 28,
   "id": "74843b69",
   "metadata": {},
   "outputs": [
    {
     "name": "stdout",
     "output_type": "stream",
     "text": [
      "<class 'pandas.core.frame.DataFrame'>\n",
      "Int64Index: 20414 entries, 49999 to 38585\n",
      "Data columns (total 5 columns):\n",
      " #   Column        Non-Null Count  Dtype \n",
      "---  ------        --------------  ----- \n",
      " 0   text          20414 non-null  object\n",
      " 1   categories    20414 non-null  object\n",
      " 2   rate          20414 non-null  int64 \n",
      " 3   length        20414 non-null  int64 \n",
      " 4   clean_review  20414 non-null  object\n",
      "dtypes: int64(2), object(3)\n",
      "memory usage: 1.4+ MB\n"
     ]
    }
   ],
   "source": [
    "df_reviews.info()"
   ]
  },
  {
   "cell_type": "code",
   "execution_count": 29,
   "id": "7bfb5aaa",
   "metadata": {},
   "outputs": [
    {
     "data": {
      "text/plain": [
       "count    20414.000000\n",
       "mean        48.592241\n",
       "std         43.828796\n",
       "min          1.000000\n",
       "25%         21.000000\n",
       "50%         35.000000\n",
       "75%         61.000000\n",
       "max        441.000000\n",
       "Name: length_clean_review, dtype: float64"
      ]
     },
     "execution_count": 29,
     "metadata": {},
     "output_type": "execute_result"
    }
   ],
   "source": [
    "#checking the length of each review\n",
    "df_reviews['length_clean_review'] = df_reviews['clean_review'].astype(str).apply(lambda x : len(x.strip().split(\" \")))\n",
    "df_reviews['length_clean_review'].describe()"
   ]
  },
  {
   "cell_type": "code",
   "execution_count": 30,
   "id": "00bf451d",
   "metadata": {},
   "outputs": [
    {
     "data": {
      "text/plain": [
       "<Figure size 1800x7200 with 0 Axes>"
      ]
     },
     "metadata": {},
     "output_type": "display_data"
    },
    {
     "data": {
      "image/png": "[encoded data removed]",
      "text/plain": [
       "<Figure size 402.375x360 with 1 Axes>"
      ]
     },
     "metadata": {
      "needs_background": "light"
     },
     "output_type": "display_data"
    }
   ],
   "source": [
    "plt.figure(figsize=(25, 100))\n",
    "plot = sns.displot(data=df_reviews, x='length_clean_review', hue='rate', multiple='stack', bins=np.arange(0,450,25))"
   ]
  },
  {
   "cell_type": "code",
   "execution_count": 31,
   "id": "0b24be78",
   "metadata": {},
   "outputs": [],
   "source": [
    "df_reviews.to_csv('../Dataset/all_reviews.csv')"
   ]
  },
  {
   "cell_type": "code",
   "execution_count": 32,
   "id": "fd39331b",
   "metadata": {},
   "outputs": [],
   "source": [
    "X = df_reviews.drop(['rate'], axis = 1)\n",
    "y = df_reviews['rate']\n",
    "X_train, X_test, y_train, y_test = train_test_split(X, y, test_size=0.2, random_state=42)"
   ]
  },
  {
   "cell_type": "code",
   "execution_count": 33,
   "id": "1a75005f",
   "metadata": {},
   "outputs": [],
   "source": [
    "X_train.to_csv('../Dataset/X_train_all.csv')\n",
    "X_test.to_csv('../Dataset/X_test_all.csv')\n",
    "y_train.to_csv('../Dataset/y_train_all.csv')\n",
    "y_test.to_csv('../Dataset/y_test_all.csv')"
   ]
  },
  {
   "cell_type": "code",
   "execution_count": 34,
   "id": "e7824443",
   "metadata": {},
   "outputs": [
    {
     "data": {
      "text/html": [
       "<div>\n",
       "<style scoped>\n",
       "    .dataframe tbody tr th:only-of-type {\n",
       "        vertical-align: middle;\n",
       "    }\n",
       "\n",
       "    .dataframe tbody tr th {\n",
       "        vertical-align: top;\n",
       "    }\n",
       "\n",
       "    .dataframe thead th {\n",
       "        text-align: right;\n",
       "    }\n",
       "</style>\n",
       "<table border=\"1\" class=\"dataframe\">\n",
       "  <thead>\n",
       "    <tr style=\"text-align: right;\">\n",
       "      <th></th>\n",
       "      <th>text</th>\n",
       "      <th>categories</th>\n",
       "      <th>rate</th>\n",
       "      <th>length</th>\n",
       "      <th>clean_review</th>\n",
       "      <th>length_clean_review</th>\n",
       "    </tr>\n",
       "  </thead>\n",
       "  <tbody>\n",
       "    <tr>\n",
       "      <th>49999</th>\n",
       "      <td>Been here several times for lunch.  The best f...</td>\n",
       "      <td>Cajun/Creole, Restaurants, Breakfast &amp; Brunch,...</td>\n",
       "      <td>0</td>\n",
       "      <td>79</td>\n",
       "      <td>times lunch best food tried breakfast meals ri...</td>\n",
       "      <td>40</td>\n",
       "    </tr>\n",
       "    <tr>\n",
       "      <th>41887</th>\n",
       "      <td>Lazy and incompetent sales person.  Richard Je...</td>\n",
       "      <td>Automotive, Car Dealers, Auto Repair, Auto Par...</td>\n",
       "      <td>0</td>\n",
       "      <td>191</td>\n",
       "      <td>lazy incompetent sales person richard jenkins ...</td>\n",
       "      <td>73</td>\n",
       "    </tr>\n",
       "    <tr>\n",
       "      <th>33162</th>\n",
       "      <td>So here it goes my first review. I honestly wa...</td>\n",
       "      <td>American (New), Nightlife, American (Tradition...</td>\n",
       "      <td>0</td>\n",
       "      <td>152</td>\n",
       "      <td>goes review honestly unhappy decision coming f...</td>\n",
       "      <td>57</td>\n",
       "    </tr>\n",
       "    <tr>\n",
       "      <th>22140</th>\n",
       "      <td>I've been to several Jiffy Lubes around Austin...</td>\n",
       "      <td>Automotive, Oil Change Stations, Windshield In...</td>\n",
       "      <td>0</td>\n",
       "      <td>246</td>\n",
       "      <td>jiffy lubes austin far worst toyota camry uses...</td>\n",
       "      <td>101</td>\n",
       "    </tr>\n",
       "    <tr>\n",
       "      <th>22138</th>\n",
       "      <td>nice wine, so-so food, poor service.   \\n\\nWai...</td>\n",
       "      <td>Restaurants, French</td>\n",
       "      <td>0</td>\n",
       "      <td>173</td>\n",
       "      <td>nice wine food poor service waited mins host f...</td>\n",
       "      <td>69</td>\n",
       "    </tr>\n",
       "    <tr>\n",
       "      <th>41879</th>\n",
       "      <td>You may think the long lines are an indicator ...</td>\n",
       "      <td>Food Stands, Food, Coffee &amp; Tea, Chocolatiers ...</td>\n",
       "      <td>0</td>\n",
       "      <td>273</td>\n",
       "      <td>think long lines indicator high demand great f...</td>\n",
       "      <td>131</td>\n",
       "    </tr>\n",
       "    <tr>\n",
       "      <th>10665</th>\n",
       "      <td>This gym has a great set up but the lack of ai...</td>\n",
       "      <td>Leisure Centers, Climbing, Fitness &amp; Instructi...</td>\n",
       "      <td>0</td>\n",
       "      <td>45</td>\n",
       "      <td>gym great set lack airconditioning summer brut...</td>\n",
       "      <td>15</td>\n",
       "    </tr>\n",
       "    <tr>\n",
       "      <th>33169</th>\n",
       "      <td>The worst strip show ever! Guys were not attra...</td>\n",
       "      <td>Event Planning &amp; Services, Arts &amp; Entertainmen...</td>\n",
       "      <td>0</td>\n",
       "      <td>53</td>\n",
       "      <td>worst strip guys not attractive horrible start...</td>\n",
       "      <td>24</td>\n",
       "    </tr>\n",
       "    <tr>\n",
       "      <th>10670</th>\n",
       "      <td>I love this Whole Foods because it is the pers...</td>\n",
       "      <td>Food, Hotels &amp; Travel, Health Markets, Grocery...</td>\n",
       "      <td>0</td>\n",
       "      <td>38</td>\n",
       "      <td>love foods personification life boston bitter ...</td>\n",
       "      <td>17</td>\n",
       "    </tr>\n",
       "    <tr>\n",
       "      <th>10671</th>\n",
       "      <td>I was happy to see a new restaurant open up in...</td>\n",
       "      <td>Italian, Pizza, Restaurants, Cocktail Bars, Ni...</td>\n",
       "      <td>0</td>\n",
       "      <td>147</td>\n",
       "      <td>happy new restaurant open east andrews finally...</td>\n",
       "      <td>59</td>\n",
       "    </tr>\n",
       "  </tbody>\n",
       "</table>\n",
       "</div>"
      ],
      "text/plain": [
       "                                                    text  \\\n",
       "49999  Been here several times for lunch.  The best f...   \n",
       "41887  Lazy and incompetent sales person.  Richard Je...   \n",
       "33162  So here it goes my first review. I honestly wa...   \n",
       "22140  I've been to several Jiffy Lubes around Austin...   \n",
       "22138  nice wine, so-so food, poor service.   \\n\\nWai...   \n",
       "41879  You may think the long lines are an indicator ...   \n",
       "10665  This gym has a great set up but the lack of ai...   \n",
       "33169  The worst strip show ever! Guys were not attra...   \n",
       "10670  I love this Whole Foods because it is the pers...   \n",
       "10671  I was happy to see a new restaurant open up in...   \n",
       "\n",
       "                                              categories  rate  length  \\\n",
       "49999  Cajun/Creole, Restaurants, Breakfast & Brunch,...     0      79   \n",
       "41887  Automotive, Car Dealers, Auto Repair, Auto Par...     0     191   \n",
       "33162  American (New), Nightlife, American (Tradition...     0     152   \n",
       "22140  Automotive, Oil Change Stations, Windshield In...     0     246   \n",
       "22138                                Restaurants, French     0     173   \n",
       "41879  Food Stands, Food, Coffee & Tea, Chocolatiers ...     0     273   \n",
       "10665  Leisure Centers, Climbing, Fitness & Instructi...     0      45   \n",
       "33169  Event Planning & Services, Arts & Entertainmen...     0      53   \n",
       "10670  Food, Hotels & Travel, Health Markets, Grocery...     0      38   \n",
       "10671  Italian, Pizza, Restaurants, Cocktail Bars, Ni...     0     147   \n",
       "\n",
       "                                            clean_review  length_clean_review  \n",
       "49999  times lunch best food tried breakfast meals ri...                   40  \n",
       "41887  lazy incompetent sales person richard jenkins ...                   73  \n",
       "33162  goes review honestly unhappy decision coming f...                   57  \n",
       "22140  jiffy lubes austin far worst toyota camry uses...                  101  \n",
       "22138  nice wine food poor service waited mins host f...                   69  \n",
       "41879  think long lines indicator high demand great f...                  131  \n",
       "10665  gym great set lack airconditioning summer brut...                   15  \n",
       "33169  worst strip guys not attractive horrible start...                   24  \n",
       "10670  love foods personification life boston bitter ...                   17  \n",
       "10671  happy new restaurant open east andrews finally...                   59  "
      ]
     },
     "execution_count": 34,
     "metadata": {},
     "output_type": "execute_result"
    }
   ],
   "source": [
    "df_reviews.head(10)"
   ]
  },
  {
   "cell_type": "markdown",
   "id": "9736a116",
   "metadata": {},
   "source": [
    "### Other Transformations "
   ]
  },
  {
   "cell_type": "markdown",
   "id": "436ac219",
   "metadata": {},
   "source": [
    "#### Check number of unique words"
   ]
  },
  {
   "cell_type": "code",
   "execution_count": 131,
   "id": "e69d36e8",
   "metadata": {},
   "outputs": [],
   "source": [
    "all_words = df_reviews.clean_review.tolist() #astype(str)\n",
    "word_string = ' '.join(all_words)"
   ]
  },
  {
   "cell_type": "code",
   "execution_count": 132,
   "id": "fd1cdecc",
   "metadata": {},
   "outputs": [
    {
     "data": {
      "text/plain": [
       "35027"
      ]
     },
     "execution_count": 132,
     "metadata": {},
     "output_type": "execute_result"
    }
   ],
   "source": [
    "len(set(word_string.split())) #number of unique words "
   ]
  },
  {
   "cell_type": "code",
   "execution_count": 133,
   "id": "4ef39c82",
   "metadata": {},
   "outputs": [],
   "source": [
    "def word_count(str):\n",
    "    counts = dict()\n",
    "    words = str.split()\n",
    "\n",
    "    for word in words:\n",
    "        if word in counts:\n",
    "            counts[word] += 1\n",
    "        else:\n",
    "            counts[word] = 1\n",
    "\n",
    "    return counts"
   ]
  },
  {
   "cell_type": "code",
   "execution_count": 134,
   "id": "7abc67d0",
   "metadata": {},
   "outputs": [],
   "source": [
    "w = word_count(word_string)"
   ]
  },
  {
   "cell_type": "code",
   "execution_count": 135,
   "id": "26af71e2",
   "metadata": {},
   "outputs": [
    {
     "data": {
      "text/html": [
       "<div>\n",
       "<style scoped>\n",
       "    .dataframe tbody tr th:only-of-type {\n",
       "        vertical-align: middle;\n",
       "    }\n",
       "\n",
       "    .dataframe tbody tr th {\n",
       "        vertical-align: top;\n",
       "    }\n",
       "\n",
       "    .dataframe thead th {\n",
       "        text-align: right;\n",
       "    }\n",
       "</style>\n",
       "<table border=\"1\" class=\"dataframe\">\n",
       "  <thead>\n",
       "    <tr style=\"text-align: right;\">\n",
       "      <th></th>\n",
       "      <th>Word</th>\n",
       "      <th>Frequency</th>\n",
       "    </tr>\n",
       "  </thead>\n",
       "  <tbody>\n",
       "    <tr>\n",
       "      <th>2</th>\n",
       "      <td>not</td>\n",
       "      <td>16278</td>\n",
       "    </tr>\n",
       "    <tr>\n",
       "      <th>65</th>\n",
       "      <td>food</td>\n",
       "      <td>11337</td>\n",
       "    </tr>\n",
       "    <tr>\n",
       "      <th>15</th>\n",
       "      <td>place</td>\n",
       "      <td>9915</td>\n",
       "    </tr>\n",
       "    <tr>\n",
       "      <th>18</th>\n",
       "      <td>good</td>\n",
       "      <td>9178</td>\n",
       "    </tr>\n",
       "    <tr>\n",
       "      <th>285</th>\n",
       "      <td>like</td>\n",
       "      <td>7575</td>\n",
       "    </tr>\n",
       "    <tr>\n",
       "      <th>50</th>\n",
       "      <td>service</td>\n",
       "      <td>7464</td>\n",
       "    </tr>\n",
       "    <tr>\n",
       "      <th>126</th>\n",
       "      <td>time</td>\n",
       "      <td>7256</td>\n",
       "    </tr>\n",
       "    <tr>\n",
       "      <th>377</th>\n",
       "      <td>great</td>\n",
       "      <td>7198</td>\n",
       "    </tr>\n",
       "    <tr>\n",
       "      <th>139</th>\n",
       "      <td>got</td>\n",
       "      <td>4360</td>\n",
       "    </tr>\n",
       "    <tr>\n",
       "      <th>166</th>\n",
       "      <td>order</td>\n",
       "      <td>3829</td>\n",
       "    </tr>\n",
       "  </tbody>\n",
       "</table>\n",
       "</div>"
      ],
      "text/plain": [
       "        Word  Frequency\n",
       "2        not      16278\n",
       "65      food      11337\n",
       "15     place       9915\n",
       "18      good       9178\n",
       "285     like       7575\n",
       "50   service       7464\n",
       "126     time       7256\n",
       "377    great       7198\n",
       "139      got       4360\n",
       "166    order       3829"
      ]
     },
     "execution_count": 135,
     "metadata": {},
     "output_type": "execute_result"
    }
   ],
   "source": [
    "data_items = w.items()\n",
    "data_list = list(data_items)\n",
    "df = pd.DataFrame(data_list, columns = ['Word', 'Frequency'])\n",
    "df.sort_values(by=\"Frequency\", ascending=False)[:10]"
   ]
  },
  {
   "cell_type": "code",
   "execution_count": 155,
   "id": "a471d3c1",
   "metadata": {},
   "outputs": [
    {
     "data": {
      "text/html": [
       "<div>\n",
       "<style scoped>\n",
       "    .dataframe tbody tr th:only-of-type {\n",
       "        vertical-align: middle;\n",
       "    }\n",
       "\n",
       "    .dataframe tbody tr th {\n",
       "        vertical-align: top;\n",
       "    }\n",
       "\n",
       "    .dataframe thead th {\n",
       "        text-align: right;\n",
       "    }\n",
       "</style>\n",
       "<table border=\"1\" class=\"dataframe\">\n",
       "  <thead>\n",
       "    <tr style=\"text-align: right;\">\n",
       "      <th></th>\n",
       "      <th>Word</th>\n",
       "      <th>Frequency</th>\n",
       "    </tr>\n",
       "  </thead>\n",
       "  <tbody>\n",
       "    <tr>\n",
       "      <th>12</th>\n",
       "      <td>frathouse</td>\n",
       "      <td>1</td>\n",
       "    </tr>\n",
       "    <tr>\n",
       "      <th>69</th>\n",
       "      <td>laffa</td>\n",
       "      <td>1</td>\n",
       "    </tr>\n",
       "    <tr>\n",
       "      <th>182</th>\n",
       "      <td>diffrent</td>\n",
       "      <td>1</td>\n",
       "    </tr>\n",
       "    <tr>\n",
       "      <th>186</th>\n",
       "      <td>shebwas</td>\n",
       "      <td>1</td>\n",
       "    </tr>\n",
       "    <tr>\n",
       "      <th>217</th>\n",
       "      <td>thet</td>\n",
       "      <td>1</td>\n",
       "    </tr>\n",
       "    <tr>\n",
       "      <th>...</th>\n",
       "      <td>...</td>\n",
       "      <td>...</td>\n",
       "    </tr>\n",
       "    <tr>\n",
       "      <th>35021</th>\n",
       "      <td>barcelos</td>\n",
       "      <td>1</td>\n",
       "    </tr>\n",
       "    <tr>\n",
       "      <th>35023</th>\n",
       "      <td>cringing</td>\n",
       "      <td>1</td>\n",
       "    </tr>\n",
       "    <tr>\n",
       "      <th>35024</th>\n",
       "      <td>musicmknmarvel</td>\n",
       "      <td>1</td>\n",
       "    </tr>\n",
       "    <tr>\n",
       "      <th>35025</th>\n",
       "      <td>machin</td>\n",
       "      <td>1</td>\n",
       "    </tr>\n",
       "    <tr>\n",
       "      <th>35026</th>\n",
       "      <td>burgled</td>\n",
       "      <td>1</td>\n",
       "    </tr>\n",
       "  </tbody>\n",
       "</table>\n",
       "<p>14381 rows × 2 columns</p>\n",
       "</div>"
      ],
      "text/plain": [
       "                 Word  Frequency\n",
       "12          frathouse          1\n",
       "69              laffa          1\n",
       "182          diffrent          1\n",
       "186           shebwas          1\n",
       "217              thet          1\n",
       "...               ...        ...\n",
       "35021        barcelos          1\n",
       "35023        cringing          1\n",
       "35024  musicmknmarvel          1\n",
       "35025          machin          1\n",
       "35026         burgled          1\n",
       "\n",
       "[14381 rows x 2 columns]"
      ]
     },
     "execution_count": 155,
     "metadata": {},
     "output_type": "execute_result"
    }
   ],
   "source": [
    "#df_freq_1 = df[df['Frequency'] ==1]\n",
    "df_freq_1"
   ]
  },
  {
   "cell_type": "markdown",
   "id": "d8a1936e",
   "metadata": {},
   "source": [
    "From the most common words, we cannot delete them because some of them are important for the context of the sentence, but the words that are used only once, look more like typos, so we remove them from the senteces."
   ]
  },
  {
   "cell_type": "code",
   "execution_count": 140,
   "id": "1ded5faf",
   "metadata": {},
   "outputs": [],
   "source": [
    "def multiple_word_remove_func(text, words_2_remove_list):\n",
    " \n",
    "    words_to_remove_list = words_2_remove_list\n",
    "    \n",
    "    words = word_tokenize(text)\n",
    "    text = ' '.join([word for word in words if word not in words_to_remove_list])\n",
    "    return text"
   ]
  },
  {
   "cell_type": "code",
   "execution_count": 156,
   "id": "6ad23521",
   "metadata": {
    "scrolled": false
   },
   "outputs": [],
   "source": [
    "words_2_remove_list = df_freq_1['Word'].tolist()\n",
    "#checking the length of each review\n",
    "df_reviews['clean_review'] = df_reviews['clean_review'].astype(str).apply(lambda x : multiple_word_remove_func(x, words_2_remove_list))"
   ]
  },
  {
   "cell_type": "code",
   "execution_count": 157,
   "id": "b7a99c89",
   "metadata": {},
   "outputs": [],
   "source": [
    "X_train['clean_review'] = X_train['clean_review'].astype(str).apply(lambda x : multiple_word_remove_func(x, words_2_remove_list))\n",
    "X_test['clean_review'] = X_test['clean_review'].astype(str).apply(lambda x : multiple_word_remove_func(x, words_2_remove_list))"
   ]
  },
  {
   "cell_type": "markdown",
   "id": "75dd262b",
   "metadata": {},
   "source": [
    "#### Convert and save data as pad_sequences"
   ]
  },
  {
   "cell_type": "code",
   "execution_count": null,
   "id": "a46899ff",
   "metadata": {},
   "outputs": [],
   "source": [
    "#padding sequences\n",
    "train_sentences = X_train.clean_review\n",
    "test_sentences = X_test.clean_review\n",
    "all_sentences = df_reviews.clean_review"
   ]
  },
  {
   "cell_type": "code",
   "execution_count": 160,
   "id": "a47183c4",
   "metadata": {},
   "outputs": [],
   "source": [
    "#word index dictionary\n",
    "tokenizer = Tokenizer()\n",
    "tokenizer.fit_on_texts(all_sentences)\n",
    "word_index = tokenizer.word_index"
   ]
  },
  {
   "cell_type": "code",
   "execution_count": 161,
   "id": "c0f89f79",
   "metadata": {},
   "outputs": [
    {
     "data": {
      "text/plain": [
       "20646"
      ]
     },
     "execution_count": 161,
     "metadata": {},
     "output_type": "execute_result"
    }
   ],
   "source": [
    "len(word_index)"
   ]
  },
  {
   "cell_type": "code",
   "execution_count": 162,
   "id": "3e08fb35",
   "metadata": {},
   "outputs": [],
   "source": [
    "with open('../saved_data/word_index', 'wb') as f:\n",
    "    pickle.dump(word_index, f)"
   ]
  },
  {
   "cell_type": "code",
   "execution_count": 163,
   "id": "139a22b5",
   "metadata": {},
   "outputs": [],
   "source": [
    "max_length = 50\n",
    "\n",
    "#train dataset\n",
    "train_sequences = tokenizer.texts_to_sequences(train_sentences)\n",
    "train_padded = pad_sequences(\n",
    "    train_sequences, maxlen=max_length, padding=\"post\", truncating=\"post\")\n",
    "\n",
    "#test dataset\n",
    "test_sequences = tokenizer.texts_to_sequences(test_sentences)\n",
    "test_padded = pad_sequences(\n",
    "    test_sequences, maxlen=max_length, padding=\"post\", truncating=\"post\")"
   ]
  },
  {
   "cell_type": "code",
   "execution_count": 165,
   "id": "aa7e273c",
   "metadata": {},
   "outputs": [],
   "source": [
    "with open('../saved_data/train_padded', 'wb') as f:\n",
    "    pickle.dump(train_padded, f)\n",
    "    \n",
    "with open('../saved_data/test_padded', 'wb') as f:\n",
    "    pickle.dump(test_padded, f)    "
   ]
  }
 ],
 "metadata": {
  "kernelspec": {
   "display_name": "Python 3",
   "language": "python",
   "name": "python3"
  },
  "language_info": {
   "codemirror_mode": {
    "name": "ipython",
    "version": 3
   },
   "file_extension": ".py",
   "mimetype": "text/x-python",
   "name": "python",
   "nbconvert_exporter": "python",
   "pygments_lexer": "ipython3",
   "version": "3.8.8"
  }
 },
 "nbformat": 4,
 "nbformat_minor": 5
}
